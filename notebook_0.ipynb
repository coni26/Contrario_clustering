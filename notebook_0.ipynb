{
 "cells": [
  {
   "cell_type": "code",
   "execution_count": 1,
   "id": "7cc50f8a-9a6e-4558-9121-21bdc19e98d8",
   "metadata": {
    "tags": []
   },
   "outputs": [],
   "source": [
    "import numpy as np\n",
    "import pandas as pd\n",
    "import matplotlib.pyplot as plt"
   ]
  },
  {
   "cell_type": "code",
   "execution_count": 2,
   "id": "518e5e38-9d4f-4dab-9b6d-c11dd56d788e",
   "metadata": {
    "tags": []
   },
   "outputs": [],
   "source": [
    "X_0 = np.random.rand(20,2) + 1\n",
    "X_1 = np.random.rand(20,2) - 1\n",
    "X = np.concatenate([X_0, X_1])\n",
    "#np.random.shuffle(X)"
   ]
  },
  {
   "cell_type": "code",
   "execution_count": 3,
   "id": "86fb2fd9-53f5-4654-9db7-80a170dff248",
   "metadata": {
    "tags": []
   },
   "outputs": [],
   "source": [
    "def L2_dist(a, b):\n",
    "    return np.linalg.norm(a-b)"
   ]
  },
  {
   "cell_type": "code",
   "execution_count": 4,
   "id": "60ab8a20-9d02-497f-a64a-bf4a164b43ec",
   "metadata": {
    "tags": []
   },
   "outputs": [],
   "source": [
    "def compute_G0(X, d=L2_dist):\n",
    "    W = np.zeros((len(X), len(X)))\n",
    "    for i in range(len(X)-1):\n",
    "        for j in range(i+1, len(X)):\n",
    "            W[i, j] = d(X[i], X[j])\n",
    "            W[j, i] = d(X[i], X[j])\n",
    "    D_sqinv = np.diag(np.sum(W, axis=0) ** -0.5)\n",
    "    return W, D_sqinv"
   ]
  },
  {
   "cell_type": "code",
   "execution_count": 5,
   "id": "bcd09fc2-415b-4b64-855d-8f2058e8e107",
   "metadata": {
    "tags": []
   },
   "outputs": [],
   "source": [
    "W, D_sqinv = compute_G0(X)"
   ]
  },
  {
   "cell_type": "code",
   "execution_count": 6,
   "id": "b554282c-3907-4bd5-86be-325fb4b1d3a5",
   "metadata": {
    "tags": []
   },
   "outputs": [],
   "source": [
    "def compute_laplacian(W, D_sqinv):\n",
    "    return np.eye(len(W)) - D_sqinv @ W @ D_sqinv"
   ]
  },
  {
   "cell_type": "code",
   "execution_count": 7,
   "id": "9b693b3e-2d01-4967-8c51-2c3ee641e375",
   "metadata": {
    "tags": []
   },
   "outputs": [],
   "source": [
    "L = compute_laplacian(W, D_sqinv)"
   ]
  },
  {
   "cell_type": "code",
   "execution_count": 8,
   "id": "80abfc47-d555-4f97-b866-0114713fcee1",
   "metadata": {
    "tags": []
   },
   "outputs": [],
   "source": [
    "def compute_AM_normalised(L, D_sqinv, M=len(L)):\n",
    "    V, A = np.linalg.eig(L)\n",
    "    V = 1 - V\n",
    "    idx = V.argsort()  \n",
    "    V = V[idx]\n",
    "    A = A[:,idx]\n",
    "    V = np.diag(V)\n",
    "    A = A[:, :M]\n",
    "    return D_sqinv @ A"
   ]
  },
  {
   "cell_type": "code",
   "execution_count": 9,
   "id": "0197d8c6-1466-4ab8-827f-86af8596e7bd",
   "metadata": {
    "tags": []
   },
   "outputs": [],
   "source": [
    "A = compute_AM_normalised(L, D_sqinv, 3)"
   ]
  },
  {
   "cell_type": "code",
   "execution_count": 49,
   "id": "221f0487-a759-4bb3-a717-e98a60c89737",
   "metadata": {
    "tags": []
   },
   "outputs": [],
   "source": [
    "class Graph:\n",
    "    def __init__(self, vertices):\n",
    "        self.V = vertices\n",
    "        self.graph = []\n",
    "\n",
    "    def add_edge(self, u, v, w):\n",
    "        self.graph.append([u, v, w])\n",
    "\n",
    "    # Search function, ça trouve un point fixe en fait, en partant de celui qu'on veut\n",
    "\n",
    "    def find(self, parent, i):\n",
    "        if parent[i] == i:\n",
    "            return i\n",
    "        return self.find(parent, parent[i])\n",
    "\n",
    "    def apply_union(self, parent, rank, x, y):\n",
    "        xroot = self.find(parent, x)\n",
    "        yroot = self.find(parent, y)\n",
    "        if rank[xroot] < rank[yroot]:\n",
    "            parent[xroot] = yroot\n",
    "        elif rank[xroot] > rank[yroot]:\n",
    "            parent[yroot] = xroot\n",
    "        else:\n",
    "            parent[yroot] = xroot\n",
    "            rank[xroot] += 1\n",
    "\n",
    "    #  Applying Kruskal algorithm\n",
    "    def kruskal_algo(self):\n",
    "        result = []\n",
    "        hierarchy = []\n",
    "        i, e = 0, 0\n",
    "        self.graph = sorted(self.graph, key=lambda item: item[2])\n",
    "        rank = [0] * self.V\n",
    "        parent = list(range(self.V))\n",
    "        while e < self.V - 1:\n",
    "            u, v, w = self.graph[i]\n",
    "            i += 1\n",
    "            x = self.find(parent, u)\n",
    "            y = self.find(parent, v)\n",
    "            if x != y:\n",
    "                e += 1\n",
    "                result.append([u, v, w])\n",
    "                self.apply_union(parent, rank, x, y)\n",
    "            hierarchy.append(result.copy())\n",
    "        return hierarchy\n"
   ]
  },
  {
   "cell_type": "code",
   "execution_count": 50,
   "id": "3f5ca31b-7f36-4cc7-9bde-2087bbbf5c35",
   "metadata": {
    "tags": []
   },
   "outputs": [
    {
     "data": {
      "text/plain": [
       "[[[0, 3, 1]], [[0, 3, 1], [1, 2, 2]], [[0, 3, 1], [1, 2, 2], [2, 3, 4]]]"
      ]
     },
     "execution_count": 50,
     "metadata": {},
     "output_type": "execute_result"
    }
   ],
   "source": [
    "g = Graph(4)\n",
    "#g.add_edge(0, 1, 4)\n",
    "#g.add_edge(0, 2, 1)\n",
    "#g.add_edge(0, 3, 2)\n",
    "#g.add_edge(1, 2, 5)\n",
    "#g.add_edge(1, 3, 3)\n",
    "#g.add_edge(2, 3, 8)\n",
    "g.add_edge(0, 1, 8)\n",
    "g.add_edge(0, 2, 6)\n",
    "g.add_edge(0, 3, 1)\n",
    "g.add_edge(1, 2, 2)\n",
    "g.add_edge(1, 3, 5)\n",
    "g.add_edge(2, 3, 4)\n",
    "\n",
    "g.kruskal_algo()"
   ]
  },
  {
   "cell_type": "code",
   "execution_count": 51,
   "id": "75d51c42-79d9-4219-8397-2c35d269fc7c",
   "metadata": {
    "tags": []
   },
   "outputs": [],
   "source": [
    "def compute_Ge(A, d=L2_dist):\n",
    "    g = Graph(len(A))\n",
    "    W = np.zeros((len(A), len(A)))\n",
    "    for i in range(len(A)-1):\n",
    "        for j in range(i+1, len(A)):\n",
    "            W[i, j] = d(A[i], A[j])\n",
    "            W[j, i] = d(A[i], A[j])\n",
    "            g.add_edge(i, j, d(A[i], A[j]))\n",
    "    return W, g"
   ]
  },
  {
   "cell_type": "code",
   "execution_count": 52,
   "id": "de577b2b-2b0a-435d-9c8a-c14aa7301eb6",
   "metadata": {
    "tags": []
   },
   "outputs": [],
   "source": [
    "W, g = compute_Ge(A)"
   ]
  },
  {
   "cell_type": "code",
   "execution_count": 53,
   "id": "0faaad24-bbd2-40bd-858e-61d5dbf17ca0",
   "metadata": {
    "tags": []
   },
   "outputs": [],
   "source": [
    "hierarchy = g.kruskal_algo()"
   ]
  },
  {
   "cell_type": "code",
   "execution_count": null,
   "id": "7f33b15a-84fa-4e8c-9a3b-cb56268f32ee",
   "metadata": {},
   "outputs": [],
   "source": []
  },
  {
   "cell_type": "code",
   "execution_count": null,
   "id": "238c0f0c-735a-4c11-b751-3d1ad70a79fc",
   "metadata": {},
   "outputs": [],
   "source": []
  },
  {
   "cell_type": "code",
   "execution_count": null,
   "id": "6561742d-4b7a-4048-b617-56fc696873df",
   "metadata": {},
   "outputs": [],
   "source": []
  },
  {
   "cell_type": "code",
   "execution_count": null,
   "id": "c72fc9f8-bfc8-4315-9e73-935a0a9bed58",
   "metadata": {},
   "outputs": [],
   "source": []
  },
  {
   "cell_type": "code",
   "execution_count": null,
   "id": "582c0606-0a3d-4b90-8e63-fe340d77fca7",
   "metadata": {},
   "outputs": [],
   "source": []
  },
  {
   "cell_type": "code",
   "execution_count": 14,
   "id": "ca65ccbc-d6fb-4a6f-9d43-9d48fabb4d56",
   "metadata": {
    "tags": []
   },
   "outputs": [
    {
     "data": {
      "text/plain": [
       "[<matplotlib.lines.Line2D at 0x7f98b8ad0a90>]"
      ]
     },
     "execution_count": 14,
     "metadata": {},
     "output_type": "execute_result"
    },
    {
     "data": {
      "image/png": "[encoded data removed]",
      "text/plain": [
       "<Figure size 640x480 with 1 Axes>"
      ]
     },
     "metadata": {},
     "output_type": "display_data"
    }
   ],
   "source": [
    "plt.plot(X[:,0], X[:,1], 'r+')"
   ]
  },
  {
   "cell_type": "code",
   "execution_count": null,
   "id": "13abb089-5921-42f4-9af5-c16cebf40135",
   "metadata": {},
   "outputs": [],
   "source": []
  },
  {
   "cell_type": "code",
   "execution_count": null,
   "id": "ffc78141-55f9-4c96-ab05-e958f6efe04c",
   "metadata": {},
   "outputs": [],
   "source": []
  }
 ],
 "metadata": {
  "kernelspec": {
   "display_name": "Python 3 (ipykernel)",
   "language": "python",
   "name": "python3"
  },
  "language_info": {
   "codemirror_mode": {
    "name": "ipython",
    "version": 3
   },
   "file_extension": ".py",
   "mimetype": "text/x-python",
   "name": "python",
   "nbconvert_exporter": "python",
   "pygments_lexer": "ipython3",
   "version": "3.10.8"
  }
 },
 "nbformat": 4,
 "nbformat_minor": 5
}
