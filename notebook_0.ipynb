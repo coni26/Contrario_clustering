{
 "cells": [
  {
   "cell_type": "code",
   "execution_count": 79,
   "id": "7cc50f8a-9a6e-4558-9121-21bdc19e98d8",
   "metadata": {
    "tags": []
   },
   "outputs": [],
   "source": [
    "import numpy as np\n",
    "import pandas as pd\n",
    "import matplotlib.pyplot as plt\n",
    "import time\n",
    "import matplotlib.animation as animation\n",
    "from scipy.stats import binom\n",
    "import matplotlib as mpl"
   ]
  },
  {
   "cell_type": "code",
   "execution_count": 110,
   "id": "518e5e38-9d4f-4dab-9b6d-c11dd56d788e",
   "metadata": {
    "tags": []
   },
   "outputs": [],
   "source": [
    "X_0 = np.random.rand(20,2) + 1\n",
    "X_1 = np.random.rand(20,2) - 1\n",
    "X = np.concatenate([X_0, X_1])\n",
    "#np.random.shuffle(X)"
   ]
  },
  {
   "cell_type": "code",
   "execution_count": 111,
   "id": "86fb2fd9-53f5-4654-9db7-80a170dff248",
   "metadata": {
    "tags": []
   },
   "outputs": [],
   "source": [
    "def L2_dist(a, b):\n",
    "    return np.linalg.norm(a-b)"
   ]
  },
  {
   "cell_type": "code",
   "execution_count": 112,
   "id": "60ab8a20-9d02-497f-a64a-bf4a164b43ec",
   "metadata": {
    "tags": []
   },
   "outputs": [],
   "source": [
    "def compute_G0(X, d=L2_dist):\n",
    "    W = np.zeros((len(X), len(X)))\n",
    "    for i in range(len(X)-1):\n",
    "        for j in range(i+1, len(X)):\n",
    "            W[i, j] = d(X[i], X[j])\n",
    "            W[j, i] = d(X[i], X[j])\n",
    "    D_sqinv = np.diag(np.sum(W, axis=0) ** -0.5)\n",
    "    return W, D_sqinv"
   ]
  },
  {
   "cell_type": "code",
   "execution_count": 113,
   "id": "bcd09fc2-415b-4b64-855d-8f2058e8e107",
   "metadata": {
    "tags": []
   },
   "outputs": [],
   "source": [
    "W, D_sqinv = compute_G0(X)"
   ]
  },
  {
   "cell_type": "code",
   "execution_count": 114,
   "id": "b554282c-3907-4bd5-86be-325fb4b1d3a5",
   "metadata": {
    "tags": []
   },
   "outputs": [],
   "source": [
    "def compute_laplacian(W, D_sqinv):\n",
    "    return np.eye(len(W)) - D_sqinv @ W @ D_sqinv"
   ]
  },
  {
   "cell_type": "code",
   "execution_count": 115,
   "id": "9b693b3e-2d01-4967-8c51-2c3ee641e375",
   "metadata": {
    "tags": []
   },
   "outputs": [],
   "source": [
    "L = compute_laplacian(W, D_sqinv)"
   ]
  },
  {
   "cell_type": "code",
   "execution_count": 116,
   "id": "80abfc47-d555-4f97-b866-0114713fcee1",
   "metadata": {
    "tags": []
   },
   "outputs": [],
   "source": [
    "def compute_AM_normalised(L, D_sqinv, M=len(L)):\n",
    "    V, A = np.linalg.eig(L)\n",
    "    V = 1 - V\n",
    "    idx = V.argsort()  \n",
    "    V = V[idx]\n",
    "    A = A[:,idx]\n",
    "    V = np.diag(V)\n",
    "    A = A[:, :M]\n",
    "    return D_sqinv @ A"
   ]
  },
  {
   "cell_type": "code",
   "execution_count": 117,
   "id": "0197d8c6-1466-4ab8-827f-86af8596e7bd",
   "metadata": {
    "tags": []
   },
   "outputs": [],
   "source": [
    "A = compute_AM_normalised(L, D_sqinv, 3)"
   ]
  },
  {
   "cell_type": "code",
   "execution_count": 118,
   "id": "221f0487-a759-4bb3-a717-e98a60c89737",
   "metadata": {
    "tags": []
   },
   "outputs": [],
   "source": [
    "class Graph:\n",
    "    def __init__(self, vertices):\n",
    "        self.V = vertices\n",
    "        self.graph = []\n",
    "        self.hierarchy = None\n",
    "        self.A = None\n",
    "        self.omega = 0\n",
    "\n",
    "    def add_edge(self, u, v, w):\n",
    "        self.graph.append([u, v, w])\n",
    "        self.omega += w\n",
    "\n",
    "    # Search function, ça trouve un point fixe en fait, en partant de celui qu'on veut\n",
    "\n",
    "    def find(self, parent, i):\n",
    "        if parent[i] == i:\n",
    "            return i\n",
    "        return self.find(parent, parent[i])\n",
    "\n",
    "    def apply_union(self, parent, rank, x, y):\n",
    "        xroot = self.find(parent, x)\n",
    "        yroot = self.find(parent, y)\n",
    "        if rank[xroot] < rank[yroot]:\n",
    "            parent[xroot] = yroot\n",
    "        elif rank[xroot] > rank[yroot]:\n",
    "            parent[yroot] = xroot\n",
    "        else:\n",
    "            parent[yroot] = xroot\n",
    "            rank[xroot] += 1\n",
    "\n",
    "    #  Applying Kruskal algorithm\n",
    "    def kruskal_algo(self):\n",
    "        result = []\n",
    "        hierarchy = []\n",
    "        i, e = 0, 0\n",
    "        self.graph = sorted(self.graph, key=lambda item: item[2])\n",
    "        rank = [0] * self.V\n",
    "        parent = list(range(self.V))\n",
    "        while e < self.V - 1:\n",
    "            u, v, w = self.graph[i]\n",
    "            i += 1\n",
    "            x = self.find(parent, u)\n",
    "            y = self.find(parent, v)\n",
    "            if x != y:\n",
    "                e += 1\n",
    "                result.append([u, v, w])\n",
    "                self.apply_union(parent, rank, x, y)\n",
    "                hierarchy.append(result.copy())\n",
    "        self.hierarchy = hierarchy\n",
    "        return hierarchy\n",
    "            \n",
    "        \n",
    "    def compute_A(self):\n",
    "        A = np.zeros((g.V, g.V))\n",
    "        for e in g.graph:\n",
    "            A[e[0], e[1]] = e[2]\n",
    "            A[e[1], e[0]] = e[2]\n",
    "        self.A = A\n",
    "\n",
    "    def cross_sum(self, A, l1, l2):\n",
    "        return np.sum((A * l1).T * l2)\n",
    "    \n",
    "    \n",
    "    def compute_mat(self):\n",
    "        A = self.A\n",
    "        mat = np.zeros((2 * self.V - 1, self.V + 6))\n",
    "        for i in range(self.V):\n",
    "            mat[i, 5] = 1\n",
    "            mat[i, i + 6] = 1\n",
    "        hierarchy = self.hierarchy\n",
    "        l_buf = list(range(self.V))\n",
    "        for i, e in enumerate(hierarchy[-1]):\n",
    "            u, v, _ = e\n",
    "            j = i + self.V\n",
    "            mat[l_buf[u], 0] = j\n",
    "            mat[l_buf[v], 0] = j\n",
    "            mat[l_buf[u], 1] = l_buf[v]\n",
    "            mat[l_buf[v], 1] = l_buf[u]\n",
    "            mat[j, 2] = l_buf[u]\n",
    "            mat[j, 3] = l_buf[v]\n",
    "            mat[j, 4:] = mat[l_buf[u], 4:] + mat[l_buf[v], 4:]\n",
    "            mat[j, 4] += self.cross_sum(A, mat[l_buf[u], 6:], mat[l_buf[v], 6:])\n",
    "            for k in range(self.V):\n",
    "                if mat[j, k + 6]:\n",
    "                    l_buf[k] = j\n",
    "        return mat"
   ]
  },
  {
   "cell_type": "code",
   "execution_count": 119,
   "id": "5c00ee77-b3c2-4f24-88b3-f54774df6780",
   "metadata": {
    "tags": []
   },
   "outputs": [
    {
     "data": {
      "text/plain": [
       "array([[ 4.,  3.,  0.,  0.,  0.,  1.,  1.,  0.,  0.,  0.],\n",
       "       [ 5.,  2.,  0.,  0.,  0.,  1.,  0.,  1.,  0.,  0.],\n",
       "       [ 5.,  1.,  0.,  0.,  0.,  1.,  0.,  0.,  1.,  0.],\n",
       "       [ 4.,  0.,  0.,  0.,  0.,  1.,  0.,  0.,  0.,  1.],\n",
       "       [ 6.,  5.,  0.,  3.,  1.,  2.,  1.,  0.,  0.,  1.],\n",
       "       [ 6.,  4.,  1.,  2.,  2.,  2.,  0.,  1.,  1.,  0.],\n",
       "       [ 0.,  0.,  5.,  4., 26.,  4.,  1.,  1.,  1.,  1.]])"
      ]
     },
     "execution_count": 119,
     "metadata": {},
     "output_type": "execute_result"
    }
   ],
   "source": [
    "g = Graph(4)\n",
    "#g.add_edge(0, 1, 4)\n",
    "#g.add_edge(0, 2, 1)\n",
    "#g.add_edge(0, 3, 2)\n",
    "#g.add_edge(1, 2, 5)\n",
    "#g.add_edge(1, 3, 3)\n",
    "#g.add_edge(2, 3, 8)\n",
    "g.add_edge(0, 1, 8)\n",
    "g.add_edge(0, 2, 6)\n",
    "g.add_edge(0, 3, 1)\n",
    "g.add_edge(1, 2, 2)\n",
    "g.add_edge(1, 3, 5)\n",
    "g.add_edge(2, 3, 4)\n",
    "\n",
    "\n",
    "\n",
    "g.compute_A()\n",
    "g.kruskal_algo()\n",
    "g.compute_mat()"
   ]
  },
  {
   "cell_type": "code",
   "execution_count": 120,
   "id": "75d51c42-79d9-4219-8397-2c35d269fc7c",
   "metadata": {
    "tags": []
   },
   "outputs": [],
   "source": [
    "def compute_Ge(A, d=L2_dist):\n",
    "    g = Graph(len(A))\n",
    "    W = np.zeros((len(A), len(A)))\n",
    "    for i in range(len(A)-1):\n",
    "        for j in range(i+1, len(A)):\n",
    "            W[i, j] = d(A[i], A[j])\n",
    "            W[j, i] = d(A[i], A[j])\n",
    "            g.add_edge(i, j, d(A[i], A[j]))\n",
    "    return W, g"
   ]
  },
  {
   "cell_type": "code",
   "execution_count": 121,
   "id": "de577b2b-2b0a-435d-9c8a-c14aa7301eb6",
   "metadata": {
    "tags": []
   },
   "outputs": [],
   "source": [
    "W, g = compute_Ge(A)"
   ]
  },
  {
   "cell_type": "code",
   "execution_count": 122,
   "id": "7f33b15a-84fa-4e8c-9a3b-cb56268f32ee",
   "metadata": {
    "tags": []
   },
   "outputs": [],
   "source": [
    "g.compute_A()\n",
    "g.kruskal_algo()\n",
    "mat = g.compute_mat()"
   ]
  },
  {
   "cell_type": "code",
   "execution_count": 123,
   "id": "c1495740-6ec4-43cf-a7ca-804eccb7098a",
   "metadata": {
    "tags": []
   },
   "outputs": [
    {
     "data": {
      "text/plain": [
       "array([[50., 13.,  0., ...,  0.,  0.,  0.],\n",
       "       [62., 53.,  0., ...,  0.,  0.,  0.],\n",
       "       [58.,  4.,  0., ...,  0.,  0.,  0.],\n",
       "       ...,\n",
       "       [78., 77., 75., ...,  1.,  1.,  1.],\n",
       "       [78., 76., 72., ...,  0.,  0.,  0.],\n",
       "       [ 0.,  0., 77., ...,  1.,  1.,  1.]])"
      ]
     },
     "execution_count": 123,
     "metadata": {},
     "output_type": "execute_result"
    }
   ],
   "source": [
    "mat"
   ]
  },
  {
   "cell_type": "code",
   "execution_count": 124,
   "id": "fa9ca69c-1137-4255-bd3f-53dadf520c10",
   "metadata": {
    "tags": []
   },
   "outputs": [],
   "source": [
    "def compute_pfa(omega, omega_, V, V_):\n",
    "    return binom.cdf(V_, V, omega_ / omega)"
   ]
  },
  {
   "cell_type": "code",
   "execution_count": 125,
   "id": "e98653a3-c9c6-4564-9478-5bd8c3f9fff0",
   "metadata": {
    "tags": []
   },
   "outputs": [],
   "source": [
    "def compute_nfa(omega, omega_, V, V_):\n",
    "    return compute_pfa(omega, omega_, V, V_)"
   ]
  },
  {
   "cell_type": "code",
   "execution_count": 126,
   "id": "5dfbc80c-73e5-4d9e-8038-90e9b5316287",
   "metadata": {
    "tags": []
   },
   "outputs": [],
   "source": [
    "omega = g.omega\n",
    "V = g.V\n",
    "\n",
    "MM = np.zeros((2 * g.V - 1, 3))\n",
    "for i in range(g.V):\n",
    "    MM[i, 0] = True\n",
    "    MM[i, 1] = i\n",
    "    MM[i, 2] = 1e8\n",
    "for i in range(g.V, 2 * g.V - 1):\n",
    "    if compute_nfa(omega, mat[i, 4], V , mat[i, 5]) < MM[int(mat[i, 2]), 2] and compute_nfa(omega, mat[i, 4], V , mat[i, 5]) < MM[int(mat[i, 3]), 2]:\n",
    "        MM[i, 0] = True\n",
    "        MM[i, 1] = i\n",
    "        MM[i, 2] = compute_nfa(omega, mat[i, 4], V , mat[i, 5])\n",
    "        MM[int(mat[i, 2]), 0] = False\n",
    "        MM[int(mat[i, 3]), 0] = False\n",
    "    elif compute_nfa(omega, mat[i, 4], V , mat[i, 5]) < MM[int(mat[i, 2]), 2]:\n",
    "        MM[i, 1] = MM[int(mat[i, 3]), 1]\n",
    "        MM[i, 2] = MM[int(mat[i, 3]), 2]\n",
    "        MM[int(mat[i, 2]), 0] = False\n",
    "    elif compute_nfa(omega, mat[i, 4], V , mat[i, 5]) < MM[int(mat[i, 3]), 2]:\n",
    "        MM[i, 1] = MM[int(mat[i, 2]), 1]\n",
    "        MM[i, 2] = MM[int(mat[i, 2]), 2]\n",
    "        MM[int(mat[i, 3]), 0] = False\n",
    "    else:\n",
    "        if MM[int(mat[i, 2]), 2] < MM[int(mat[i, 3]), 2]:\n",
    "            MM[i, 1] = MM[int(mat[i, 2]), 1]\n",
    "            MM[i, 2] = MM[int(mat[i, 2]), 2]\n",
    "        else:\n",
    "            MM[i, 1] = MM[int(mat[i, 3]), 1]\n",
    "            MM[i, 2] = MM[int(mat[i, 3]), 2]\n",
    "        "
   ]
  },
  {
   "cell_type": "code",
   "execution_count": 127,
   "id": "8ef2d076-1b4c-4c89-9443-f322ac80d67b",
   "metadata": {
    "tags": []
   },
   "outputs": [
    {
     "name": "stdout",
     "output_type": "stream",
     "text": [
      "68.0\n"
     ]
    }
   ],
   "source": [
    "res = 0\n",
    "for i in range(len(MM)):\n",
    "    if MM[i,0]:\n",
    "        res += mat[i, 5]\n",
    "print(res)"
   ]
  },
  {
   "cell_type": "code",
   "execution_count": 128,
   "id": "3baac5d2-8357-4b0f-aadc-9b64d25bce56",
   "metadata": {
    "tags": []
   },
   "outputs": [],
   "source": [
    "omega = g.omega\n",
    "V = g.V\n",
    "\n",
    "MM = np.zeros((2 * g.V - 1, 2))\n",
    "for i in range(g.V):\n",
    "    MM[i, 0] = False\n",
    "    MM[i, 1] = 1e8\n",
    "    \n",
    "MM[-1,0] = True\n",
    "MM[-1,1] = compute_nfa(omega, mat[-1, 4], V , mat[-1, 5])\n",
    "\n",
    "def recur(mat, mini, ind_mini, ind):\n",
    "    if ind < g.V:\n",
    "        return True\n",
    "    MM[ind, 1] = compute_nfa(omega, mat[ind, 4], V , mat[ind, 5])\n",
    "    if MM[ind, 1] <= mini:\n",
    "        MM[ind, 0] = True\n",
    "        MM[ind_mini, 0] = False\n",
    "        return recur(mat, MM[ind, 1], ind, int(mat[ind, 2])) and recur(mat, MM[ind, 1], ind, int(mat[ind, 3]))\n",
    "    return recur(mat, mini, ind_mini, int(mat[ind, 2])) and recur(mat, mini, ind_mini, int(mat[ind, 3]))"
   ]
  },
  {
   "cell_type": "code",
   "execution_count": 129,
   "id": "ee6e17a9-261c-4ea7-b972-e6662074b4dd",
   "metadata": {
    "tags": []
   },
   "outputs": [
    {
     "data": {
      "text/plain": [
       "True"
      ]
     },
     "execution_count": 129,
     "metadata": {},
     "output_type": "execute_result"
    }
   ],
   "source": [
    "recur(mat, 1, 78, 78)"
   ]
  },
  {
   "cell_type": "code",
   "execution_count": 130,
   "id": "d870751c-b35f-4fc9-b4c2-724d67368c2e",
   "metadata": {
    "tags": []
   },
   "outputs": [
    {
     "name": "stdout",
     "output_type": "stream",
     "text": [
      "40.0\n"
     ]
    }
   ],
   "source": [
    "res = 0\n",
    "for i in range(len(MM)):\n",
    "    if MM[i,0]:\n",
    "        res += mat[i, 5]\n",
    "print(res)"
   ]
  },
  {
   "cell_type": "code",
   "execution_count": 131,
   "id": "9a492868-f71c-4f7d-a152-844c47fad479",
   "metadata": {
    "tags": []
   },
   "outputs": [
    {
     "data": {
      "image/png": "[encoded data removed]",
      "text/plain": [
       "<Figure size 640x480 with 1 Axes>"
      ]
     },
     "metadata": {},
     "output_type": "display_data"
    }
   ],
   "source": [
    "cmap = mpl.colormaps['hsv']\n",
    "\n",
    "nb_clusters = sum(MM[:,0])\n",
    "\n",
    "fig, ax = plt.subplots()\n",
    "ax.plot(X[:,0], X[:,1], 'ko', markersize=4)\n",
    "clu = 0\n",
    "for i in range(len(mat)):\n",
    "    if MM[i,0]:\n",
    "        clu += 1\n",
    "        for j in range(g.V):\n",
    "            if mat[i, j + 6]:\n",
    "                ax.plot(X[j,0], X[j,1], markersize=4, color=cmap(clu / (nb_clusters+1)), marker='o')"
   ]
  },
  {
   "cell_type": "code",
   "execution_count": null,
   "id": "069dccd9-3cbf-4a15-a87e-17c83a5eb33b",
   "metadata": {
    "tags": []
   },
   "outputs": [],
   "source": []
  },
  {
   "cell_type": "code",
   "execution_count": null,
   "id": "faf723f1-f252-48a6-a12a-5dd4c3fe371f",
   "metadata": {},
   "outputs": [],
   "source": []
  },
  {
   "cell_type": "code",
   "execution_count": null,
   "id": "0066f373-7062-4748-9c00-d4d944c4320a",
   "metadata": {},
   "outputs": [],
   "source": []
  },
  {
   "cell_type": "code",
   "execution_count": null,
   "id": "86d4b55d-e81d-4699-8428-8d034e5e1599",
   "metadata": {},
   "outputs": [],
   "source": []
  },
  {
   "cell_type": "code",
   "execution_count": null,
   "id": "88cf63f1-d4ed-4f27-aada-fa914101770a",
   "metadata": {},
   "outputs": [],
   "source": []
  },
  {
   "cell_type": "code",
   "execution_count": null,
   "id": "fd000331-de16-43ab-8abb-1909629c54f8",
   "metadata": {},
   "outputs": [],
   "source": []
  },
  {
   "cell_type": "code",
   "execution_count": 37,
   "id": "1254dc49-701b-4cc2-a162-a19947f645f7",
   "metadata": {
    "tags": []
   },
   "outputs": [
    {
     "data": {
      "image/png": "[encoded data removed]",
      "text/plain": [
       "<Figure size 640x480 with 1 Axes>"
      ]
     },
     "metadata": {},
     "output_type": "display_data"
    }
   ],
   "source": [
    "#a = np.random.rand(10,10)\n",
    "hierarchy = g.hierarchy\n",
    "\n",
    "fig, ax = plt.subplots()\n",
    "container = []\n",
    "\n",
    "ax.plot(X[:,0], X[:,1], 'ro', markersize=4)\n",
    "#for v in hierarchy:\n",
    "#    plt.plot(X[v[-1][0],0], X[v[-1][1],1])\n",
    "#    plt.pause(0.01)\n",
    "\n",
    "for v in hierarchy:\n",
    "    line, = ax.plot(X[v[-1][:2]][:,0], X[v[-1][:2]][:,1])\n",
    "    if len(container) > 0:\n",
    "        container.append(container[-1] + [line])\n",
    "    else: \n",
    "        container.append([line])\n",
    "ani = animation.ArtistAnimation(fig, container, interval=400, blit=False)\n",
    "\n",
    "writergif = animation.PillowWriter(fps=10)\n",
    "ani.save('filename.gif',writer=writergif)\n",
    "\n",
    "plt.show()"
   ]
  },
  {
   "cell_type": "code",
   "execution_count": null,
   "id": "8e4934b6-5a0a-48b3-a23e-d8b2ba2d19cb",
   "metadata": {},
   "outputs": [],
   "source": []
  },
  {
   "cell_type": "code",
   "execution_count": null,
   "id": "776c4fd4-f9e8-4244-a26f-377cd55db261",
   "metadata": {},
   "outputs": [],
   "source": []
  },
  {
   "cell_type": "code",
   "execution_count": null,
   "id": "ff81f945-7a26-445d-9e1f-85d9b73ce1b1",
   "metadata": {},
   "outputs": [],
   "source": []
  },
  {
   "cell_type": "code",
   "execution_count": null,
   "id": "76f7140a-69ac-4a5c-b0aa-11f265d4b806",
   "metadata": {},
   "outputs": [],
   "source": []
  },
  {
   "cell_type": "code",
   "execution_count": null,
   "id": "6561742d-4b7a-4048-b617-56fc696873df",
   "metadata": {},
   "outputs": [],
   "source": []
  },
  {
   "cell_type": "code",
   "execution_count": null,
   "id": "c72fc9f8-bfc8-4315-9e73-935a0a9bed58",
   "metadata": {},
   "outputs": [],
   "source": []
  },
  {
   "cell_type": "code",
   "execution_count": null,
   "id": "582c0606-0a3d-4b90-8e63-fe340d77fca7",
   "metadata": {},
   "outputs": [],
   "source": []
  },
  {
   "cell_type": "code",
   "execution_count": null,
   "id": "13abb089-5921-42f4-9af5-c16cebf40135",
   "metadata": {},
   "outputs": [],
   "source": []
  },
  {
   "cell_type": "code",
   "execution_count": null,
   "id": "ffc78141-55f9-4c96-ab05-e958f6efe04c",
   "metadata": {},
   "outputs": [],
   "source": []
  }
 ],
 "metadata": {
  "kernelspec": {
   "display_name": "Python 3 (ipykernel)",
   "language": "python",
   "name": "python3"
  },
  "language_info": {
   "codemirror_mode": {
    "name": "ipython",
    "version": 3
   },
   "file_extension": ".py",
   "mimetype": "text/x-python",
   "name": "python",
   "nbconvert_exporter": "python",
   "pygments_lexer": "ipython3",
   "version": "3.10.9"
  }
 },
 "nbformat": 4,
 "nbformat_minor": 5
}
