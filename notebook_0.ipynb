{
 "cells": [
  {
   "cell_type": "code",
   "execution_count": 1,
   "id": "7cc50f8a-9a6e-4558-9121-21bdc19e98d8",
   "metadata": {
    "tags": []
   },
   "outputs": [],
   "source": [
    "%reload_ext autoreload\n",
    "%autoreload 3\n",
    "\n",
    "import numpy as np\n",
    "import pandas as pd\n",
    "import matplotlib.pyplot as plt\n",
    "import time\n",
    "import matplotlib.animation as animation\n",
    "from scipy.stats import binom\n",
    "import matplotlib as mpl\n",
    "from sklearn import datasets\n",
    "import itertools\n",
    "\n",
    "from utils import *"
   ]
  },
  {
   "cell_type": "code",
   "execution_count": null,
   "id": "61d453a2-fd45-4646-8a75-42f961f04391",
   "metadata": {},
   "outputs": [],
   "source": []
  },
  {
   "cell_type": "code",
   "execution_count": 54,
   "id": "518e5e38-9d4f-4dab-9b6d-c11dd56d788e",
   "metadata": {
    "tags": []
   },
   "outputs": [],
   "source": [
    "X_0 = np.random.rand(15,2) + 1\n",
    "X_1 = np.random.rand(15,2) - 1\n",
    "X = np.concatenate([X_0, X_1])\n",
    "\n",
    "X = datasets.make_moons(n_samples=30, noise=0.05)[0].astype(np.float32)\n",
    "#X = datasets.make_blobs(n_samples=100, centers=3)[0].astype(np.float32)\n",
    "#np.random.shuffle(X)"
   ]
  },
  {
   "cell_type": "code",
   "execution_count": 55,
   "id": "3f9f4877-07d2-4cf2-baa2-82daa4f1607d",
   "metadata": {
    "tags": []
   },
   "outputs": [],
   "source": [
    "def build_mat(X, M=5):\n",
    "    W, D_sqinv = compute_G0(X)\n",
    "    L = compute_laplacian(W, D_sqinv)\n",
    "    A = compute_AM_normalised(L, D_sqinv, M)\n",
    "    W, g = compute_Ge(A)\n",
    "    g.compute_A()\n",
    "    g.kruskal_algo()\n",
    "    mat = g.compute_mat()\n",
    "    return mat, g, W"
   ]
  },
  {
   "cell_type": "code",
   "execution_count": 56,
   "id": "bc83560f-daca-46e1-82c5-deca15c7f69f",
   "metadata": {
    "tags": []
   },
   "outputs": [],
   "source": [
    "mat, g, W = build_mat(X)"
   ]
  },
  {
   "cell_type": "markdown",
   "id": "3a249c7f-9603-4beb-a80d-19f0a44074d2",
   "metadata": {
    "tags": []
   },
   "source": [
    "g = Graph(4)\n",
    "#g.add_edge(0, 1, 4)\n",
    "#g.add_edge(0, 2, 1)\n",
    "#g.add_edge(0, 3, 2)\n",
    "#g.add_edge(1, 2, 5)\n",
    "#g.add_edge(1, 3, 3)\n",
    "#g.add_edge(2, 3, 8)\n",
    "g.add_edge(0, 1, 8)\n",
    "g.add_edge(0, 2, 6)\n",
    "g.add_edge(0, 3, 1)\n",
    "g.add_edge(1, 2, 2)\n",
    "g.add_edge(1, 3, 5)\n",
    "g.add_edge(2, 3, 4)\n",
    "\n",
    "\n",
    "\n",
    "g.compute_A()\n",
    "g.kruskal_algo()\n",
    "g.compute_mat()"
   ]
  },
  {
   "cell_type": "markdown",
   "id": "a18a2f88-662d-4b8a-b4c2-d453a262b0c9",
   "metadata": {
    "tags": []
   },
   "source": [
    "omega = g.omega\n",
    "V = g.V\n",
    "\n",
    "MM = np.zeros((2 * g.V - 1, 3))\n",
    "for i in range(g.V):\n",
    "    MM[i, 0] = True\n",
    "    MM[i, 1] = i\n",
    "    MM[i, 2] = 1e8\n",
    "for i in range(g.V, 2 * g.V - 1):\n",
    "    if compute_nfa(mat[i, 4] / omega, V , mat[i, 5]) < MM[int(mat[i, 2]), 2] and compute_nfa(mat[i, 4] / omega, V , mat[i, 5]) < MM[int(mat[i, 3]), 2]:\n",
    "        MM[i, 0] = True\n",
    "        MM[i, 1] = i\n",
    "        MM[i, 2] = compute_nfa(mat[i, 4] / omega, V , mat[i, 5])\n",
    "        MM[int(mat[i, 2]), 0] = False\n",
    "        MM[int(mat[i, 3]), 0] = False\n",
    "    elif compute_nfa(mat[i, 4] / omega, V , mat[i, 5]) < MM[int(mat[i, 2]), 2]:\n",
    "        MM[i, 1] = MM[int(mat[i, 3]), 1]\n",
    "        MM[i, 2] = MM[int(mat[i, 3]), 2]\n",
    "        MM[int(mat[i, 2]), 0] = False\n",
    "    elif compute_nfa(mat[i, 4] / omega, V , mat[i, 5]) < MM[int(mat[i, 3]), 2]:\n",
    "        MM[i, 1] = MM[int(mat[i, 2]), 1]\n",
    "        MM[i, 2] = MM[int(mat[i, 2]), 2]\n",
    "        MM[int(mat[i, 3]), 0] = False\n",
    "    else:\n",
    "        if MM[int(mat[i, 2]), 2] < MM[int(mat[i, 3]), 2]:\n",
    "            MM[i, 1] = MM[int(mat[i, 2]), 1]\n",
    "            MM[i, 2] = MM[int(mat[i, 2]), 2]\n",
    "        else:\n",
    "            MM[i, 1] = MM[int(mat[i, 3]), 1]\n",
    "            MM[i, 2] = MM[int(mat[i, 3]), 2]\n",
    "        "
   ]
  },
  {
   "cell_type": "code",
   "execution_count": 57,
   "id": "00ce4099-813d-4025-9c93-499f87616fa2",
   "metadata": {
    "tags": []
   },
   "outputs": [],
   "source": [
    "deltas = np.array([0.0000000e+00, 2.0000000e-10, 1.4000000e-09, 4.4600000e-08,\n",
    "       4.0204000e-06, 3.2262400e-05, 2.4599640e-04, 1.5910262e-03,\n",
    "       7.9717572e-03, 0.0000000e+00]) # pour size=30\n",
    "deltas = np.array([0.0000000e+00, 4.0000000e-10, 2.4000000e-09, 1.7420000e-07,\n",
    "       7.9780000e-06, 5.6434000e-05, 5.7970960e-04, 2.1720470e-03,\n",
    "       9.7363586e-03, 0.0000000e+00]) * 100\n",
    "\n",
    "\n",
    "\n",
    "#deltas = np.maximum(deltas, 1e-8) + 0.001\n",
    "\n",
    "#deltas = np.array([1] * 10)\n"
   ]
  },
  {
   "cell_type": "code",
   "execution_count": 58,
   "id": "3baac5d2-8357-4b0f-aadc-9b64d25bce56",
   "metadata": {
    "tags": []
   },
   "outputs": [],
   "source": [
    "K = 10\n",
    "omega = g.omega\n",
    "V = g.V\n",
    "\n",
    "MM = np.zeros((2 * g.V - 1, 3))\n",
    "for i in range(g.V):\n",
    "    MM[i, 0] = False\n",
    "    MM[i, 1] = 1e8\n",
    "    MM[i, 2] = 1e8\n",
    "    \n",
    "MM[-1,0] = True\n",
    "MM[-1,1] = compute_pfa(mat[-1, 4] / omega, V , mat[-1, 5])\n",
    "MM[-1,2] = compute_nfa(mat[-1, 4] / omega, V , mat[-1, 5], deltas)\n",
    "\n",
    "def recur(mat, mini, ind_mini, ind, V):\n",
    "    if ind < V:\n",
    "        return True\n",
    "    V_ = mat[ind, 5]\n",
    "    MM[ind, 1] = compute_pfa(mat[ind, 4] / omega, V , V_)\n",
    "    MM[ind, 2] = compute_nfa(mat[ind, 4] / omega, V , V_, deltas)\n",
    "    if MM[ind, 2] <= mini and MM[ind, 1] < deltas[hash_function(V_, K, V)]:\n",
    "        MM[ind, 0] = True\n",
    "        MM[ind_mini, 0] = False\n",
    "        return recur(mat, MM[ind, 2], ind, int(mat[ind, 2]), V) and recur(mat, MM[ind, 2], ind, int(mat[ind, 3]), V)\n",
    "    return recur(mat, mini, ind_mini, int(mat[ind, 2]), V) and recur(mat, mini, ind_mini, int(mat[ind, 3]), V)"
   ]
  },
  {
   "cell_type": "code",
   "execution_count": 59,
   "id": "ee6e17a9-261c-4ea7-b972-e6662074b4dd",
   "metadata": {
    "tags": []
   },
   "outputs": [
    {
     "data": {
      "text/plain": [
       "True"
      ]
     },
     "execution_count": 59,
     "metadata": {},
     "output_type": "execute_result"
    }
   ],
   "source": [
    "recur(mat, 1, len(MM)-1, len(MM)-1, g.V)"
   ]
  },
  {
   "cell_type": "code",
   "execution_count": 60,
   "id": "a1d3b4b0-8999-4b2d-b802-23de22db79d7",
   "metadata": {
    "tags": []
   },
   "outputs": [
    {
     "data": {
      "text/plain": [
       "40.65104245942409"
      ]
     },
     "execution_count": 60,
     "metadata": {},
     "output_type": "execute_result"
    }
   ],
   "source": [
    "g.omega"
   ]
  },
  {
   "cell_type": "code",
   "execution_count": 61,
   "id": "38cc2e52-a951-4263-ad1d-abbc76d2dc57",
   "metadata": {
    "tags": []
   },
   "outputs": [
    {
     "data": {
      "text/plain": [
       "6"
      ]
     },
     "execution_count": 61,
     "metadata": {},
     "output_type": "execute_result"
    }
   ],
   "source": [
    "ind = -2\n",
    "V_ = mat[ind, 5]\n",
    "hash_function(V_, K, V)"
   ]
  },
  {
   "cell_type": "code",
   "execution_count": 62,
   "id": "e8be6bcb-2996-44ff-8360-051cb8a15191",
   "metadata": {
    "tags": []
   },
   "outputs": [
    {
     "data": {
      "text/plain": [
       "0.002907646957965415"
      ]
     },
     "execution_count": 62,
     "metadata": {},
     "output_type": "execute_result"
    }
   ],
   "source": [
    "MM[ind, 1]"
   ]
  },
  {
   "cell_type": "code",
   "execution_count": 63,
   "id": "85339c97-18bf-496b-a4ff-662067e6d6a2",
   "metadata": {
    "tags": []
   },
   "outputs": [
    {
     "data": {
      "text/plain": [
       "19.013552144351017"
      ]
     },
     "execution_count": 63,
     "metadata": {},
     "output_type": "execute_result"
    }
   ],
   "source": [
    "mat[ind, 4]"
   ]
  },
  {
   "cell_type": "code",
   "execution_count": 64,
   "id": "53e96903-055e-4e33-b461-657f7f2cb351",
   "metadata": {
    "tags": []
   },
   "outputs": [
    {
     "data": {
      "text/plain": [
       "True"
      ]
     },
     "execution_count": 64,
     "metadata": {},
     "output_type": "execute_result"
    }
   ],
   "source": [
    "MM[ind, 1] < deltas[hash_function(V_, K, V)]"
   ]
  },
  {
   "cell_type": "code",
   "execution_count": 65,
   "id": "46adf321-cfd0-4f8f-9627-b01e20db4218",
   "metadata": {
    "tags": []
   },
   "outputs": [
    {
     "data": {
      "text/plain": [
       "0.002907646957965415"
      ]
     },
     "execution_count": 65,
     "metadata": {},
     "output_type": "execute_result"
    }
   ],
   "source": [
    "compute_pfa(mat[ind, 4] / omega, V , V_)"
   ]
  },
  {
   "cell_type": "code",
   "execution_count": 66,
   "id": "82d61f6c-9f6f-4d86-8d43-969d7af9a935",
   "metadata": {
    "tags": []
   },
   "outputs": [
    {
     "data": {
      "text/plain": [
       "2.1655677251430916e-11"
      ]
     },
     "execution_count": 66,
     "metadata": {},
     "output_type": "execute_result"
    }
   ],
   "source": [
    "compute_pfa(7 / omega, V , V_)"
   ]
  },
  {
   "cell_type": "code",
   "execution_count": 67,
   "id": "45e6a7c9-1d1c-4ada-b199-bd75903fbdaa",
   "metadata": {
    "tags": []
   },
   "outputs": [
    {
     "data": {
      "text/plain": [
       "array([[0.00000000e+00, 1.00000000e+08, 1.00000000e+08],\n",
       "       [0.00000000e+00, 1.00000000e+08, 1.00000000e+08],\n",
       "       [0.00000000e+00, 1.00000000e+08, 1.00000000e+08],\n",
       "       [0.00000000e+00, 1.00000000e+08, 1.00000000e+08],\n",
       "       [0.00000000e+00, 1.00000000e+08, 1.00000000e+08],\n",
       "       [0.00000000e+00, 1.00000000e+08, 1.00000000e+08],\n",
       "       [0.00000000e+00, 1.00000000e+08, 1.00000000e+08],\n",
       "       [0.00000000e+00, 1.00000000e+08, 1.00000000e+08],\n",
       "       [0.00000000e+00, 1.00000000e+08, 1.00000000e+08],\n",
       "       [0.00000000e+00, 1.00000000e+08, 1.00000000e+08],\n",
       "       [0.00000000e+00, 1.00000000e+08, 1.00000000e+08],\n",
       "       [0.00000000e+00, 1.00000000e+08, 1.00000000e+08],\n",
       "       [0.00000000e+00, 1.00000000e+08, 1.00000000e+08],\n",
       "       [0.00000000e+00, 1.00000000e+08, 1.00000000e+08],\n",
       "       [0.00000000e+00, 1.00000000e+08, 1.00000000e+08],\n",
       "       [0.00000000e+00, 1.00000000e+08, 1.00000000e+08],\n",
       "       [0.00000000e+00, 1.00000000e+08, 1.00000000e+08],\n",
       "       [0.00000000e+00, 1.00000000e+08, 1.00000000e+08],\n",
       "       [0.00000000e+00, 1.00000000e+08, 1.00000000e+08],\n",
       "       [0.00000000e+00, 1.00000000e+08, 1.00000000e+08],\n",
       "       [0.00000000e+00, 1.00000000e+08, 1.00000000e+08],\n",
       "       [0.00000000e+00, 1.00000000e+08, 1.00000000e+08],\n",
       "       [0.00000000e+00, 1.00000000e+08, 1.00000000e+08],\n",
       "       [0.00000000e+00, 1.00000000e+08, 1.00000000e+08],\n",
       "       [0.00000000e+00, 1.00000000e+08, 1.00000000e+08],\n",
       "       [0.00000000e+00, 1.00000000e+08, 1.00000000e+08],\n",
       "       [0.00000000e+00, 1.00000000e+08, 1.00000000e+08],\n",
       "       [0.00000000e+00, 1.00000000e+08, 1.00000000e+08],\n",
       "       [0.00000000e+00, 1.00000000e+08, 1.00000000e+08],\n",
       "       [0.00000000e+00, 1.00000000e+08, 1.00000000e+08],\n",
       "       [0.00000000e+00, 1.07195774e-09,            inf],\n",
       "       [0.00000000e+00, 1.69733601e-08,            inf],\n",
       "       [0.00000000e+00, 6.41056441e-08,            inf],\n",
       "       [0.00000000e+00, 1.00429734e-07,            inf],\n",
       "       [0.00000000e+00, 1.20258893e-07,            inf],\n",
       "       [0.00000000e+00, 4.62707628e-08,            inf],\n",
       "       [0.00000000e+00, 1.73497740e-07,            inf],\n",
       "       [0.00000000e+00, 1.91271358e-07,            inf],\n",
       "       [0.00000000e+00, 4.95727218e-08, 1.23931805e+00],\n",
       "       [0.00000000e+00, 3.62845906e-08,            inf],\n",
       "       [0.00000000e+00, 7.96606024e-08, 1.99151506e+00],\n",
       "       [0.00000000e+00, 1.91763983e-07,            inf],\n",
       "       [0.00000000e+00, 7.33262969e-07,            inf],\n",
       "       [0.00000000e+00, 2.04549106e-07, 5.11372766e+00],\n",
       "       [0.00000000e+00, 2.18177038e-07,            inf],\n",
       "       [0.00000000e+00, 1.56370554e-07, 3.90926384e+00],\n",
       "       [0.00000000e+00, 2.88369113e-07,            inf],\n",
       "       [0.00000000e+00, 1.96562319e-07, 4.91405798e+00],\n",
       "       [0.00000000e+00, 1.25693557e-06,            inf],\n",
       "       [0.00000000e+00, 9.27255213e-07, 2.31813803e+01],\n",
       "       [0.00000000e+00, 3.51592522e-07, 8.78981306e+00],\n",
       "       [0.00000000e+00, 4.83406010e-06, 2.01419171e+01],\n",
       "       [0.00000000e+00, 3.93347651e-06, 1.63894854e+01],\n",
       "       [0.00000000e+00, 3.21113809e-07, 8.02784522e+00],\n",
       "       [0.00000000e+00, 8.87402832e-05, 1.11231240e-01],\n",
       "       [0.00000000e+00, 7.07677794e-07, 1.76919448e+01],\n",
       "       [0.00000000e+00, 1.27674751e-04, 1.60033531e-01],\n",
       "       [1.00000000e+00, 2.90764696e-03, 5.01569572e-02],\n",
       "       [0.00000000e+00, 0.00000000e+00,            nan]])"
      ]
     },
     "execution_count": 67,
     "metadata": {},
     "output_type": "execute_result"
    }
   ],
   "source": [
    "MM"
   ]
  },
  {
   "cell_type": "code",
   "execution_count": 68,
   "id": "4257d33d-b99c-4870-af59-3b7b5c6890d0",
   "metadata": {
    "tags": []
   },
   "outputs": [
    {
     "data": {
      "text/plain": [
       "array([58.        , 51.        , 55.        , 56.        , 19.01355214,\n",
       "       21.        ,  1.        ,  1.        ,  1.        ,  0.        ,\n",
       "        1.        ,  0.        ,  1.        ,  1.        ,  0.        ,\n",
       "        1.        ,  0.        ,  1.        ,  1.        ,  0.        ,\n",
       "        1.        ,  1.        ,  0.        ,  1.        ,  1.        ,\n",
       "        0.        ,  1.        ,  0.        ,  0.        ,  1.        ,\n",
       "        1.        ,  1.        ,  1.        ,  1.        ,  1.        ,\n",
       "        1.        ])"
      ]
     },
     "execution_count": 68,
     "metadata": {},
     "output_type": "execute_result"
    }
   ],
   "source": [
    "mat[-2]"
   ]
  },
  {
   "cell_type": "markdown",
   "id": "b7abad9c-cab3-4dfe-b7bc-672a94d3714b",
   "metadata": {
    "tags": []
   },
   "source": [
    "cmap = mpl.colormaps['hsv']\n",
    "\n",
    "nb_clusters = sum(MM[:,0])\n",
    "\n",
    "fig, ax = plt.subplots()\n",
    "ax.plot(X[:,0], X[:,1], 'ko', markersize=4)\n",
    "for j in range(g.V):\n",
    "    if mat[-2, j + 6]:\n",
    "        ax.plot(X[j,0], X[j,1], markersize=4, marker='o')\n"
   ]
  },
  {
   "cell_type": "code",
   "execution_count": null,
   "id": "fb859cbe-3ee0-4529-a5f5-d0313af9c8c4",
   "metadata": {},
   "outputs": [],
   "source": []
  },
  {
   "cell_type": "code",
   "execution_count": 70,
   "id": "d870751c-b35f-4fc9-b4c2-724d67368c2e",
   "metadata": {
    "tags": []
   },
   "outputs": [
    {
     "name": "stdout",
     "output_type": "stream",
     "text": [
      "21.0\n"
     ]
    }
   ],
   "source": [
    "res = 0\n",
    "for i in range(len(MM)):\n",
    "    if MM[i,0]:\n",
    "        res += mat[i, 5]\n",
    "print(res)"
   ]
  },
  {
   "cell_type": "code",
   "execution_count": 75,
   "id": "9a492868-f71c-4f7d-a152-844c47fad479",
   "metadata": {
    "tags": []
   },
   "outputs": [
    {
     "name": "stdout",
     "output_type": "stream",
     "text": [
      "Nb clusters: 1.0\n"
     ]
    },
    {
     "data": {
      "image/png": "[encoded data removed]",
      "text/plain": [
       "<Figure size 640x480 with 1 Axes>"
      ]
     },
     "metadata": {},
     "output_type": "display_data"
    }
   ],
   "source": [
    "cmap = mpl.colormaps['hsv']\n",
    "\n",
    "nb_clusters = sum(MM[:,0])\n",
    "\n",
    "fig, ax = plt.subplots()\n",
    "ax.plot(X[:,0], X[:,1], 'ko', markersize=4)\n",
    "clu = 0\n",
    "for i in range(len(mat)):\n",
    "    if MM[i,0]:\n",
    "        clu += 1\n",
    "        for j in range(g.V):\n",
    "            if mat[i, j + 6]:\n",
    "                ax.plot(X[j,0], X[j,1], markersize=4, color=cmap(clu / (nb_clusters+1)), marker='o')\n",
    "                \n",
    "print('Nb clusters:', nb_clusters)\n",
    "plt.show()"
   ]
  },
  {
   "cell_type": "code",
   "execution_count": 77,
   "id": "4add1a5c-8d8c-4a8e-9571-7f57a38d891e",
   "metadata": {
    "tags": []
   },
   "outputs": [],
   "source": [
    "mat_adjency = np.zeros((len(mat), g.V ** 2), dtype=bool)\n",
    "\n",
    "for i in range(len(mat)):\n",
    "    a = np.expand_dims(mat[i, 6:], axis=0)\n",
    "    mat_adjency[i,:] = (a.T @ a).flatten().astype(bool)"
   ]
  },
  {
   "cell_type": "code",
   "execution_count": 78,
   "id": "eaf369f6-1874-48ce-9809-6ae522651bd8",
   "metadata": {
    "tags": []
   },
   "outputs": [
    {
     "data": {
      "text/plain": [
       "array([[ True, False, False, ..., False, False, False],\n",
       "       [False, False, False, ..., False, False, False],\n",
       "       [False, False, False, ..., False, False, False],\n",
       "       ...,\n",
       "       [ True,  True,  True, ..., False, False, False],\n",
       "       [ True,  True,  True, ...,  True,  True,  True],\n",
       "       [ True,  True,  True, ...,  True,  True,  True]])"
      ]
     },
     "execution_count": 78,
     "metadata": {},
     "output_type": "execute_result"
    }
   ],
   "source": [
    "mat_adjency"
   ]
  },
  {
   "cell_type": "code",
   "execution_count": 79,
   "id": "3e5409ac-13da-4373-883e-42072aa69c6b",
   "metadata": {
    "tags": []
   },
   "outputs": [],
   "source": [
    "def compute_union(ind, sibling, W, W_flatten, mat, mat_adjency):\n",
    "    n = len(W[0,:])\n",
    "    max_w = min(max(mat_adjency[ind,:] * W_flatten), max(mat_adjency[sibling,:] * W_flatten))\n",
    "    res = mat_adjency[ind,:].copy().reshape((n,n))\n",
    "    for i in range(n):\n",
    "        for j in range(n):\n",
    "            if mat[ind, i+6] and mat[sibling, j+6] and W[i,j] <= max_w:\n",
    "                res[i, j] = True\n",
    "                res[j, i] = True\n",
    "    return res.flatten()"
   ]
  },
  {
   "cell_type": "code",
   "execution_count": 80,
   "id": "0024e8d8-d278-4d63-8408-b7d992462d5b",
   "metadata": {
    "tags": []
   },
   "outputs": [
    {
     "name": "stdout",
     "output_type": "stream",
     "text": [
      "0.0 0.0\n"
     ]
    }
   ],
   "source": [
    "omega = g.omega\n",
    "V = g.V\n",
    "W_flatten = W.flatten()\n",
    "\n",
    "for i in range(len(MM)):\n",
    "    if MM[i,0]:\n",
    "        sibling = int(mat[i, 1])\n",
    "        father = int(mat[0, 1])\n",
    "        union = compute_union(i, sibling, W, W_flatten, mat, mat_adjency)\n",
    "        p_union = np.sum(union * W_flatten) / (2 * omega)\n",
    "        p_i = np.sum(mat_adjency[i,:] * W_flatten) / (2 * omega)\n",
    "        V_union = np.sum(union) / 2\n",
    "        V_i = np.sum(mat_adjency[i,:]) / 2\n",
    "        print(compute_pfa(p_union, V, V_union), compute_pfa(p_i, V, V_i))\n",
    "        if compute_pfa(p_union, V, V_union) < compute_pfa(p_i, V, V_i):\n",
    "            print('nde')\n",
    "            \n",
    "            "
   ]
  },
  {
   "cell_type": "code",
   "execution_count": 81,
   "id": "6671144b-8212-4bbd-80a0-eea261f2deb6",
   "metadata": {
    "tags": []
   },
   "outputs": [
    {
     "data": {
      "text/plain": [
       "809"
      ]
     },
     "execution_count": 81,
     "metadata": {},
     "output_type": "execute_result"
    }
   ],
   "source": [
    "sum(union)"
   ]
  },
  {
   "cell_type": "code",
   "execution_count": 82,
   "id": "1cc48b6b-4630-4a1f-99bb-bb55ae882a4d",
   "metadata": {
    "tags": []
   },
   "outputs": [
    {
     "name": "stdout",
     "output_type": "stream",
     "text": [
      "21.0\n"
     ]
    }
   ],
   "source": [
    "res = 0\n",
    "for i in range(len(MM)):\n",
    "    if MM[i,0]:\n",
    "        res += mat[i, 5]\n",
    "print(res)"
   ]
  },
  {
   "cell_type": "code",
   "execution_count": 28,
   "id": "36a5cd5e-b0d5-4846-8238-f51ceeebfb58",
   "metadata": {
    "tags": []
   },
   "outputs": [
    {
     "data": {
      "image/png": "[encoded data removed]",
      "text/plain": [
       "<Figure size 640x480 with 1 Axes>"
      ]
     },
     "metadata": {},
     "output_type": "display_data"
    }
   ],
   "source": [
    "cmap = mpl.colormaps['hsv']\n",
    "\n",
    "nb_clusters = sum(MM[:,0])\n",
    "\n",
    "fig, ax = plt.subplots()\n",
    "ax.plot(X[:,0], X[:,1], 'ko', markersize=4)\n",
    "clu = 0\n",
    "for i in range(len(mat)):\n",
    "    if MM[i,0]:\n",
    "        clu += 1\n",
    "        for j in range(g.V):\n",
    "            if mat[i, j + 6]:\n",
    "                ax.plot(X[j,0], X[j,1], markersize=4, color=cmap(clu / (nb_clusters+1)), marker='o')"
   ]
  },
  {
   "cell_type": "code",
   "execution_count": null,
   "id": "bfd4fee4-a7c7-4649-8a81-4d7aa078af2a",
   "metadata": {},
   "outputs": [],
   "source": []
  },
  {
   "cell_type": "code",
   "execution_count": null,
   "id": "fcd08faa-5aaa-467d-9f3f-2533724c180e",
   "metadata": {},
   "outputs": [],
   "source": []
  },
  {
   "cell_type": "code",
   "execution_count": null,
   "id": "7be27105-acc7-4243-9811-dc3487f0c4a3",
   "metadata": {},
   "outputs": [],
   "source": []
  },
  {
   "cell_type": "code",
   "execution_count": null,
   "id": "79a996b3-bdce-401b-b61b-4ffff092278c",
   "metadata": {},
   "outputs": [],
   "source": []
  },
  {
   "cell_type": "code",
   "execution_count": null,
   "id": "94d473f2-661b-4824-a9b8-a2dd8df64d7d",
   "metadata": {},
   "outputs": [],
   "source": []
  },
  {
   "cell_type": "code",
   "execution_count": null,
   "id": "fd000331-de16-43ab-8abb-1909629c54f8",
   "metadata": {},
   "outputs": [],
   "source": []
  },
  {
   "cell_type": "code",
   "execution_count": 144,
   "id": "1254dc49-701b-4cc2-a162-a19947f645f7",
   "metadata": {
    "tags": []
   },
   "outputs": [
    {
     "data": {
      "image/png": "[encoded data removed]",
      "text/plain": [
       "<Figure size 640x480 with 1 Axes>"
      ]
     },
     "metadata": {},
     "output_type": "display_data"
    }
   ],
   "source": [
    "#a = np.random.rand(10,10)\n",
    "hierarchy = g.hierarchy\n",
    "\n",
    "fig, ax = plt.subplots()\n",
    "container = []\n",
    "\n",
    "ax.plot(X[:,0], X[:,1], 'ro', markersize=4)\n",
    "#for v in hierarchy:\n",
    "#    plt.plot(X[v[-1][0],0], X[v[-1][1],1])\n",
    "#    plt.pause(0.01)\n",
    "\n",
    "for v in hierarchy:\n",
    "    line, = ax.plot(X[v[-1][:2]][:,0], X[v[-1][:2]][:,1])\n",
    "    if len(container) > 0:\n",
    "        container.append(container[-1] + [line])\n",
    "    else: \n",
    "        container.append([line])\n",
    "ani = animation.ArtistAnimation(fig, container, interval=400, blit=False)\n",
    "\n",
    "writergif = animation.PillowWriter(fps=10)\n",
    "ani.save('filename.gif',writer=writergif)\n",
    "\n",
    "plt.show()"
   ]
  },
  {
   "cell_type": "code",
   "execution_count": null,
   "id": "8e4934b6-5a0a-48b3-a23e-d8b2ba2d19cb",
   "metadata": {},
   "outputs": [],
   "source": []
  },
  {
   "cell_type": "code",
   "execution_count": null,
   "id": "776c4fd4-f9e8-4244-a26f-377cd55db261",
   "metadata": {},
   "outputs": [],
   "source": []
  },
  {
   "cell_type": "code",
   "execution_count": null,
   "id": "ff81f945-7a26-445d-9e1f-85d9b73ce1b1",
   "metadata": {},
   "outputs": [],
   "source": []
  },
  {
   "cell_type": "code",
   "execution_count": null,
   "id": "76f7140a-69ac-4a5c-b0aa-11f265d4b806",
   "metadata": {},
   "outputs": [],
   "source": []
  },
  {
   "cell_type": "code",
   "execution_count": null,
   "id": "6561742d-4b7a-4048-b617-56fc696873df",
   "metadata": {},
   "outputs": [],
   "source": []
  },
  {
   "cell_type": "code",
   "execution_count": null,
   "id": "c72fc9f8-bfc8-4315-9e73-935a0a9bed58",
   "metadata": {},
   "outputs": [],
   "source": []
  },
  {
   "cell_type": "code",
   "execution_count": null,
   "id": "582c0606-0a3d-4b90-8e63-fe340d77fca7",
   "metadata": {},
   "outputs": [],
   "source": []
  },
  {
   "cell_type": "code",
   "execution_count": null,
   "id": "13abb089-5921-42f4-9af5-c16cebf40135",
   "metadata": {},
   "outputs": [],
   "source": []
  },
  {
   "cell_type": "code",
   "execution_count": null,
   "id": "ffc78141-55f9-4c96-ab05-e958f6efe04c",
   "metadata": {},
   "outputs": [],
   "source": []
  }
 ],
 "metadata": {
  "kernelspec": {
   "display_name": "Python 3 (ipykernel)",
   "language": "python",
   "name": "python3"
  },
  "language_info": {
   "codemirror_mode": {
    "name": "ipython",
    "version": 3
   },
   "file_extension": ".py",
   "mimetype": "text/x-python",
   "name": "python",
   "nbconvert_exporter": "python",
   "pygments_lexer": "ipython3",
   "version": "3.10.9"
  }
 },
 "nbformat": 4,
 "nbformat_minor": 5
}
