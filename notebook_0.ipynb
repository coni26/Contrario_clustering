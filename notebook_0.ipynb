{
 "cells": [
  {
   "cell_type": "code",
   "execution_count": 1,
   "id": "7cc50f8a-9a6e-4558-9121-21bdc19e98d8",
   "metadata": {
    "tags": []
   },
   "outputs": [],
   "source": [
    "import numpy as np\n",
    "import pandas as pd\n",
    "import matplotlib.pyplot as plt"
   ]
  },
  {
   "cell_type": "code",
   "execution_count": null,
   "id": "cfedf3e2-441f-409a-acaa-a287f47b0031",
   "metadata": {},
   "outputs": [],
   "source": []
  },
  {
   "cell_type": "code",
   "execution_count": null,
   "id": "e5c94a04-9add-4bb0-b8d6-f002b9461b8e",
   "metadata": {},
   "outputs": [],
   "source": []
  },
  {
   "cell_type": "code",
   "execution_count": 5,
   "id": "518e5e38-9d4f-4dab-9b6d-c11dd56d788e",
   "metadata": {
    "tags": []
   },
   "outputs": [],
   "source": [
    "X = np.random.rand(10,2)"
   ]
  },
  {
   "cell_type": "code",
   "execution_count": 7,
   "id": "86fb2fd9-53f5-4654-9db7-80a170dff248",
   "metadata": {
    "tags": []
   },
   "outputs": [],
   "source": [
    "def L2_dist(a, b):\n",
    "    return np.linalg.norm(a-b)"
   ]
  },
  {
   "cell_type": "code",
   "execution_count": 37,
   "id": "60ab8a20-9d02-497f-a64a-bf4a164b43ec",
   "metadata": {
    "tags": []
   },
   "outputs": [],
   "source": [
    "def compute_G0(X, d=L2_dist):\n",
    "    W = np.zeros((len(X), len(X)))\n",
    "    for i in range(len(X)-1):\n",
    "        for j in range(i+1, len(X)):\n",
    "            W[i, j] = d(X[i], X[j])\n",
    "            W[j, i] = d(X[i], X[j])\n",
    "    D_sqinv = np.diag(np.sum(W, axis=0) ** -0.5)\n",
    "    return W, D_sqinv"
   ]
  },
  {
   "cell_type": "code",
   "execution_count": 38,
   "id": "bcd09fc2-415b-4b64-855d-8f2058e8e107",
   "metadata": {
    "tags": []
   },
   "outputs": [],
   "source": [
    "W, D_sqinv = compute_G0(X)"
   ]
  },
  {
   "cell_type": "code",
   "execution_count": 45,
   "id": "b554282c-3907-4bd5-86be-325fb4b1d3a5",
   "metadata": {
    "tags": []
   },
   "outputs": [],
   "source": [
    "def compute_laplacian(W, D_sqinv):\n",
    "    return np.eye(len(W)) - D_sqinv @ W @ D_sqinv"
   ]
  },
  {
   "cell_type": "code",
   "execution_count": 47,
   "id": "9b693b3e-2d01-4967-8c51-2c3ee641e375",
   "metadata": {
    "tags": []
   },
   "outputs": [],
   "source": [
    "L = compute_laplacian(W, D_sqinv)"
   ]
  },
  {
   "cell_type": "code",
   "execution_count": null,
   "id": "80abfc47-d555-4f97-b866-0114713fcee1",
   "metadata": {},
   "outputs": [],
   "source": [
    "def compute_AM_normalised(L, D):\n",
    "    return A"
   ]
  },
  {
   "cell_type": "code",
   "execution_count": null,
   "id": "e28d2b17-95bb-43ba-a121-d82402e3bb33",
   "metadata": {},
   "outputs": [],
   "source": []
  },
  {
   "cell_type": "code",
   "execution_count": null,
   "id": "ebe55be1-c321-409c-93d8-beed85a83da1",
   "metadata": {},
   "outputs": [],
   "source": []
  }
 ],
 "metadata": {
  "kernelspec": {
   "display_name": "Python 3 (ipykernel)",
   "language": "python",
   "name": "python3"
  },
  "language_info": {
   "codemirror_mode": {
    "name": "ipython",
    "version": 3
   },
   "file_extension": ".py",
   "mimetype": "text/x-python",
   "name": "python",
   "nbconvert_exporter": "python",
   "pygments_lexer": "ipython3",
   "version": "3.10.8"
  }
 },
 "nbformat": 4,
 "nbformat_minor": 5
}
