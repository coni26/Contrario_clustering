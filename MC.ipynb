{
 "cells": [
  {
   "cell_type": "code",
   "execution_count": 8,
   "id": "b8fbaa7e-2d00-47ae-802c-cd9bd829b63f",
   "metadata": {
    "tags": []
   },
   "outputs": [],
   "source": [
    "%reload_ext autoreload\n",
    "%autoreload 3\n",
    "\n",
    "import numpy as np\n",
    "import pandas as pd\n",
    "import matplotlib.pyplot as plt\n",
    "import time\n",
    "import matplotlib.animation as animation\n",
    "from scipy.stats import binom, t\n",
    "import matplotlib as mpl\n",
    "from sklearn import datasets\n",
    "import itertools\n",
    "from tqdm import tqdm\n",
    "\n",
    "from utils import *"
   ]
  },
  {
   "cell_type": "code",
   "execution_count": 9,
   "id": "2b5afcee-7880-4a2b-b643-057399f0038e",
   "metadata": {
    "tags": []
   },
   "outputs": [],
   "source": [
    "X_0 = np.random.rand(50,2) + 1\n",
    "X_1 = np.random.rand(50,2) - 1\n",
    "X = np.concatenate([X_0, X_1])\n",
    "\n",
    "x_min, x_max = min(X[:,0]), max(X[:,0])\n",
    "y_min, y_max = min(X[:,1]), max(X[:,1])"
   ]
  },
  {
   "cell_type": "code",
   "execution_count": 10,
   "id": "b2db0eff-0bf3-47bb-b314-d84e3f460401",
   "metadata": {
    "tags": []
   },
   "outputs": [],
   "source": [
    "def build_rand_mat(K, x_min, y_min, x_max, y_max):\n",
    "    X_H0 = np.random.uniform(size=(K,2)) * np.array([x_max - x_min, y_max - y_min]) + np.array([x_min, y_min])\n",
    "    W, D_sqinv = compute_G0(X_H0)\n",
    "    L = compute_laplacian(W, D_sqinv)\n",
    "    A = compute_AM_normalised(L, D_sqinv, 3) #3 peut être faible\n",
    "    W, g = compute_Ge(A)\n",
    "    g.compute_A()\n",
    "    g.kruskal_algo()\n",
    "    mat = g.compute_mat()\n",
    "    return mat, g"
   ]
  },
  {
   "cell_type": "code",
   "execution_count": 11,
   "id": "c5cdc811-1102-40ea-b046-1213b0c95ab4",
   "metadata": {
    "tags": []
   },
   "outputs": [],
   "source": [
    "def hash_function(V_, K, N):\n",
    "    return int((V_ - 1) * K / N)"
   ]
  },
  {
   "cell_type": "code",
   "execution_count": 32,
   "id": "4df7f844-cc5b-45c8-9e69-58abc1674364",
   "metadata": {
    "tags": []
   },
   "outputs": [],
   "source": [
    "def update_deltas(deltas, eps, K, size, x_min, y_min, x_max, y_max, update_, Q=30, conf_level=0.05):\n",
    "    res_q = np.zeros((K, Q), dtype=int)\n",
    "    for q in range(Q):\n",
    "        res = np.zeros(K, dtype=int)\n",
    "        mat, g = build_rand_mat(size - 1, x_min, y_min, x_max, y_max)\n",
    "        omega = g.omega\n",
    "        V = g.V\n",
    "        for i in range(len(mat)):\n",
    "            k = hash_function(int(mat[i, 5]), K, size) \n",
    "            pfa = compute_pfa(min(mat[i, 4] / omega, 1), V , mat[i,5])\n",
    "            if pfa < deltas[k]:\n",
    "                res[k] += 1\n",
    "        res_q[:, q] = res.copy()\n",
    "    s = np.maximum(np.std(res_q, axis=1), 1e-3)\n",
    "    m = np.mean(res_q, axis=1)\n",
    "    upd = t.cdf((m - eps / K) / s * np.sqrt(Q - 1), Q-1) > conf_level\n",
    "    deltas -= (2 * upd - 1) * update_\n",
    "    deltas = np.maximum(0, np.minimum(1, deltas))\n",
    "    return deltas, res_q\n"
   ]
  },
  {
   "cell_type": "code",
   "execution_count": 35,
   "id": "0881465c-234f-434c-93e1-5a42095c9b9b",
   "metadata": {
    "tags": []
   },
   "outputs": [],
   "source": [
    "def compute_deltas(size, Q=30, conf_level=0.05, eps=1, K=10):\n",
    "    deltas = 0.01 * np.ones(K)\n",
    "    update_ = 1e-3\n",
    "    for i in tqdm(range(100)):\n",
    "        if i == 10:\n",
    "            update_ = 1e-4\n",
    "        if i == 20:\n",
    "            update_ = 1e-5\n",
    "        if i == 30:\n",
    "            update_ = 1e-6\n",
    "        if i == 50:\n",
    "            update_ = 1e-7\n",
    "        if i == 60:\n",
    "            update_ = 1e-8\n",
    "        if i == 70:\n",
    "            update_ = 1e-9\n",
    "        if i == 80:\n",
    "            update_ = 1e-10\n",
    "        if i == 90:\n",
    "            update_ = 1e-11\n",
    "        deltas, res_q = update_deltas(deltas, eps, K, size, x_min, y_min, x_max, y_max, update_, Q, conf_level)\n",
    "        #print(np.mean(np.sum(res_q, axis=0)))\n",
    "    return deltas"
   ]
  },
  {
   "cell_type": "code",
   "execution_count": 34,
   "id": "43c2c1e5-bc5b-401d-b9e2-cbfc5fc4eaf0",
   "metadata": {
    "tags": []
   },
   "outputs": [
    {
     "name": "stderr",
     "output_type": "stream",
     "text": [
      "100%|██████████| 100/100 [14:32<00:00,  8.73s/it]\n"
     ]
    },
    {
     "data": {
      "text/plain": [
       "array([0.0000e+00, 0.0000e+00, 0.0000e+00, 0.0000e+00, 0.0000e+00,\n",
       "       0.0000e+00, 1.8000e-09, 1.5180e-07, 6.3574e-06, 0.0000e+00])"
      ]
     },
     "execution_count": 34,
     "metadata": {},
     "output_type": "execute_result"
    }
   ],
   "source": [
    "compute_deltas(50, Q=30, conf_level=0.05, eps=1, K=10)"
   ]
  },
  {
   "cell_type": "code",
   "execution_count": 21,
   "id": "9fc913d1-f8c0-4d56-a0b2-41a3b37e77ad",
   "metadata": {
    "tags": []
   },
   "outputs": [
    {
     "name": "stdout",
     "output_type": "stream",
     "text": [
      "0 5.652 56.52 0.0009999999999999992\n",
      "[42.92  6.4   2.76  1.18  0.78  0.62  0.36  0.44  0.06  1.  ]\n",
      "[0.009 0.009 0.009 0.009 0.009 0.009 0.009 0.009 0.009 0.009]\n",
      "5 5.656 56.56 0.004600000000000002\n",
      "[43.28  6.24  2.76  1.3   0.78  0.52  0.46  0.16  0.06  1.  ]\n",
      "[0.004 0.004 0.004 0.004 0.004 0.004 0.004 0.004 0.008 0.004]\n",
      "10 0.012 0.12 0.003520000000000001\n",
      "[0.   0.   0.   0.   0.   0.   0.   0.06 0.06 0.  ]\n",
      "[0.0001 0.0001 0.0001 0.0001 0.0001 0.0001 0.0001 0.0019 0.0099 0.0001]\n",
      "15 5.55 55.5 0.00011999999999999984\n",
      "[4.298e+01 6.620e+00 2.620e+00 1.140e+00 7.200e-01 2.600e-01 6.000e-02\n",
      " 2.000e-02 8.000e-02 1.000e+00]\n",
      "[0.     0.     0.     0.     0.     0.     0.0002 0.0018 0.0096 0.    ]\n",
      "20 0.008 0.08 8.59999999999999e-05\n",
      "[0.   0.   0.   0.   0.   0.   0.06 0.02 0.   0.  ]\n",
      "[1.00e-05 1.00e-05 1.00e-05 1.00e-05 1.00e-05 1.00e-05 3.90e-04 2.21e-03\n",
      " 9.41e-03 1.00e-05]\n",
      "25 5.392 53.92 1.1999999999999965e-05\n",
      "[4.306e+01 6.560e+00 2.480e+00 6.400e-01 4.000e-02 8.000e-02 0.000e+00\n",
      " 4.000e-02 2.000e-02 1.000e+00]\n",
      "[0.00e+00 0.00e+00 0.00e+00 0.00e+00 2.00e-05 4.00e-05 4.00e-04 2.22e-03\n",
      " 9.42e-03 0.00e+00]\n",
      "30 0.022 0.22 1.439999999999979e-05\n",
      "[0.   0.   0.   0.   0.   0.06 0.1  0.   0.06 0.  ]\n",
      "[1.000e-06 1.000e-06 1.000e-06 1.000e-06 1.000e-06 5.900e-05 4.390e-04\n",
      " 2.241e-03 9.379e-03 1.000e-06]\n",
      "35 5.106 51.06 1.1999999999999428e-06\n",
      "[4.13e+01 5.98e+00 2.18e+00 2.40e-01 2.00e-02 8.00e-02 1.80e-01 6.00e-02\n",
      " 2.00e-02 1.00e+00]\n",
      "[0.000e+00 0.000e+00 0.000e+00 0.000e+00 4.000e-06 6.000e-05 4.380e-04\n",
      " 2.240e-03 9.378e-03 0.000e+00]\n",
      "40 0.028 0.28 1.3999999999999466e-06\n",
      "[0.   0.   0.   0.   0.02 0.04 0.08 0.1  0.04 0.  ]\n",
      "[1.000e-06 1.000e-06 1.000e-06 1.000e-06 7.000e-06 6.100e-05 4.350e-04\n",
      " 2.241e-03 9.377e-03 1.000e-06]\n",
      "45 5.132 51.32 1.1999999999999415e-06\n",
      "[4.154e+01 6.200e+00 1.760e+00 4.000e-01 1.200e-01 8.000e-02 1.000e-01\n",
      " 2.000e-02 1.000e-01 1.000e+00]\n",
      "[0.000e+00 0.000e+00 0.000e+00 0.000e+00 8.000e-06 5.800e-05 4.340e-04\n",
      " 2.242e-03 9.376e-03 0.000e+00]\n",
      "50 0.016 0.16 1.5999999999996476e-06\n",
      "[0.   0.   0.   0.   0.04 0.06 0.   0.02 0.04 0.  ]\n",
      "[1.000e-06 1.000e-06 1.000e-06 1.000e-06 9.000e-06 5.500e-05 4.350e-04\n",
      " 2.241e-03 9.381e-03 1.000e-06]\n",
      "55 5.04 50.4 1.199999999999795e-06\n",
      "[4.128e+01 5.700e+00 2.000e+00 1.800e-01 4.000e-02 8.000e-02 4.000e-02\n",
      " 4.000e-02 4.000e-02 1.000e+00]\n",
      "[0.000e+00 0.000e+00 0.000e+00 0.000e+00 1.000e-05 5.600e-05 4.360e-04\n",
      " 2.242e-03 9.384e-03 0.000e+00]\n",
      "60 0.016 0.16 4.799999999999838e-07\n",
      "[0.   0.   0.   0.   0.06 0.   0.02 0.04 0.04 0.  ]\n",
      "[1.0000e-07 1.0000e-07 1.0000e-07 1.0000e-07 7.9000e-06 5.6100e-05\n",
      " 4.3610e-04 2.2401e-03 9.3841e-03 1.0000e-07]\n",
      "65 3.952 39.52 1.7999999999986135e-07\n",
      "[34.76  2.88  0.72  0.    0.04  0.06  0.06  0.    0.    1.  ]\n",
      "[0.0000e+00 0.0000e+00 0.0000e+00 2.0000e-07 8.4000e-06 5.6200e-05\n",
      " 4.3600e-04 2.2406e-03 9.3840e-03 0.0000e+00]\n",
      "70 0.032 0.32 9.999999999992514e-08\n",
      "[0.   0.   0.   0.06 0.06 0.06 0.06 0.04 0.04 0.  ]\n",
      "[1.0000e-07 1.0000e-07 1.0000e-07 1.0000e-07 8.5000e-06 5.6100e-05\n",
      " 4.3610e-04 2.2407e-03 9.3841e-03 1.0000e-07]\n",
      "75 3.814 38.14 9.999999999992514e-08\n",
      "[3.412e+01 2.440e+00 4.200e-01 2.000e-02 2.000e-02 2.000e-02 2.000e-02\n",
      " 2.000e-02 6.000e-02 1.000e+00]\n",
      "[0.0000e+00 0.0000e+00 0.0000e+00 2.0000e-07 8.6000e-06 5.6000e-05\n",
      " 4.3600e-04 2.2406e-03 9.3840e-03 0.0000e+00]\n"
     ]
    },
    {
     "ename": "KeyboardInterrupt",
     "evalue": "",
     "output_type": "error",
     "traceback": [
      "\u001b[0;31m---------------------------------------------------------------------------\u001b[0m",
      "\u001b[0;31mKeyboardInterrupt\u001b[0m                         Traceback (most recent call last)",
      "Cell \u001b[0;32mIn[21], line 21\u001b[0m\n\u001b[1;32m     19\u001b[0m \u001b[38;5;28;01mif\u001b[39;00m i \u001b[38;5;241m==\u001b[39m \u001b[38;5;241m60\u001b[39m:\n\u001b[1;32m     20\u001b[0m     update_ \u001b[38;5;241m=\u001b[39m \u001b[38;5;241m1e-7\u001b[39m\n\u001b[0;32m---> 21\u001b[0m deltas, res_q \u001b[38;5;241m=\u001b[39m \u001b[43mupdate_deltas\u001b[49m\u001b[43m(\u001b[49m\u001b[43mdeltas\u001b[49m\u001b[43m,\u001b[49m\u001b[43m \u001b[49m\u001b[43meps\u001b[49m\u001b[43m,\u001b[49m\u001b[43m \u001b[49m\u001b[43mK\u001b[49m\u001b[43m,\u001b[49m\u001b[43m \u001b[49m\u001b[43msize\u001b[49m\u001b[43m,\u001b[49m\u001b[43m \u001b[49m\u001b[43mx_min\u001b[49m\u001b[43m,\u001b[49m\u001b[43m \u001b[49m\u001b[43my_min\u001b[49m\u001b[43m,\u001b[49m\u001b[43m \u001b[49m\u001b[43mx_max\u001b[49m\u001b[43m,\u001b[49m\u001b[43m \u001b[49m\u001b[43my_max\u001b[49m\u001b[43m,\u001b[49m\u001b[43m \u001b[49m\u001b[43mupdate_\u001b[49m\u001b[43m,\u001b[49m\u001b[43m \u001b[49m\u001b[43mQ\u001b[49m\u001b[38;5;241;43m=\u001b[39;49m\u001b[43mQ\u001b[49m\u001b[43m)\u001b[49m\n\u001b[1;32m     22\u001b[0m \u001b[38;5;28;01mif\u001b[39;00m i \u001b[38;5;241m%\u001b[39m \u001b[38;5;241m5\u001b[39m \u001b[38;5;241m==\u001b[39m \u001b[38;5;241m0\u001b[39m:\n\u001b[1;32m     23\u001b[0m     diff_delta \u001b[38;5;241m=\u001b[39m np\u001b[38;5;241m.\u001b[39mmean(np\u001b[38;5;241m.\u001b[39mabs(prev_deltas \u001b[38;5;241m-\u001b[39m deltas))\n",
      "Cell \u001b[0;32mIn[18], line 5\u001b[0m, in \u001b[0;36mupdate_deltas\u001b[0;34m(deltas, eps, K, size, x_min, y_min, x_max, y_max, update_, Q, conf_level)\u001b[0m\n\u001b[1;32m      3\u001b[0m \u001b[38;5;28;01mfor\u001b[39;00m q \u001b[38;5;129;01min\u001b[39;00m \u001b[38;5;28mrange\u001b[39m(Q):\n\u001b[1;32m      4\u001b[0m     res \u001b[38;5;241m=\u001b[39m np\u001b[38;5;241m.\u001b[39mzeros(K, dtype\u001b[38;5;241m=\u001b[39m\u001b[38;5;28mint\u001b[39m)\n\u001b[0;32m----> 5\u001b[0m     mat, g \u001b[38;5;241m=\u001b[39m \u001b[43mbuild_rand_mat\u001b[49m\u001b[43m(\u001b[49m\u001b[43msize\u001b[49m\u001b[43m \u001b[49m\u001b[38;5;241;43m-\u001b[39;49m\u001b[43m \u001b[49m\u001b[38;5;241;43m1\u001b[39;49m\u001b[43m,\u001b[49m\u001b[43m \u001b[49m\u001b[43mx_min\u001b[49m\u001b[43m,\u001b[49m\u001b[43m \u001b[49m\u001b[43my_min\u001b[49m\u001b[43m,\u001b[49m\u001b[43m \u001b[49m\u001b[43mx_max\u001b[49m\u001b[43m,\u001b[49m\u001b[43m \u001b[49m\u001b[43my_max\u001b[49m\u001b[43m)\u001b[49m\n\u001b[1;32m      6\u001b[0m     omega \u001b[38;5;241m=\u001b[39m g\u001b[38;5;241m.\u001b[39momega\n\u001b[1;32m      7\u001b[0m     V \u001b[38;5;241m=\u001b[39m g\u001b[38;5;241m.\u001b[39mV\n",
      "Cell \u001b[0;32mIn[10], line 6\u001b[0m, in \u001b[0;36mbuild_rand_mat\u001b[0;34m(K, x_min, y_min, x_max, y_max)\u001b[0m\n\u001b[1;32m      4\u001b[0m L \u001b[38;5;241m=\u001b[39m compute_laplacian(W, D_sqinv)\n\u001b[1;32m      5\u001b[0m A \u001b[38;5;241m=\u001b[39m compute_AM_normalised(L, D_sqinv, \u001b[38;5;241m3\u001b[39m) \u001b[38;5;66;03m#3 peut être faible\u001b[39;00m\n\u001b[0;32m----> 6\u001b[0m W, g \u001b[38;5;241m=\u001b[39m \u001b[43mcompute_Ge\u001b[49m\u001b[43m(\u001b[49m\u001b[43mA\u001b[49m\u001b[43m)\u001b[49m\n\u001b[1;32m      7\u001b[0m g\u001b[38;5;241m.\u001b[39mcompute_A()\n\u001b[1;32m      8\u001b[0m g\u001b[38;5;241m.\u001b[39mkruskal_algo()\n",
      "File \u001b[0;32m~/work/Contrario_clustering/utils.py:130\u001b[0m, in \u001b[0;36mcompute_Ge\u001b[0;34m(A, d)\u001b[0m\n\u001b[1;32m    128\u001b[0m         W[i, j] \u001b[38;5;241m=\u001b[39m d(A[i], A[j])\n\u001b[1;32m    129\u001b[0m         W[j, i] \u001b[38;5;241m=\u001b[39m d(A[i], A[j])\n\u001b[0;32m--> 130\u001b[0m         g\u001b[38;5;241m.\u001b[39madd_edge(i, j, \u001b[43md\u001b[49m\u001b[43m(\u001b[49m\u001b[43mA\u001b[49m\u001b[43m[\u001b[49m\u001b[43mi\u001b[49m\u001b[43m]\u001b[49m\u001b[43m,\u001b[49m\u001b[43m \u001b[49m\u001b[43mA\u001b[49m\u001b[43m[\u001b[49m\u001b[43mj\u001b[49m\u001b[43m]\u001b[49m\u001b[43m)\u001b[49m)\n\u001b[1;32m    131\u001b[0m \u001b[38;5;28;01mreturn\u001b[39;00m W, g\n",
      "File \u001b[0;32m~/work/Contrario_clustering/utils.py:12\u001b[0m, in \u001b[0;36mL2_dist\u001b[0;34m(a, b)\u001b[0m\n\u001b[1;32m     11\u001b[0m \u001b[38;5;28;01mdef\u001b[39;00m \u001b[38;5;21mL2_dist\u001b[39m(a, b):\n\u001b[0;32m---> 12\u001b[0m     \u001b[38;5;28;01mreturn\u001b[39;00m \u001b[43mnp\u001b[49m\u001b[38;5;241;43m.\u001b[39;49m\u001b[43mlinalg\u001b[49m\u001b[38;5;241;43m.\u001b[39;49m\u001b[43mnorm\u001b[49m\u001b[43m(\u001b[49m\u001b[43ma\u001b[49m\u001b[38;5;241;43m-\u001b[39;49m\u001b[43mb\u001b[49m\u001b[43m)\u001b[49m\n",
      "File \u001b[0;32m<__array_function__ internals>:180\u001b[0m, in \u001b[0;36mnorm\u001b[0;34m(*args, **kwargs)\u001b[0m\n",
      "File \u001b[0;32m/opt/mamba/lib/python3.10/site-packages/numpy/linalg/linalg.py:2520\u001b[0m, in \u001b[0;36mnorm\u001b[0;34m(x, ord, axis, keepdims)\u001b[0m\n\u001b[1;32m   2515\u001b[0m ndim \u001b[38;5;241m=\u001b[39m x\u001b[38;5;241m.\u001b[39mndim\n\u001b[1;32m   2516\u001b[0m \u001b[38;5;28;01mif\u001b[39;00m ((\u001b[38;5;28mord\u001b[39m \u001b[38;5;129;01mis\u001b[39;00m \u001b[38;5;28;01mNone\u001b[39;00m) \u001b[38;5;129;01mor\u001b[39;00m\n\u001b[1;32m   2517\u001b[0m     (\u001b[38;5;28mord\u001b[39m \u001b[38;5;129;01min\u001b[39;00m (\u001b[38;5;124m'\u001b[39m\u001b[38;5;124mf\u001b[39m\u001b[38;5;124m'\u001b[39m, \u001b[38;5;124m'\u001b[39m\u001b[38;5;124mfro\u001b[39m\u001b[38;5;124m'\u001b[39m) \u001b[38;5;129;01mand\u001b[39;00m ndim \u001b[38;5;241m==\u001b[39m \u001b[38;5;241m2\u001b[39m) \u001b[38;5;129;01mor\u001b[39;00m\n\u001b[1;32m   2518\u001b[0m     (\u001b[38;5;28mord\u001b[39m \u001b[38;5;241m==\u001b[39m \u001b[38;5;241m2\u001b[39m \u001b[38;5;129;01mand\u001b[39;00m ndim \u001b[38;5;241m==\u001b[39m \u001b[38;5;241m1\u001b[39m)):\n\u001b[0;32m-> 2520\u001b[0m     x \u001b[38;5;241m=\u001b[39m \u001b[43mx\u001b[49m\u001b[38;5;241;43m.\u001b[39;49m\u001b[43mravel\u001b[49m\u001b[43m(\u001b[49m\u001b[43morder\u001b[49m\u001b[38;5;241;43m=\u001b[39;49m\u001b[38;5;124;43m'\u001b[39;49m\u001b[38;5;124;43mK\u001b[39;49m\u001b[38;5;124;43m'\u001b[39;49m\u001b[43m)\u001b[49m\n\u001b[1;32m   2521\u001b[0m     \u001b[38;5;28;01mif\u001b[39;00m isComplexType(x\u001b[38;5;241m.\u001b[39mdtype\u001b[38;5;241m.\u001b[39mtype):\n\u001b[1;32m   2522\u001b[0m         x_real \u001b[38;5;241m=\u001b[39m x\u001b[38;5;241m.\u001b[39mreal\n",
      "\u001b[0;31mKeyboardInterrupt\u001b[0m: "
     ]
    }
   ],
   "source": [
    "K = 10\n",
    "size = 30\n",
    "deltas = (1 - 1e-3) * np.ones(K)\n",
    "deltas = 0.01 * np.ones(K)\n",
    "eps = 1\n",
    "conf_level = 0.01\n",
    "update_ = 1e-3\n",
    "Q = 50\n",
    "\n",
    "prev_deltas = deltas.copy()\n",
    "\n",
    "for i in range(501):\n",
    "    if i == 10:\n",
    "        update_ = 1e-4\n",
    "    if i == 20:\n",
    "        update_ = 1e-5\n",
    "    if i == 30:\n",
    "        update_ = 1e-6\n",
    "    if i == 60:\n",
    "        update_ = 1e-7\n",
    "    deltas, res_q = update_deltas(deltas, eps, K, size, x_min, y_min, x_max, y_max, update_, Q=Q)\n",
    "    if i % 5 == 0:\n",
    "        diff_delta = np.mean(np.abs(prev_deltas - deltas))\n",
    "        prev_deltas = deltas.copy()\n",
    "        print(i, np.mean(res_q), np.mean(np.sum(res_q, axis=0)), diff_delta)\n",
    "        print(np.mean(res_q, axis=1))\n",
    "        print(deltas)\n",
    "print(deltas)"
   ]
  },
  {
   "cell_type": "code",
   "execution_count": null,
   "id": "6b8e0daa-0a98-435d-91e9-1a1394ffb14d",
   "metadata": {},
   "outputs": [],
   "source": []
  },
  {
   "cell_type": "code",
   "execution_count": null,
   "id": "92b60c7a-14d0-49a9-b9f3-149d11789f84",
   "metadata": {},
   "outputs": [],
   "source": []
  },
  {
   "cell_type": "code",
   "execution_count": 56,
   "id": "da4b1c14-31e8-469a-8433-b05538d01d4f",
   "metadata": {
    "tags": []
   },
   "outputs": [
    {
     "name": "stdout",
     "output_type": "stream",
     "text": [
      "1.0\n",
      "1.0\n",
      "1.0\n",
      "1.0\n",
      "1.0\n",
      "1.0\n",
      "1.0\n",
      "1.0\n",
      "1.0\n",
      "1.0\n",
      "1.0\n",
      "1.0\n",
      "1.0\n",
      "1.0\n",
      "1.0\n",
      "1.0\n",
      "1.0\n",
      "1.0\n",
      "1.0\n",
      "1.0\n",
      "1.0\n",
      "1.0\n",
      "1.0\n",
      "1.0\n",
      "1.0\n",
      "1.0\n",
      "1.0\n",
      "1.0\n",
      "1.0\n",
      "0.9999999911384875\n",
      "0.9999999798208312\n",
      "0.9999999700691523\n",
      "0.9999999875998891\n",
      "0.9999999047643218\n",
      "0.9999998613794215\n",
      "0.9999998451084481\n",
      "0.9999999604144829\n",
      "0.999999981745761\n",
      "0.9999999021206116\n",
      "0.9999998940045819\n",
      "0.9999999082609087\n",
      "0.9999999616894677\n",
      "0.9999999688822109\n",
      "0.9999991706630476\n",
      "0.999999962033505\n",
      "0.9999987211584747\n",
      "0.9999999106375322\n",
      "0.9999986363246771\n",
      "0.9999997891130711\n",
      "0.9999993742809271\n",
      "0.9999998971524051\n",
      "0.9999989742958838\n",
      "0.9999992421055128\n",
      "0.9999842277884835\n",
      "0.9999939208290389\n",
      "0.9998045073352191\n",
      "nan\n"
     ]
    }
   ],
   "source": [
    "res = np.zeros(K, dtype=int)\n",
    "mat, g = build_rand_mat(size - 1, x_min, y_min, x_max, y_max)\n",
    "omega = g.omega\n",
    "V = g.V\n",
    "for i in range(len(mat)):\n",
    "    k = hash_function(int(mat[i, 5]), K, size) \n",
    "    pfa = compute_pfa(mat[i, 4] / omega, V , mat[i,5])\n",
    "    print(pfa)"
   ]
  },
  {
   "cell_type": "code",
   "execution_count": null,
   "id": "b50e021e-cbda-4a3a-a31c-cac4fe8ddd62",
   "metadata": {
    "tags": []
   },
   "outputs": [],
   "source": [
    "K = 10\n",
    "deltas = (1 - 1e-3) * np.ones(K)\n",
    "deltas = 0.98 * np.ones(K)\n",
    "eps = 1\n",
    "conf_level = 0.01\n",
    "update_ = 1e-4\n",
    "Q = 50\n",
    "\n",
    "prev_deltas = deltas.copy()\n",
    "\n",
    "for i in range(5001):\n",
    "    if i == 500:\n",
    "        update_ = 1e-5\n",
    "    deltas, res_q = update_deltas(deltas, eps, mat, K, x_min, y_min, x_max, y_max, update_, Q=Q)\n",
    "    if i % 50 == 0:\n",
    "        diff_delta = np.mean(np.abs(prev_deltas - deltas))\n",
    "        prev_deltas = deltas.copy()\n",
    "        print(i, np.mean(res_q), np.mean(np.sum(res_q, axis=0)), diff_delta)\n",
    "    if i % 200 == 0:\n",
    "        print(deltas)\n",
    "print(deltas)"
   ]
  },
  {
   "cell_type": "code",
   "execution_count": 21,
   "id": "0e7409c3-9f16-425e-92fb-d731ef64a37b",
   "metadata": {
    "tags": []
   },
   "outputs": [
    {
     "name": "stdout",
     "output_type": "stream",
     "text": [
      "0 0.037 0.74\n",
      "50 0.031 0.62\n",
      "100 0.036 0.72\n",
      "150 0.032 0.64\n",
      "200 0.03 0.6\n",
      "250 0.025 0.5\n",
      "300 0.023 0.46\n",
      "350 0.025 0.5\n",
      "400 0.033 0.66\n",
      "450 0.018 0.36\n",
      "500 0.025 0.5\n",
      "550 0.027 0.54\n"
     ]
    },
    {
     "ename": "KeyboardInterrupt",
     "evalue": "",
     "output_type": "error",
     "traceback": [
      "\u001b[0;31m---------------------------------------------------------------------------\u001b[0m",
      "\u001b[0;31mKeyboardInterrupt\u001b[0m                         Traceback (most recent call last)",
      "Cell \u001b[0;32mIn[21], line 9\u001b[0m\n\u001b[1;32m      6\u001b[0m Q \u001b[38;5;241m=\u001b[39m \u001b[38;5;241m50\u001b[39m\n\u001b[1;32m      8\u001b[0m \u001b[38;5;28;01mfor\u001b[39;00m i \u001b[38;5;129;01min\u001b[39;00m \u001b[38;5;28mrange\u001b[39m(\u001b[38;5;241m1001\u001b[39m):\n\u001b[0;32m----> 9\u001b[0m     deltas, res_q \u001b[38;5;241m=\u001b[39m \u001b[43mupdate_deltas\u001b[49m\u001b[43m(\u001b[49m\u001b[43mdeltas\u001b[49m\u001b[43m,\u001b[49m\u001b[43m \u001b[49m\u001b[43meps\u001b[49m\u001b[43m,\u001b[49m\u001b[43m \u001b[49m\u001b[43mmat\u001b[49m\u001b[43m,\u001b[49m\u001b[43m \u001b[49m\u001b[43mK\u001b[49m\u001b[43m,\u001b[49m\u001b[43m \u001b[49m\u001b[43mx_min\u001b[49m\u001b[43m,\u001b[49m\u001b[43m \u001b[49m\u001b[43my_min\u001b[49m\u001b[43m,\u001b[49m\u001b[43m \u001b[49m\u001b[43mx_max\u001b[49m\u001b[43m,\u001b[49m\u001b[43m \u001b[49m\u001b[43my_max\u001b[49m\u001b[43m,\u001b[49m\u001b[43m \u001b[49m\u001b[43mupdate_\u001b[49m\u001b[43m,\u001b[49m\u001b[43m \u001b[49m\u001b[43mQ\u001b[49m\u001b[38;5;241;43m=\u001b[39;49m\u001b[43mQ\u001b[49m\u001b[43m)\u001b[49m\n\u001b[1;32m     10\u001b[0m     \u001b[38;5;28;01mif\u001b[39;00m i \u001b[38;5;241m%\u001b[39m \u001b[38;5;241m50\u001b[39m \u001b[38;5;241m==\u001b[39m \u001b[38;5;241m0\u001b[39m:\n\u001b[1;32m     11\u001b[0m         \u001b[38;5;28mprint\u001b[39m(i, np\u001b[38;5;241m.\u001b[39mmean(res_q), np\u001b[38;5;241m.\u001b[39mmean(np\u001b[38;5;241m.\u001b[39msum(res_q, axis\u001b[38;5;241m=\u001b[39m\u001b[38;5;241m0\u001b[39m)))\n",
      "Cell \u001b[0;32mIn[6], line 10\u001b[0m, in \u001b[0;36mupdate_deltas\u001b[0;34m(deltas, eps, mat, K, x_min, y_min, x_max, y_max, update_, Q)\u001b[0m\n\u001b[1;32m      8\u001b[0m \u001b[38;5;28;01mfor\u001b[39;00m i \u001b[38;5;129;01min\u001b[39;00m \u001b[38;5;28mrange\u001b[39m(\u001b[38;5;28mlen\u001b[39m(mat)):\n\u001b[1;32m      9\u001b[0m     k \u001b[38;5;241m=\u001b[39m \u001b[38;5;28mint\u001b[39m(mat[i, \u001b[38;5;241m5\u001b[39m]) \u001b[38;5;66;03m# hash function pour l'instant c'est juste le nb de sommets \u001b[39;00m\n\u001b[0;32m---> 10\u001b[0m     pfa \u001b[38;5;241m=\u001b[39m \u001b[43mcompute_pfa\u001b[49m\u001b[43m(\u001b[49m\u001b[43mmat\u001b[49m\u001b[43m[\u001b[49m\u001b[43mi\u001b[49m\u001b[43m,\u001b[49m\u001b[43m \u001b[49m\u001b[38;5;241;43m4\u001b[39;49m\u001b[43m]\u001b[49m\u001b[43m \u001b[49m\u001b[38;5;241;43m/\u001b[39;49m\u001b[43m \u001b[49m\u001b[43momega\u001b[49m\u001b[43m,\u001b[49m\u001b[43m \u001b[49m\u001b[43mV\u001b[49m\u001b[43m \u001b[49m\u001b[43m,\u001b[49m\u001b[43m \u001b[49m\u001b[43mk\u001b[49m\u001b[43m)\u001b[49m\n\u001b[1;32m     11\u001b[0m     \u001b[38;5;28;01mif\u001b[39;00m pfa \u001b[38;5;241m<\u001b[39m deltas[k]:\n\u001b[1;32m     12\u001b[0m         res[k] \u001b[38;5;241m+\u001b[39m\u001b[38;5;241m=\u001b[39m \u001b[38;5;241m1\u001b[39m\n",
      "File \u001b[0;32m~/work/Contrario_clustering/utils.py:135\u001b[0m, in \u001b[0;36mcompute_pfa\u001b[0;34m(p, V, V_)\u001b[0m\n\u001b[1;32m    134\u001b[0m \u001b[38;5;28;01mdef\u001b[39;00m \u001b[38;5;21mcompute_pfa\u001b[39m(p, V, V_):\n\u001b[0;32m--> 135\u001b[0m     \u001b[38;5;28;01mreturn\u001b[39;00m \u001b[43mbinom\u001b[49m\u001b[38;5;241;43m.\u001b[39;49m\u001b[43mcdf\u001b[49m\u001b[43m(\u001b[49m\u001b[43mV_\u001b[49m\u001b[43m,\u001b[49m\u001b[43m \u001b[49m\u001b[43mV\u001b[49m\u001b[43m,\u001b[49m\u001b[43m \u001b[49m\u001b[43mp\u001b[49m\u001b[43m)\u001b[49m\n",
      "File \u001b[0;32m/opt/mamba/lib/python3.10/site-packages/scipy/stats/_distn_infrastructure.py:3464\u001b[0m, in \u001b[0;36mrv_discrete.cdf\u001b[0;34m(self, k, *args, **kwds)\u001b[0m\n\u001b[1;32m   3462\u001b[0m cond2 \u001b[38;5;241m=\u001b[39m (k \u001b[38;5;241m>\u001b[39m\u001b[38;5;241m=\u001b[39m _b)\n\u001b[1;32m   3463\u001b[0m cond3 \u001b[38;5;241m=\u001b[39m np\u001b[38;5;241m.\u001b[39misneginf(k)\n\u001b[0;32m-> 3464\u001b[0m cond \u001b[38;5;241m=\u001b[39m cond0 \u001b[38;5;241m&\u001b[39m cond1 \u001b[38;5;241m&\u001b[39m \u001b[43mnp\u001b[49m\u001b[38;5;241;43m.\u001b[39;49m\u001b[43misfinite\u001b[49m\u001b[43m(\u001b[49m\u001b[43mk\u001b[49m\u001b[43m)\u001b[49m\n\u001b[1;32m   3466\u001b[0m output \u001b[38;5;241m=\u001b[39m zeros(shape(cond), \u001b[38;5;124m'\u001b[39m\u001b[38;5;124md\u001b[39m\u001b[38;5;124m'\u001b[39m)\n\u001b[1;32m   3467\u001b[0m place(output, cond2\u001b[38;5;241m*\u001b[39m(cond0 \u001b[38;5;241m==\u001b[39m cond0), \u001b[38;5;241m1.0\u001b[39m)\n",
      "\u001b[0;31mKeyboardInterrupt\u001b[0m: "
     ]
    }
   ],
   "source": [
    "K = 20\n",
    "deltas = (1 - 1e-2) * np.ones(K)\n",
    "eps = 0.1\n",
    "conf_level = 0.05\n",
    "update_ = 1e-5\n",
    "Q = 50\n",
    "\n",
    "for i in range(1001):\n",
    "    deltas, res_q = update_deltas(deltas, eps, mat, K, x_min, y_min, x_max, y_max, update_, Q=Q)\n",
    "    if i % 50 == 0:\n",
    "        print(i, np.mean(res_q), np.mean(np.sum(res_q, axis=0)))\n",
    "print(deltas)"
   ]
  },
  {
   "cell_type": "code",
   "execution_count": 33,
   "id": "5c932914-8a38-45fd-81a8-f8dc8a629c97",
   "metadata": {
    "tags": []
   },
   "outputs": [
    {
     "data": {
      "text/plain": [
       "-1000.0000000000008"
      ]
     },
     "execution_count": 33,
     "metadata": {},
     "output_type": "execute_result"
    }
   ],
   "source": [
    "((1 - 1e-2) - deltas[9]) / update_"
   ]
  },
  {
   "cell_type": "code",
   "execution_count": 48,
   "id": "a66bfc27-7def-4527-a073-88bb5fdade9a",
   "metadata": {
    "tags": []
   },
   "outputs": [
    {
     "data": {
      "text/plain": [
       "0.9999699999999979"
      ]
     },
     "execution_count": 48,
     "metadata": {},
     "output_type": "execute_result"
    }
   ],
   "source": [
    "deltas[2]"
   ]
  },
  {
   "cell_type": "code",
   "execution_count": 16,
   "id": "39b4a8d8-8c91-4942-9318-c7552d078385",
   "metadata": {
    "tags": []
   },
   "outputs": [
    {
     "data": {
      "text/plain": [
       "array([1, 1, 1, 1, 1, 1, 1, 1, 1, 1, 1, 1, 1, 2, 0, 1, 1, 2, 0, 1, 1, 1,\n",
       "       2, 1, 1, 1, 1, 1, 1, 1, 1, 1, 1, 1, 1, 1, 1, 0, 1, 1, 1, 1, 1, 0,\n",
       "       0, 1, 1, 1, 0, 4])"
      ]
     },
     "execution_count": 16,
     "metadata": {},
     "output_type": "execute_result"
    }
   ],
   "source": [
    "np.sum(res_q, axis=0)"
   ]
  },
  {
   "cell_type": "code",
   "execution_count": 11,
   "id": "8aab9df0-848b-4f59-99b0-4e13bdff4632",
   "metadata": {
    "tags": []
   },
   "outputs": [
    {
     "data": {
      "text/plain": [
       "array([False, False,  True,  True, False,  True,  True,  True,  True,\n",
       "       False])"
      ]
     },
     "execution_count": 11,
     "metadata": {},
     "output_type": "execute_result"
    }
   ],
   "source": [
    "s = np.maximum(np.std(res_q, axis=1), 1e-5)\n",
    "m = np.mean(res_q, axis=1)\n",
    "t.cdf((m - eps / K) / s * np.sqrt(Q - 1), Q-1) > conf_level"
   ]
  },
  {
   "cell_type": "code",
   "execution_count": 25,
   "id": "5b28c2ea-0d9b-4c32-8041-3e9540a350b6",
   "metadata": {
    "tags": []
   },
   "outputs": [
    {
     "data": {
      "text/plain": [
       "array([0.98534, 0.98534, 0.98534, 0.98534, 0.9854 , 0.99328, 0.99466,\n",
       "       0.99466, 0.99466, 0.98534])"
      ]
     },
     "execution_count": 25,
     "metadata": {},
     "output_type": "execute_result"
    }
   ],
   "source": [
    "deltas"
   ]
  },
  {
   "cell_type": "code",
   "execution_count": null,
   "id": "7bb18a44-441b-4cd9-8d47-971be11ec618",
   "metadata": {},
   "outputs": [],
   "source": []
  }
 ],
 "metadata": {
  "kernelspec": {
   "display_name": "Python 3 (ipykernel)",
   "language": "python",
   "name": "python3"
  },
  "language_info": {
   "codemirror_mode": {
    "name": "ipython",
    "version": 3
   },
   "file_extension": ".py",
   "mimetype": "text/x-python",
   "name": "python",
   "nbconvert_exporter": "python",
   "pygments_lexer": "ipython3",
   "version": "3.10.9"
  }
 },
 "nbformat": 4,
 "nbformat_minor": 5
}
