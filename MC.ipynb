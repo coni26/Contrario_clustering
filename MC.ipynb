{
 "cells": [
  {
   "cell_type": "code",
   "execution_count": 1,
   "id": "b8fbaa7e-2d00-47ae-802c-cd9bd829b63f",
   "metadata": {
    "tags": []
   },
   "outputs": [],
   "source": [
    "%reload_ext autoreload\n",
    "%autoreload 3\n",
    "\n",
    "import numpy as np\n",
    "import pandas as pd\n",
    "import matplotlib.pyplot as plt\n",
    "import time\n",
    "import matplotlib.animation as animation\n",
    "from scipy.stats import binom, t\n",
    "import matplotlib as mpl\n",
    "from sklearn import datasets\n",
    "import itertools\n",
    "\n",
    "from utils import *"
   ]
  },
  {
   "cell_type": "code",
   "execution_count": 2,
   "id": "2b5afcee-7880-4a2b-b643-057399f0038e",
   "metadata": {
    "tags": []
   },
   "outputs": [],
   "source": [
    "X_0 = np.random.rand(50,2) + 1\n",
    "X_1 = np.random.rand(50,2) - 1\n",
    "X = np.concatenate([X_0, X_1])\n",
    "\n",
    "x_min, x_max = min(X[:,0]), max(X[:,0])\n",
    "y_min, y_max = min(X[:,1]), max(X[:,1])"
   ]
  },
  {
   "cell_type": "code",
   "execution_count": 3,
   "id": "3bcc661c-1bb6-45c0-a844-64aef54ddc1d",
   "metadata": {
    "tags": []
   },
   "outputs": [],
   "source": [
    "W, D_sqinv = compute_G0(X)\n",
    "L = compute_laplacian(W, D_sqinv)\n",
    "A = compute_AM_normalised(L, D_sqinv, 3) #3 peut être faible\n",
    "W, g = compute_Ge(A)"
   ]
  },
  {
   "cell_type": "code",
   "execution_count": 4,
   "id": "97e5248a-1ce4-4bfd-8610-73ab5d460f55",
   "metadata": {
    "tags": []
   },
   "outputs": [],
   "source": [
    "g.compute_A()\n",
    "g.kruskal_algo()\n",
    "mat = g.compute_mat()"
   ]
  },
  {
   "cell_type": "code",
   "execution_count": 5,
   "id": "b2db0eff-0bf3-47bb-b314-d84e3f460401",
   "metadata": {
    "tags": []
   },
   "outputs": [],
   "source": [
    "def build_rand_mat(K, x_min, y_min, x_max, y_max):\n",
    "    X_H0 = np.random.uniform(size=(K,2)) * np.array([x_max - x_min, y_max - y_min]) + np.array([x_min, y_min])\n",
    "    W, D_sqinv = compute_G0(X_H0)\n",
    "    L = compute_laplacian(W, D_sqinv)\n",
    "    A = compute_AM_normalised(L, D_sqinv, 3) #3 peut être faible\n",
    "    W, g = compute_Ge(A)\n",
    "    g.compute_A()\n",
    "    g.kruskal_algo()\n",
    "    mat = g.compute_mat()\n",
    "    return mat, g"
   ]
  },
  {
   "cell_type": "code",
   "execution_count": 30,
   "id": "4df7f844-cc5b-45c8-9e69-58abc1674364",
   "metadata": {
    "tags": []
   },
   "outputs": [],
   "source": [
    "def update_deltas(deltas, eps, mat, K, x_min, y_min, x_max, y_max, update_, Q=10):\n",
    "    res_q = np.zeros((K, Q), dtype=int)\n",
    "    for q in range(Q):\n",
    "        res = np.zeros(K, dtype=int)\n",
    "        mat, g = build_rand_mat(K-1, x_min, y_min, x_max, y_max)\n",
    "        omega = g.omega\n",
    "        V = g.V\n",
    "        for i in range(len(mat)):\n",
    "            k = int(mat[i, 5]) #hash function pour l'instant c'est juste le nb de sommets \n",
    "            pfa = compute_pfa(mat[i, 4] / omega, V , k)\n",
    "            if pfa < deltas[k]:\n",
    "                res[k] += 1\n",
    "        res_q[:, q] = res\n",
    "    s = np.maximum(np.std(res_q, axis=1), 1e-5)\n",
    "    m = np.mean(res_q, axis=1)\n",
    "    upd = t.cdf((m - eps / K) / s * np.sqrt(Q - 1), Q-1) > conf_level\n",
    "    deltas -= (2 * upd - 1) * update_\n",
    "    deltas = np.minimum(1, deltas)\n",
    "    return deltas, res_q\n"
   ]
  },
  {
   "cell_type": "code",
   "execution_count": 29,
   "id": "fe4b7347-388c-483d-aa67-5bdbf3fa56f2",
   "metadata": {
    "tags": []
   },
   "outputs": [
    {
     "name": "stdout",
     "output_type": "stream",
     "text": [
      "1.0\n",
      "1.0\n",
      "0.999999998999\n",
      "0.999999998999\n",
      "0.999999998999\n",
      "0.999999998999\n",
      "0.999999998999\n",
      "0.999999998999\n",
      "0.999999998999\n",
      "1.0\n"
     ]
    }
   ],
   "source": [
    "# MC complet\n",
    "K = 10\n",
    "deltas = (1 - 1e-12) * np.ones(K)\n",
    "eps = 0.5\n",
    "conf_level = 0.05\n",
    "update_ = 1e-9\n",
    "Q = 10\n",
    "\n",
    "deltas,_ = update_deltas(deltas, eps, mat, K, x_min, y_min, x_max, y_max, update_, Q=10)\n",
    "for i in deltas:\n",
    "    print(i)"
   ]
  },
  {
   "cell_type": "code",
   "execution_count": null,
   "id": "0e7409c3-9f16-425e-92fb-d731ef64a37b",
   "metadata": {
    "tags": []
   },
   "outputs": [
    {
     "name": "stdout",
     "output_type": "stream",
     "text": [
      "0 0.21\n",
      "50 0.17\n",
      "100 0.18\n",
      "150 0.18\n",
      "200 0.11\n",
      "250 0.12\n",
      "300 0.12\n",
      "350 0.1\n",
      "400 0.12\n",
      "450 0.08\n",
      "500 0.09\n",
      "550 0.04\n",
      "600 0.03\n",
      "650 0.07\n",
      "700 0.04\n",
      "750 0.07\n",
      "800 0.09\n",
      "850 0.05\n"
     ]
    }
   ],
   "source": [
    "K = 10\n",
    "deltas = (1 - 1e-3) * np.ones(K)\n",
    "eps = 0.5\n",
    "conf_level = 0.05\n",
    "update_ = 1e-4\n",
    "Q = 10\n",
    "\n",
    "for i in range(1001):\n",
    "    deltas, res_q = update_deltas(deltas, eps, mat, K, x_min, y_min, x_max, y_max, update_, Q=10)\n",
    "    if i % 50 == 0:\n",
    "        print(i, np.mean(res_q))\n",
    "print(deltas)"
   ]
  },
  {
   "cell_type": "code",
   "execution_count": null,
   "id": "5c932914-8a38-45fd-81a8-f8dc8a629c97",
   "metadata": {},
   "outputs": [],
   "source": []
  }
 ],
 "metadata": {
  "kernelspec": {
   "display_name": "Python 3 (ipykernel)",
   "language": "python",
   "name": "python3"
  },
  "language_info": {
   "codemirror_mode": {
    "name": "ipython",
    "version": 3
   },
   "file_extension": ".py",
   "mimetype": "text/x-python",
   "name": "python",
   "nbconvert_exporter": "python",
   "pygments_lexer": "ipython3",
   "version": "3.10.9"
  }
 },
 "nbformat": 4,
 "nbformat_minor": 5
}
