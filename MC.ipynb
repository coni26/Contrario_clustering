{
 "cells": [
  {
   "cell_type": "code",
   "execution_count": 29,
   "id": "b8fbaa7e-2d00-47ae-802c-cd9bd829b63f",
   "metadata": {
    "tags": []
   },
   "outputs": [],
   "source": [
    "%reload_ext autoreload\n",
    "%autoreload 3\n",
    "\n",
    "import numpy as np\n",
    "import pandas as pd\n",
    "import matplotlib.pyplot as plt\n",
    "import time\n",
    "import matplotlib.animation as animation\n",
    "from scipy.stats import binom\n",
    "import matplotlib as mpl\n",
    "from sklearn import datasets\n",
    "import itertools\n",
    "\n",
    "from utils import *"
   ]
  },
  {
   "cell_type": "code",
   "execution_count": 43,
   "id": "2b5afcee-7880-4a2b-b643-057399f0038e",
   "metadata": {
    "tags": []
   },
   "outputs": [],
   "source": [
    "X_0 = np.random.rand(50,2) + 1\n",
    "X_1 = np.random.rand(50,2) - 1\n",
    "X = np.concatenate([X_0, X_1])\n",
    "\n",
    "x_min, x_max = min(X[:,0]), max(X[:,0])\n",
    "y_min, y_max = min(X[:,1]), max(X[:,1])"
   ]
  },
  {
   "cell_type": "code",
   "execution_count": 31,
   "id": "3bcc661c-1bb6-45c0-a844-64aef54ddc1d",
   "metadata": {
    "tags": []
   },
   "outputs": [],
   "source": [
    "W, D_sqinv = compute_G0(X)\n",
    "L = compute_laplacian(W, D_sqinv)\n",
    "A = compute_AM_normalised(L, D_sqinv, 3) #3 peut être faible\n",
    "W, g = compute_Ge(A)"
   ]
  },
  {
   "cell_type": "code",
   "execution_count": 32,
   "id": "97e5248a-1ce4-4bfd-8610-73ab5d460f55",
   "metadata": {
    "tags": []
   },
   "outputs": [],
   "source": [
    "g.compute_A()\n",
    "g.kruskal_algo()\n",
    "mat = g.compute_mat()"
   ]
  },
  {
   "cell_type": "code",
   "execution_count": null,
   "id": "4df7f844-cc5b-45c8-9e69-58abc1674364",
   "metadata": {},
   "outputs": [],
   "source": [
    "def update_deltas(deltas, eps):\n",
    "    "
   ]
  },
  {
   "cell_type": "code",
   "execution_count": 58,
   "id": "fe4b7347-388c-483d-aa67-5bdbf3fa56f2",
   "metadata": {
    "tags": []
   },
   "outputs": [],
   "source": [
    "K = 100\n",
    "deltas = 0.999 * np.ones(K)\n",
    "\n",
    "X_H0 = np.random.uniform(size=(K,2)) * np.array([x_max - x_min, y_max - y_min]) + np.array([x_min, y_min])\n",
    "\n"
   ]
  },
  {
   "cell_type": "code",
   "execution_count": 56,
   "id": "01f6044f-7f46-45fb-af74-531e858642af",
   "metadata": {
    "tags": []
   },
   "outputs": [],
   "source": []
  },
  {
   "cell_type": "code",
   "execution_count": null,
   "id": "63b28d41-293e-4fca-9754-54cd86f18277",
   "metadata": {},
   "outputs": [],
   "source": []
  }
 ],
 "metadata": {
  "kernelspec": {
   "display_name": "Python 3 (ipykernel)",
   "language": "python",
   "name": "python3"
  },
  "language_info": {
   "codemirror_mode": {
    "name": "ipython",
    "version": 3
   },
   "file_extension": ".py",
   "mimetype": "text/x-python",
   "name": "python",
   "nbconvert_exporter": "python",
   "pygments_lexer": "ipython3",
   "version": "3.10.9"
  }
 },
 "nbformat": 4,
 "nbformat_minor": 5
}
