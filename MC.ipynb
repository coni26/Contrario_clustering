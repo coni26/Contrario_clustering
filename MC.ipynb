{
 "cells": [
  {
   "cell_type": "code",
   "execution_count": 1,
   "id": "b8fbaa7e-2d00-47ae-802c-cd9bd829b63f",
   "metadata": {
    "tags": []
   },
   "outputs": [],
   "source": [
    "%reload_ext autoreload\n",
    "%autoreload 3\n",
    "\n",
    "import numpy as np\n",
    "import pandas as pd\n",
    "import matplotlib.pyplot as plt\n",
    "import time\n",
    "import matplotlib.animation as animation\n",
    "from scipy.stats import binom, t\n",
    "import matplotlib as mpl\n",
    "from sklearn import datasets\n",
    "import itertools\n",
    "from tqdm import tqdm\n",
    "\n",
    "from utils import *"
   ]
  },
  {
   "cell_type": "code",
   "execution_count": 2,
   "id": "2b5afcee-7880-4a2b-b643-057399f0038e",
   "metadata": {
    "tags": []
   },
   "outputs": [],
   "source": [
    "X_0 = np.random.rand(50,2) + 1\n",
    "X_1 = np.random.rand(50,2) - 1\n",
    "X = np.concatenate([X_0, X_1])\n",
    "\n",
    "x_min, x_max = min(X[:,0]), max(X[:,0])\n",
    "y_min, y_max = min(X[:,1]), max(X[:,1])"
   ]
  },
  {
   "cell_type": "code",
   "execution_count": 3,
   "id": "b2db0eff-0bf3-47bb-b314-d84e3f460401",
   "metadata": {
    "tags": []
   },
   "outputs": [],
   "source": [
    "def build_rand_mat(K, x_min, y_min, x_max, y_max):\n",
    "    X_H0 = np.random.uniform(size=(K,2)) * np.array([x_max - x_min, y_max - y_min]) + np.array([x_min, y_min])\n",
    "    W, D_sqinv = compute_G0(X_H0)\n",
    "    L = compute_laplacian(W, D_sqinv)\n",
    "    A = compute_AM_normalised(L, D_sqinv, 3) #3 peut être faible\n",
    "    W, g = compute_Ge(A)\n",
    "    g.compute_A()\n",
    "    g.kruskal_algo()\n",
    "    mat = g.compute_mat()\n",
    "    return mat, g"
   ]
  },
  {
   "cell_type": "code",
   "execution_count": 4,
   "id": "c5cdc811-1102-40ea-b046-1213b0c95ab4",
   "metadata": {
    "tags": []
   },
   "outputs": [],
   "source": [
    "def hash_function(V_, K, N):\n",
    "    return int((V_ - 1) * K / N)"
   ]
  },
  {
   "cell_type": "code",
   "execution_count": 11,
   "id": "4df7f844-cc5b-45c8-9e69-58abc1674364",
   "metadata": {
    "tags": []
   },
   "outputs": [],
   "source": [
    "def update_deltas(deltas, eps, K, size, x_min, y_min, x_max, y_max, update_, Q=30, conf_level=0.05):\n",
    "    res_q = np.zeros((K, Q), dtype=int)\n",
    "    for q in range(Q):\n",
    "        res = np.zeros(K, dtype=int)\n",
    "        mat, g = build_rand_mat(size - 1, x_min, y_min, x_max, y_max)\n",
    "        omega = g.omega\n",
    "        V = g.V\n",
    "        for i in range(len(mat)):\n",
    "            k = hash_function(int(mat[i, 5]), K, size) \n",
    "            pfa = compute_pfa(min(mat[i, 4] / omega, 1), V , mat[i,5])\n",
    "            if pfa < deltas[k]:\n",
    "                res[k] += 1\n",
    "        res_q[:, q] = res.copy()\n",
    "    s = np.maximum(np.std(res_q, axis=1), 1e-5)\n",
    "    m = np.mean(res_q, axis=1)\n",
    "    upd = t.cdf((m - eps / K) / s * np.sqrt(Q - 1), Q-1) > conf_level\n",
    "    deltas -= (2 * upd - 1) * update_\n",
    "    deltas = np.minimum(1, deltas)\n",
    "    return deltas, res_q\n"
   ]
  },
  {
   "cell_type": "code",
   "execution_count": 12,
   "id": "0881465c-234f-434c-93e1-5a42095c9b9b",
   "metadata": {
    "tags": []
   },
   "outputs": [],
   "source": [
    "def compute_deltas(size, Q=30, conf_level=0.05, eps=1, K=10):\n",
    "    deltas = 0.99 * np.ones(K)\n",
    "    update_ = 1e-3\n",
    "    for i in tqdm(range(100)):\n",
    "        if i == 10:\n",
    "            update_ = 1e-4\n",
    "        if i == 20:\n",
    "            update_ = 1e-5\n",
    "        if i == 30:\n",
    "            update_ = 1e-6\n",
    "        deltas, res_q = update_deltas(deltas, eps, K, size, x_min, y_min, x_max, y_max, update_, Q, conf_level)\n",
    "        print(np.mean(np.sum(res_q, axis=0)))\n",
    "    return deltas"
   ]
  },
  {
   "cell_type": "code",
   "execution_count": 13,
   "id": "43c2c1e5-bc5b-401d-b9e2-cbfc5fc4eaf0",
   "metadata": {
    "tags": []
   },
   "outputs": [
    {
     "name": "stderr",
     "output_type": "stream",
     "text": [
      "  1%|          | 1/100 [00:00<00:54,  1.82it/s]"
     ]
    },
    {
     "name": "stdout",
     "output_type": "stream",
     "text": [
      "0.7\n"
     ]
    },
    {
     "name": "stderr",
     "output_type": "stream",
     "text": [
      "  2%|▏         | 2/100 [00:01<00:55,  1.78it/s]"
     ]
    },
    {
     "name": "stdout",
     "output_type": "stream",
     "text": [
      "0.3333333333333333\n"
     ]
    },
    {
     "name": "stderr",
     "output_type": "stream",
     "text": [
      "  3%|▎         | 3/100 [00:01<00:54,  1.77it/s]"
     ]
    },
    {
     "name": "stdout",
     "output_type": "stream",
     "text": [
      "0.3333333333333333\n"
     ]
    },
    {
     "name": "stderr",
     "output_type": "stream",
     "text": [
      "  4%|▍         | 4/100 [00:02<00:53,  1.80it/s]"
     ]
    },
    {
     "name": "stdout",
     "output_type": "stream",
     "text": [
      "0.6666666666666666\n"
     ]
    },
    {
     "name": "stderr",
     "output_type": "stream",
     "text": [
      "  5%|▌         | 5/100 [00:02<00:53,  1.78it/s]"
     ]
    },
    {
     "name": "stdout",
     "output_type": "stream",
     "text": [
      "0.4\n"
     ]
    },
    {
     "name": "stderr",
     "output_type": "stream",
     "text": [
      "  6%|▌         | 6/100 [00:03<00:53,  1.77it/s]"
     ]
    },
    {
     "name": "stdout",
     "output_type": "stream",
     "text": [
      "0.3333333333333333\n"
     ]
    },
    {
     "name": "stderr",
     "output_type": "stream",
     "text": [
      "  7%|▋         | 7/100 [00:03<00:53,  1.73it/s]"
     ]
    },
    {
     "name": "stdout",
     "output_type": "stream",
     "text": [
      "0.3\n"
     ]
    },
    {
     "name": "stderr",
     "output_type": "stream",
     "text": [
      "  8%|▊         | 8/100 [00:04<00:53,  1.73it/s]"
     ]
    },
    {
     "name": "stdout",
     "output_type": "stream",
     "text": [
      "0.23333333333333334\n"
     ]
    },
    {
     "name": "stderr",
     "output_type": "stream",
     "text": [
      "  9%|▉         | 9/100 [00:05<00:54,  1.68it/s]"
     ]
    },
    {
     "name": "stdout",
     "output_type": "stream",
     "text": [
      "0.3333333333333333\n"
     ]
    },
    {
     "name": "stderr",
     "output_type": "stream",
     "text": [
      " 10%|█         | 10/100 [00:05<00:53,  1.68it/s]"
     ]
    },
    {
     "name": "stdout",
     "output_type": "stream",
     "text": [
      "0.3333333333333333\n"
     ]
    },
    {
     "name": "stderr",
     "output_type": "stream",
     "text": [
      " 11%|█         | 11/100 [00:06<00:53,  1.68it/s]"
     ]
    },
    {
     "name": "stdout",
     "output_type": "stream",
     "text": [
      "26.133333333333333\n"
     ]
    },
    {
     "name": "stderr",
     "output_type": "stream",
     "text": [
      " 12%|█▏        | 12/100 [00:06<00:52,  1.68it/s]"
     ]
    },
    {
     "name": "stdout",
     "output_type": "stream",
     "text": [
      "0.5666666666666667\n"
     ]
    },
    {
     "name": "stderr",
     "output_type": "stream",
     "text": [
      " 13%|█▎        | 13/100 [00:07<00:51,  1.68it/s]"
     ]
    },
    {
     "name": "stdout",
     "output_type": "stream",
     "text": [
      "24.833333333333332\n"
     ]
    },
    {
     "name": "stderr",
     "output_type": "stream",
     "text": [
      " 14%|█▍        | 14/100 [00:08<00:51,  1.66it/s]"
     ]
    },
    {
     "name": "stdout",
     "output_type": "stream",
     "text": [
      "0.4\n"
     ]
    },
    {
     "name": "stderr",
     "output_type": "stream",
     "text": [
      " 15%|█▌        | 15/100 [00:08<00:51,  1.64it/s]"
     ]
    },
    {
     "name": "stdout",
     "output_type": "stream",
     "text": [
      "24.9\n"
     ]
    },
    {
     "name": "stderr",
     "output_type": "stream",
     "text": [
      " 16%|█▌        | 16/100 [00:09<00:50,  1.66it/s]"
     ]
    },
    {
     "name": "stdout",
     "output_type": "stream",
     "text": [
      "0.6\n"
     ]
    },
    {
     "name": "stderr",
     "output_type": "stream",
     "text": [
      " 17%|█▋        | 17/100 [00:10<00:49,  1.66it/s]"
     ]
    },
    {
     "name": "stdout",
     "output_type": "stream",
     "text": [
      "24.966666666666665\n"
     ]
    },
    {
     "name": "stderr",
     "output_type": "stream",
     "text": [
      " 18%|█▊        | 18/100 [00:10<00:48,  1.69it/s]"
     ]
    },
    {
     "name": "stdout",
     "output_type": "stream",
     "text": [
      "0.5333333333333333\n"
     ]
    },
    {
     "name": "stderr",
     "output_type": "stream",
     "text": [
      " 19%|█▉        | 19/100 [00:11<00:47,  1.70it/s]"
     ]
    },
    {
     "name": "stdout",
     "output_type": "stream",
     "text": [
      "24.7\n"
     ]
    },
    {
     "name": "stderr",
     "output_type": "stream",
     "text": [
      " 20%|██        | 20/100 [00:11<00:46,  1.71it/s]"
     ]
    },
    {
     "name": "stdout",
     "output_type": "stream",
     "text": [
      "0.4\n"
     ]
    },
    {
     "name": "stderr",
     "output_type": "stream",
     "text": [
      " 21%|██        | 21/100 [00:12<00:45,  1.73it/s]"
     ]
    },
    {
     "name": "stdout",
     "output_type": "stream",
     "text": [
      "24.633333333333333\n"
     ]
    },
    {
     "name": "stderr",
     "output_type": "stream",
     "text": [
      " 22%|██▏       | 22/100 [00:12<00:44,  1.74it/s]"
     ]
    },
    {
     "name": "stdout",
     "output_type": "stream",
     "text": [
      "0.3333333333333333\n"
     ]
    },
    {
     "name": "stderr",
     "output_type": "stream",
     "text": [
      " 23%|██▎       | 23/100 [00:13<00:44,  1.71it/s]"
     ]
    },
    {
     "name": "stdout",
     "output_type": "stream",
     "text": [
      "21.2\n"
     ]
    },
    {
     "name": "stderr",
     "output_type": "stream",
     "text": [
      " 24%|██▍       | 24/100 [00:14<00:44,  1.70it/s]"
     ]
    },
    {
     "name": "stdout",
     "output_type": "stream",
     "text": [
      "0.2\n"
     ]
    },
    {
     "name": "stderr",
     "output_type": "stream",
     "text": [
      " 25%|██▌       | 25/100 [00:14<00:43,  1.70it/s]"
     ]
    },
    {
     "name": "stdout",
     "output_type": "stream",
     "text": [
      "20.766666666666666\n"
     ]
    },
    {
     "name": "stderr",
     "output_type": "stream",
     "text": [
      " 26%|██▌       | 26/100 [00:15<00:43,  1.68it/s]"
     ]
    },
    {
     "name": "stdout",
     "output_type": "stream",
     "text": [
      "0.36666666666666664\n"
     ]
    },
    {
     "name": "stderr",
     "output_type": "stream",
     "text": [
      " 27%|██▋       | 27/100 [00:15<00:43,  1.69it/s]"
     ]
    },
    {
     "name": "stdout",
     "output_type": "stream",
     "text": [
      "23.7\n"
     ]
    },
    {
     "name": "stderr",
     "output_type": "stream",
     "text": [
      " 28%|██▊       | 28/100 [00:16<00:42,  1.69it/s]"
     ]
    },
    {
     "name": "stdout",
     "output_type": "stream",
     "text": [
      "0.5333333333333333\n"
     ]
    },
    {
     "name": "stderr",
     "output_type": "stream",
     "text": [
      " 29%|██▉       | 29/100 [00:17<00:42,  1.67it/s]"
     ]
    },
    {
     "name": "stdout",
     "output_type": "stream",
     "text": [
      "23.3\n"
     ]
    },
    {
     "name": "stderr",
     "output_type": "stream",
     "text": [
      " 30%|███       | 30/100 [00:17<00:42,  1.66it/s]"
     ]
    },
    {
     "name": "stdout",
     "output_type": "stream",
     "text": [
      "0.5333333333333333\n"
     ]
    },
    {
     "name": "stderr",
     "output_type": "stream",
     "text": [
      " 31%|███       | 31/100 [00:18<00:42,  1.63it/s]"
     ]
    },
    {
     "name": "stdout",
     "output_type": "stream",
     "text": [
      "21.133333333333333\n"
     ]
    },
    {
     "name": "stderr",
     "output_type": "stream",
     "text": [
      " 32%|███▏      | 32/100 [00:18<00:41,  1.63it/s]"
     ]
    },
    {
     "name": "stdout",
     "output_type": "stream",
     "text": [
      "2.3333333333333335\n"
     ]
    },
    {
     "name": "stderr",
     "output_type": "stream",
     "text": [
      " 33%|███▎      | 33/100 [00:19<00:40,  1.66it/s]"
     ]
    },
    {
     "name": "stdout",
     "output_type": "stream",
     "text": [
      "1.3\n"
     ]
    },
    {
     "name": "stderr",
     "output_type": "stream",
     "text": [
      " 34%|███▍      | 34/100 [00:20<00:39,  1.68it/s]"
     ]
    },
    {
     "name": "stdout",
     "output_type": "stream",
     "text": [
      "0.5333333333333333\n"
     ]
    },
    {
     "name": "stderr",
     "output_type": "stream",
     "text": [
      " 35%|███▌      | 35/100 [00:20<00:38,  1.70it/s]"
     ]
    },
    {
     "name": "stdout",
     "output_type": "stream",
     "text": [
      "0.6333333333333333\n"
     ]
    },
    {
     "name": "stderr",
     "output_type": "stream",
     "text": [
      " 36%|███▌      | 36/100 [00:21<00:36,  1.73it/s]"
     ]
    },
    {
     "name": "stdout",
     "output_type": "stream",
     "text": [
      "0.3333333333333333\n"
     ]
    },
    {
     "name": "stderr",
     "output_type": "stream",
     "text": [
      " 37%|███▋      | 37/100 [00:21<00:36,  1.74it/s]"
     ]
    },
    {
     "name": "stdout",
     "output_type": "stream",
     "text": [
      "0.4\n"
     ]
    },
    {
     "name": "stderr",
     "output_type": "stream",
     "text": [
      " 38%|███▊      | 38/100 [00:22<00:35,  1.75it/s]"
     ]
    },
    {
     "name": "stdout",
     "output_type": "stream",
     "text": [
      "0.5666666666666667\n"
     ]
    },
    {
     "name": "stderr",
     "output_type": "stream",
     "text": [
      " 39%|███▉      | 39/100 [00:22<00:35,  1.72it/s]"
     ]
    },
    {
     "name": "stdout",
     "output_type": "stream",
     "text": [
      "0.3333333333333333\n"
     ]
    },
    {
     "name": "stderr",
     "output_type": "stream",
     "text": [
      " 40%|████      | 40/100 [00:23<00:34,  1.72it/s]"
     ]
    },
    {
     "name": "stdout",
     "output_type": "stream",
     "text": [
      "0.5666666666666667\n"
     ]
    },
    {
     "name": "stderr",
     "output_type": "stream",
     "text": [
      " 41%|████      | 41/100 [00:24<00:34,  1.71it/s]"
     ]
    },
    {
     "name": "stdout",
     "output_type": "stream",
     "text": [
      "0.43333333333333335\n"
     ]
    },
    {
     "name": "stderr",
     "output_type": "stream",
     "text": [
      " 42%|████▏     | 42/100 [00:24<00:34,  1.70it/s]"
     ]
    },
    {
     "name": "stdout",
     "output_type": "stream",
     "text": [
      "0.5\n"
     ]
    },
    {
     "name": "stderr",
     "output_type": "stream",
     "text": [
      " 43%|████▎     | 43/100 [00:25<00:33,  1.71it/s]"
     ]
    },
    {
     "name": "stdout",
     "output_type": "stream",
     "text": [
      "0.5\n"
     ]
    },
    {
     "name": "stderr",
     "output_type": "stream",
     "text": [
      " 44%|████▍     | 44/100 [00:25<00:33,  1.69it/s]"
     ]
    },
    {
     "name": "stdout",
     "output_type": "stream",
     "text": [
      "0.6333333333333333\n"
     ]
    },
    {
     "name": "stderr",
     "output_type": "stream",
     "text": [
      " 45%|████▌     | 45/100 [00:26<00:32,  1.70it/s]"
     ]
    },
    {
     "name": "stdout",
     "output_type": "stream",
     "text": [
      "0.3333333333333333\n"
     ]
    },
    {
     "name": "stderr",
     "output_type": "stream",
     "text": [
      " 46%|████▌     | 46/100 [00:27<00:31,  1.72it/s]"
     ]
    },
    {
     "name": "stdout",
     "output_type": "stream",
     "text": [
      "0.3\n"
     ]
    },
    {
     "name": "stderr",
     "output_type": "stream",
     "text": [
      " 47%|████▋     | 47/100 [00:27<00:30,  1.74it/s]"
     ]
    },
    {
     "name": "stdout",
     "output_type": "stream",
     "text": [
      "0.26666666666666666\n"
     ]
    },
    {
     "name": "stderr",
     "output_type": "stream",
     "text": [
      " 48%|████▊     | 48/100 [00:28<00:29,  1.76it/s]"
     ]
    },
    {
     "name": "stdout",
     "output_type": "stream",
     "text": [
      "0.5333333333333333\n"
     ]
    },
    {
     "name": "stderr",
     "output_type": "stream",
     "text": [
      " 49%|████▉     | 49/100 [00:28<00:29,  1.75it/s]"
     ]
    },
    {
     "name": "stdout",
     "output_type": "stream",
     "text": [
      "0.5333333333333333\n"
     ]
    },
    {
     "name": "stderr",
     "output_type": "stream",
     "text": [
      " 50%|█████     | 50/100 [00:29<00:28,  1.78it/s]"
     ]
    },
    {
     "name": "stdout",
     "output_type": "stream",
     "text": [
      "0.4\n"
     ]
    },
    {
     "name": "stderr",
     "output_type": "stream",
     "text": [
      " 51%|█████     | 51/100 [00:29<00:27,  1.79it/s]"
     ]
    },
    {
     "name": "stdout",
     "output_type": "stream",
     "text": [
      "0.4\n"
     ]
    },
    {
     "name": "stderr",
     "output_type": "stream",
     "text": [
      " 52%|█████▏    | 52/100 [00:30<00:26,  1.78it/s]"
     ]
    },
    {
     "name": "stdout",
     "output_type": "stream",
     "text": [
      "0.43333333333333335\n"
     ]
    },
    {
     "name": "stderr",
     "output_type": "stream",
     "text": [
      " 53%|█████▎    | 53/100 [00:30<00:26,  1.79it/s]"
     ]
    },
    {
     "name": "stdout",
     "output_type": "stream",
     "text": [
      "0.5\n"
     ]
    },
    {
     "name": "stderr",
     "output_type": "stream",
     "text": [
      " 54%|█████▍    | 54/100 [00:31<00:27,  1.70it/s]"
     ]
    },
    {
     "name": "stdout",
     "output_type": "stream",
     "text": [
      "0.4\n"
     ]
    },
    {
     "name": "stderr",
     "output_type": "stream",
     "text": [
      " 55%|█████▌    | 55/100 [00:32<00:25,  1.75it/s]"
     ]
    },
    {
     "name": "stdout",
     "output_type": "stream",
     "text": [
      "0.3\n"
     ]
    },
    {
     "name": "stderr",
     "output_type": "stream",
     "text": [
      " 56%|█████▌    | 56/100 [00:32<00:24,  1.77it/s]"
     ]
    },
    {
     "name": "stdout",
     "output_type": "stream",
     "text": [
      "0.26666666666666666\n"
     ]
    },
    {
     "name": "stderr",
     "output_type": "stream",
     "text": [
      " 57%|█████▋    | 57/100 [00:33<00:24,  1.79it/s]"
     ]
    },
    {
     "name": "stdout",
     "output_type": "stream",
     "text": [
      "0.5666666666666667\n"
     ]
    },
    {
     "name": "stderr",
     "output_type": "stream",
     "text": [
      " 58%|█████▊    | 58/100 [00:33<00:23,  1.79it/s]"
     ]
    },
    {
     "name": "stdout",
     "output_type": "stream",
     "text": [
      "0.43333333333333335\n"
     ]
    },
    {
     "name": "stderr",
     "output_type": "stream",
     "text": [
      " 59%|█████▉    | 59/100 [00:34<00:23,  1.76it/s]"
     ]
    },
    {
     "name": "stdout",
     "output_type": "stream",
     "text": [
      "0.3\n"
     ]
    },
    {
     "name": "stderr",
     "output_type": "stream",
     "text": [
      " 60%|██████    | 60/100 [00:34<00:22,  1.76it/s]"
     ]
    },
    {
     "name": "stdout",
     "output_type": "stream",
     "text": [
      "0.4666666666666667\n"
     ]
    },
    {
     "name": "stderr",
     "output_type": "stream",
     "text": [
      " 61%|██████    | 61/100 [00:35<00:22,  1.75it/s]"
     ]
    },
    {
     "name": "stdout",
     "output_type": "stream",
     "text": [
      "0.5333333333333333\n"
     ]
    },
    {
     "name": "stderr",
     "output_type": "stream",
     "text": [
      " 62%|██████▏   | 62/100 [00:36<00:21,  1.76it/s]"
     ]
    },
    {
     "name": "stdout",
     "output_type": "stream",
     "text": [
      "0.5\n"
     ]
    },
    {
     "name": "stderr",
     "output_type": "stream",
     "text": [
      " 63%|██████▎   | 63/100 [00:36<00:21,  1.73it/s]"
     ]
    },
    {
     "name": "stdout",
     "output_type": "stream",
     "text": [
      "0.4666666666666667\n"
     ]
    },
    {
     "name": "stderr",
     "output_type": "stream",
     "text": [
      " 64%|██████▍   | 64/100 [00:37<00:20,  1.72it/s]"
     ]
    },
    {
     "name": "stdout",
     "output_type": "stream",
     "text": [
      "0.23333333333333334\n"
     ]
    },
    {
     "name": "stderr",
     "output_type": "stream",
     "text": [
      " 65%|██████▌   | 65/100 [00:37<00:20,  1.69it/s]"
     ]
    },
    {
     "name": "stdout",
     "output_type": "stream",
     "text": [
      "0.23333333333333334\n"
     ]
    },
    {
     "name": "stderr",
     "output_type": "stream",
     "text": [
      " 66%|██████▌   | 66/100 [00:38<00:19,  1.71it/s]"
     ]
    },
    {
     "name": "stdout",
     "output_type": "stream",
     "text": [
      "0.26666666666666666\n"
     ]
    },
    {
     "name": "stderr",
     "output_type": "stream",
     "text": [
      " 67%|██████▋   | 67/100 [00:39<00:19,  1.71it/s]"
     ]
    },
    {
     "name": "stdout",
     "output_type": "stream",
     "text": [
      "0.26666666666666666\n"
     ]
    },
    {
     "name": "stderr",
     "output_type": "stream",
     "text": [
      " 68%|██████▊   | 68/100 [00:39<00:18,  1.74it/s]"
     ]
    },
    {
     "name": "stdout",
     "output_type": "stream",
     "text": [
      "0.8333333333333334\n"
     ]
    },
    {
     "name": "stderr",
     "output_type": "stream",
     "text": [
      " 69%|██████▉   | 69/100 [00:40<00:17,  1.75it/s]"
     ]
    },
    {
     "name": "stdout",
     "output_type": "stream",
     "text": [
      "0.26666666666666666\n"
     ]
    },
    {
     "name": "stderr",
     "output_type": "stream",
     "text": [
      " 70%|███████   | 70/100 [00:40<00:16,  1.77it/s]"
     ]
    },
    {
     "name": "stdout",
     "output_type": "stream",
     "text": [
      "0.5\n"
     ]
    },
    {
     "name": "stderr",
     "output_type": "stream",
     "text": [
      " 71%|███████   | 71/100 [00:41<00:16,  1.77it/s]"
     ]
    },
    {
     "name": "stdout",
     "output_type": "stream",
     "text": [
      "0.3\n"
     ]
    },
    {
     "name": "stderr",
     "output_type": "stream",
     "text": [
      " 72%|███████▏  | 72/100 [00:41<00:15,  1.79it/s]"
     ]
    },
    {
     "name": "stdout",
     "output_type": "stream",
     "text": [
      "0.3333333333333333\n"
     ]
    },
    {
     "name": "stderr",
     "output_type": "stream",
     "text": [
      " 73%|███████▎  | 73/100 [00:42<00:14,  1.80it/s]"
     ]
    },
    {
     "name": "stdout",
     "output_type": "stream",
     "text": [
      "0.4666666666666667\n"
     ]
    },
    {
     "name": "stderr",
     "output_type": "stream",
     "text": [
      " 74%|███████▍  | 74/100 [00:42<00:14,  1.79it/s]"
     ]
    },
    {
     "name": "stdout",
     "output_type": "stream",
     "text": [
      "0.5\n"
     ]
    },
    {
     "name": "stderr",
     "output_type": "stream",
     "text": [
      " 75%|███████▌  | 75/100 [00:43<00:13,  1.80it/s]"
     ]
    },
    {
     "name": "stdout",
     "output_type": "stream",
     "text": [
      "0.5333333333333333\n"
     ]
    },
    {
     "name": "stderr",
     "output_type": "stream",
     "text": [
      " 76%|███████▌  | 76/100 [00:44<00:13,  1.79it/s]"
     ]
    },
    {
     "name": "stdout",
     "output_type": "stream",
     "text": [
      "0.13333333333333333\n"
     ]
    },
    {
     "name": "stderr",
     "output_type": "stream",
     "text": [
      " 77%|███████▋  | 77/100 [00:44<00:13,  1.76it/s]"
     ]
    },
    {
     "name": "stdout",
     "output_type": "stream",
     "text": [
      "0.26666666666666666\n"
     ]
    },
    {
     "name": "stderr",
     "output_type": "stream",
     "text": [
      " 78%|███████▊  | 78/100 [00:45<00:12,  1.74it/s]"
     ]
    },
    {
     "name": "stdout",
     "output_type": "stream",
     "text": [
      "0.4666666666666667\n"
     ]
    },
    {
     "name": "stderr",
     "output_type": "stream",
     "text": [
      " 79%|███████▉  | 79/100 [00:45<00:12,  1.74it/s]"
     ]
    },
    {
     "name": "stdout",
     "output_type": "stream",
     "text": [
      "0.4\n"
     ]
    },
    {
     "name": "stderr",
     "output_type": "stream",
     "text": [
      " 80%|████████  | 80/100 [00:46<00:11,  1.75it/s]"
     ]
    },
    {
     "name": "stdout",
     "output_type": "stream",
     "text": [
      "0.43333333333333335\n"
     ]
    },
    {
     "name": "stderr",
     "output_type": "stream",
     "text": [
      " 81%|████████  | 81/100 [00:46<00:11,  1.71it/s]"
     ]
    },
    {
     "name": "stdout",
     "output_type": "stream",
     "text": [
      "0.3333333333333333\n"
     ]
    },
    {
     "name": "stderr",
     "output_type": "stream",
     "text": [
      " 82%|████████▏ | 82/100 [00:47<00:10,  1.73it/s]"
     ]
    },
    {
     "name": "stdout",
     "output_type": "stream",
     "text": [
      "0.43333333333333335\n"
     ]
    },
    {
     "name": "stderr",
     "output_type": "stream",
     "text": [
      " 83%|████████▎ | 83/100 [00:48<00:09,  1.72it/s]"
     ]
    },
    {
     "name": "stdout",
     "output_type": "stream",
     "text": [
      "0.43333333333333335\n"
     ]
    },
    {
     "name": "stderr",
     "output_type": "stream",
     "text": [
      " 84%|████████▍ | 84/100 [00:48<00:09,  1.72it/s]"
     ]
    },
    {
     "name": "stdout",
     "output_type": "stream",
     "text": [
      "0.5333333333333333\n"
     ]
    },
    {
     "name": "stderr",
     "output_type": "stream",
     "text": [
      " 85%|████████▌ | 85/100 [00:49<00:08,  1.73it/s]"
     ]
    },
    {
     "name": "stdout",
     "output_type": "stream",
     "text": [
      "0.43333333333333335\n"
     ]
    },
    {
     "name": "stderr",
     "output_type": "stream",
     "text": [
      " 86%|████████▌ | 86/100 [00:49<00:07,  1.76it/s]"
     ]
    },
    {
     "name": "stdout",
     "output_type": "stream",
     "text": [
      "0.5\n"
     ]
    },
    {
     "name": "stderr",
     "output_type": "stream",
     "text": [
      " 87%|████████▋ | 87/100 [00:50<00:07,  1.77it/s]"
     ]
    },
    {
     "name": "stdout",
     "output_type": "stream",
     "text": [
      "0.36666666666666664\n"
     ]
    },
    {
     "name": "stderr",
     "output_type": "stream",
     "text": [
      " 88%|████████▊ | 88/100 [00:50<00:06,  1.77it/s]"
     ]
    },
    {
     "name": "stdout",
     "output_type": "stream",
     "text": [
      "0.4666666666666667\n"
     ]
    },
    {
     "name": "stderr",
     "output_type": "stream",
     "text": [
      " 89%|████████▉ | 89/100 [00:51<00:06,  1.78it/s]"
     ]
    },
    {
     "name": "stdout",
     "output_type": "stream",
     "text": [
      "0.43333333333333335\n"
     ]
    },
    {
     "name": "stderr",
     "output_type": "stream",
     "text": [
      " 90%|█████████ | 90/100 [00:52<00:05,  1.79it/s]"
     ]
    },
    {
     "name": "stdout",
     "output_type": "stream",
     "text": [
      "0.36666666666666664\n"
     ]
    },
    {
     "name": "stderr",
     "output_type": "stream",
     "text": [
      " 91%|█████████ | 91/100 [00:52<00:05,  1.80it/s]"
     ]
    },
    {
     "name": "stdout",
     "output_type": "stream",
     "text": [
      "0.5\n"
     ]
    },
    {
     "name": "stderr",
     "output_type": "stream",
     "text": [
      " 92%|█████████▏| 92/100 [00:53<00:04,  1.76it/s]"
     ]
    },
    {
     "name": "stdout",
     "output_type": "stream",
     "text": [
      "0.36666666666666664\n"
     ]
    },
    {
     "name": "stderr",
     "output_type": "stream",
     "text": [
      " 93%|█████████▎| 93/100 [00:53<00:03,  1.77it/s]"
     ]
    },
    {
     "name": "stdout",
     "output_type": "stream",
     "text": [
      "0.36666666666666664\n"
     ]
    },
    {
     "name": "stderr",
     "output_type": "stream",
     "text": [
      " 94%|█████████▍| 94/100 [00:54<00:03,  1.77it/s]"
     ]
    },
    {
     "name": "stdout",
     "output_type": "stream",
     "text": [
      "0.6666666666666666\n"
     ]
    },
    {
     "name": "stderr",
     "output_type": "stream",
     "text": [
      " 95%|█████████▌| 95/100 [00:54<00:02,  1.76it/s]"
     ]
    },
    {
     "name": "stdout",
     "output_type": "stream",
     "text": [
      "0.5333333333333333\n"
     ]
    },
    {
     "name": "stderr",
     "output_type": "stream",
     "text": [
      " 96%|█████████▌| 96/100 [00:55<00:02,  1.76it/s]"
     ]
    },
    {
     "name": "stdout",
     "output_type": "stream",
     "text": [
      "0.5333333333333333\n"
     ]
    },
    {
     "name": "stderr",
     "output_type": "stream",
     "text": [
      " 97%|█████████▋| 97/100 [00:56<00:01,  1.78it/s]"
     ]
    },
    {
     "name": "stdout",
     "output_type": "stream",
     "text": [
      "0.5\n"
     ]
    },
    {
     "name": "stderr",
     "output_type": "stream",
     "text": [
      " 98%|█████████▊| 98/100 [00:56<00:01,  1.78it/s]"
     ]
    },
    {
     "name": "stdout",
     "output_type": "stream",
     "text": [
      "0.4\n"
     ]
    },
    {
     "name": "stderr",
     "output_type": "stream",
     "text": [
      " 99%|█████████▉| 99/100 [00:57<00:00,  1.76it/s]"
     ]
    },
    {
     "name": "stdout",
     "output_type": "stream",
     "text": [
      "0.5\n"
     ]
    },
    {
     "name": "stderr",
     "output_type": "stream",
     "text": [
      "100%|██████████| 100/100 [00:57<00:00,  1.73it/s]"
     ]
    },
    {
     "name": "stdout",
     "output_type": "stream",
     "text": [
      "0.4\n"
     ]
    },
    {
     "name": "stderr",
     "output_type": "stream",
     "text": [
      "\n"
     ]
    },
    {
     "data": {
      "text/plain": [
       "array([0.999994, 0.999996, 0.99999 , 0.999952, 0.999822, 0.999214,\n",
       "       0.996428, 0.987802, 0.97883 , 0.980886])"
      ]
     },
     "execution_count": 13,
     "metadata": {},
     "output_type": "execute_result"
    }
   ],
   "source": [
    "compute_deltas(30, Q=30, conf_level=0.01, eps=1, K=10)"
   ]
  },
  {
   "cell_type": "code",
   "execution_count": 77,
   "id": "9fc913d1-f8c0-4d56-a0b2-41a3b37e77ad",
   "metadata": {
    "tags": []
   },
   "outputs": [
    {
     "name": "stdout",
     "output_type": "stream",
     "text": [
      "0 0.044 0.44 0.0010000000000000009\n",
      "[0.   0.   0.   0.   0.   0.   0.   0.06 0.36 0.02]\n",
      "[0.991 0.991 0.991 0.991 0.991 0.991 0.991 0.989 0.989 0.991]\n",
      "5 0.022 0.22 0.004200000000000004\n",
      "[0.   0.   0.   0.   0.   0.   0.   0.04 0.16 0.02]\n",
      "[0.996 0.996 0.996 0.996 0.996 0.996 0.996 0.988 0.984 0.992]\n",
      "10 2.586 25.86 0.0033600000000000075\n",
      "[13.86  6.76  2.66  1.08  0.78  0.44  0.    0.08  0.16  0.04]\n",
      "[0.9999 0.9999 0.9999 0.9999 0.9999 0.9999 0.9961 0.9899 0.9799 0.9879]\n",
      "15 0.044 0.44 0.00023999999999997358\n",
      "[0.   0.   0.   0.02 0.06 0.02 0.02 0.02 0.18 0.12]\n",
      "[1.     1.     1.     1.     0.9998 0.9996 0.9964 0.9896 0.9794 0.9874]\n",
      "20 2.468 24.68 0.00014399999999996637\n",
      "[14.    6.62  2.68  1.04  0.02  0.02  0.04  0.02  0.22  0.02]\n",
      "[0.99999 0.99999 0.99999 0.99999 0.99981 0.99941 0.99679 0.98961 0.97899\n",
      " 0.98701]\n",
      "25 0.026 0.26 2.3999999999890774e-05\n",
      "[0.   0.   0.02 0.   0.02 0.02 0.   0.04 0.12 0.04]\n",
      "[1.      1.      1.      0.99996 0.99984 0.9994  0.9968  0.98958 0.97894\n",
      " 0.98696]\n",
      "30 2.352 23.52 1.8599999999935336e-05\n",
      "[13.86  6.78  2.52  0.    0.06  0.06  0.02  0.04  0.1   0.08]\n",
      "[0.999999 0.999999 0.999999 0.999941 0.999839 0.999379 0.996781 0.989539\n",
      " 0.978899 0.986919]\n",
      "35 0.04 0.4 2.6000000000747647e-06\n",
      "[0.02 0.02 0.04 0.   0.06 0.   0.   0.02 0.2  0.04]\n",
      "[0.999996 0.999996 0.999994 0.999944 0.999838 0.999378 0.996782 0.98954\n",
      " 0.978894 0.986916]\n",
      "40 0.048 0.48 2.800000000080516e-06\n",
      "[0.06 0.02 0.02 0.04 0.   0.02 0.04 0.06 0.16 0.06]\n",
      "[0.999995 0.999997 0.999991 0.999943 0.999839 0.999383 0.996781 0.989535\n",
      " 0.978889 0.986911]\n",
      "45 0.09 0.9 1.8000000000517602e-06\n",
      "[0.36 0.1  0.02 0.04 0.02 0.06 0.   0.02 0.18 0.1 ]\n",
      "[0.999996 0.999996 0.999992 0.999944 0.99984  0.999382 0.99678  0.989536\n",
      " 0.978884 0.986906]\n",
      "115 0.028 0.28 1.8000000000517602e-06\n",
      "[0.   0.02 0.   0.02 0.   0.02 0.02 0.02 0.1  0.08]\n",
      "[0.999996 0.999998 0.999992 0.999956 0.999858 0.999378 0.996786 0.989524\n",
      " 0.978814 0.986846]\n",
      "120 0.048 0.48 2.2000000000632625e-06\n",
      "[0.08 0.   0.   0.04 0.06 0.06 0.   0.   0.14 0.1 ]\n",
      "[0.999995 0.999997 0.999991 0.999955 0.999857 0.999377 0.996789 0.989521\n",
      " 0.978809 0.986841]\n",
      "125 0.054 0.54 2.800000000080516e-06\n",
      "[0.   0.06 0.04 0.02 0.02 0.02 0.02 0.06 0.22 0.08]\n",
      "[0.999996 0.999996 0.999992 0.999956 0.999862 0.99938  0.996792 0.989518\n",
      " 0.978804 0.986836]\n",
      "130 0.062 0.62 2.800000000080516e-06\n",
      "[0.   0.04 0.   0.06 0.1  0.08 0.08 0.04 0.12 0.1 ]\n",
      "[0.999995 0.999995 0.999993 0.999957 0.999857 0.999377 0.996787 0.989519\n",
      " 0.978799 0.986831]\n",
      "135 0.036 0.36 2.6000000000747647e-06\n",
      "[0.02 0.   0.02 0.06 0.02 0.04 0.   0.1  0.06 0.04]\n",
      "[0.999996 0.999996 0.999992 0.99996  0.999854 0.999378 0.99679  0.989514\n",
      " 0.978794 0.986828]\n",
      "140 0.048 0.48 2.0000000000575113e-06\n",
      "[0.04 0.   0.02 0.04 0.   0.06 0.02 0.1  0.1  0.1 ]\n",
      "[0.999995 0.999997 0.999993 0.999959 0.999855 0.999377 0.996793 0.989513\n",
      " 0.978789 0.986823]\n",
      "145 0.044 0.44 2.4000000000690136e-06\n",
      "[0.02 0.08 0.02 0.   0.02 0.04 0.02 0.02 0.16 0.06]\n",
      "[0.999996 0.999996 0.999994 0.999962 0.99986  0.999374 0.996794 0.989514\n",
      " 0.978784 0.98682 ]\n",
      "150 0.06 0.6 2.6000000000747647e-06\n",
      "[0.   0.   0.04 0.1  0.02 0.04 0.08 0.08 0.16 0.08]\n",
      "[0.999995 0.999995 0.999991 0.999959 0.999861 0.999371 0.996793 0.989511\n",
      " 0.978779 0.986815]\n",
      "155 0.066 0.66 2.0000000000575113e-06\n",
      "[0.1  0.04 0.02 0.06 0.08 0.02 0.04 0.06 0.2  0.04]\n",
      "[0.999994 0.999996 0.999992 0.99996  0.99986  0.999374 0.996792 0.98951\n",
      " 0.978774 0.98681 ]\n",
      "160 0.052 0.52 2.2000000000632625e-06\n",
      "[0.1  0.02 0.   0.02 0.02 0.02 0.02 0.08 0.14 0.1 ]\n",
      "[0.999995 0.999997 0.999991 0.999961 0.999861 0.999375 0.996795 0.989507\n",
      " 0.978769 0.986805]\n",
      "165 0.052 0.52 2.800000000080516e-06\n",
      "[0.   0.   0.04 0.06 0.04 0.02 0.   0.06 0.12 0.18]\n",
      "[0.999996 0.999996 0.999992 0.999962 0.999856 0.999372 0.996798 0.989504\n",
      " 0.978764 0.9868  ]\n",
      "170 0.058 0.58 2.6000000000747647e-06\n",
      "[0.   0.   0.02 0.16 0.04 0.02 0.06 0.12 0.08 0.08]\n",
      "[0.999995 0.999997 0.999991 0.999959 0.999855 0.999375 0.996795 0.989501\n",
      " 0.978759 0.986795]\n",
      "175 0.044 0.44 2.2000000000632625e-06\n",
      "[0.   0.04 0.   0.02 0.   0.02 0.04 0.02 0.2  0.1 ]\n",
      "[0.999996 0.999996 0.99999  0.999958 0.999858 0.999376 0.996798 0.989502\n",
      " 0.978754 0.98679 ]\n",
      "180 0.048 0.48 1.600000000046009e-06\n",
      "[0.   0.1  0.04 0.08 0.06 0.04 0.   0.04 0.08 0.04]\n",
      "[0.999995 0.999997 0.999989 0.999957 0.999857 0.999375 0.996801 0.989501\n",
      " 0.978749 0.986789]\n",
      "185 0.068 0.68 2.2000000000632625e-06\n",
      "[0.04 0.08 0.   0.02 0.02 0.08 0.02 0.08 0.24 0.1 ]\n",
      "[0.999994 0.999996 0.999992 0.999958 0.999856 0.99937  0.996802 0.9895\n",
      " 0.978744 0.986786]\n",
      "190 0.056 0.56 2.0000000000575113e-06\n",
      "[0.02 0.02 0.04 0.12 0.   0.04 0.04 0.04 0.14 0.1 ]\n",
      "[0.999995 0.999997 0.999991 0.999959 0.999857 0.999365 0.996803 0.989499\n",
      " 0.978739 0.986783]\n",
      "195 0.066 0.66 2.800000000080516e-06\n",
      "[0.06 0.02 0.02 0.06 0.   0.02 0.08 0.04 0.24 0.12]\n",
      "[0.999994 0.999996 0.99999  0.999954 0.999858 0.999368 0.996804 0.989494\n",
      " 0.978734 0.986778]\n",
      "200 0.05 0.5 1.8000000000517602e-06\n",
      "[0.04 0.   0.02 0.04 0.02 0.   0.06 0.08 0.18 0.06]\n",
      "[0.999995 0.999997 0.999991 0.999953 0.999855 0.999369 0.996803 0.989493\n",
      " 0.978729 0.986775]\n",
      "205 0.05 0.5 2.800000000080516e-06\n",
      "[0.06 0.   0.02 0.04 0.   0.02 0.04 0.04 0.18 0.1 ]\n",
      "[0.999994 0.999996 0.999994 0.999956 0.999856 0.99937  0.9968   0.989488\n",
      " 0.978724 0.98677 ]\n",
      "210 0.036 0.36 1.600000000046009e-06\n",
      "[0.   0.   0.   0.04 0.   0.06 0.   0.   0.2  0.06]\n",
      "[0.999995 0.999997 0.999993 0.999957 0.999859 0.999371 0.996801 0.989489\n",
      " 0.978719 0.986769]\n",
      "215 0.058 0.58 2.6000000000747647e-06\n",
      "[0.04 0.   0.06 0.02 0.08 0.   0.02 0.08 0.18 0.1 ]\n",
      "[0.999994 0.999996 0.99999  0.99996  0.999858 0.999368 0.996802 0.989484\n",
      " 0.978714 0.986766]\n",
      "220 0.032 0.32 2.0000000000575113e-06\n",
      "[0.   0.02 0.   0.02 0.04 0.02 0.   0.04 0.14 0.04]\n",
      "[0.999995 0.999997 0.999991 0.999961 0.999857 0.999369 0.996801 0.989481\n",
      " 0.978709 0.986761]\n",
      "225 0.052 0.52 2.2000000000632625e-06\n",
      "[0.02 0.02 0.02 0.04 0.02 0.02 0.   0.04 0.18 0.16]\n",
      "[0.999994 0.999996 0.999994 0.999962 0.99986  0.999368 0.996802 0.989478\n",
      " 0.978704 0.986758]\n",
      "230 0.052 0.52 2.0000000000575113e-06\n",
      "[0.   0.02 0.06 0.04 0.04 0.04 0.02 0.06 0.22 0.02]\n",
      "[0.999995 0.999997 0.999991 0.999963 0.999857 0.999367 0.996803 0.989477\n",
      " 0.978699 0.986755]\n",
      "235 0.052 0.52 2.6000000000747647e-06\n",
      "[0.06 0.   0.04 0.08 0.02 0.02 0.04 0.06 0.16 0.04]\n",
      "[0.999994 0.999996 0.99999  0.999962 0.99986  0.999372 0.996804 0.98948\n",
      " 0.978694 0.98675 ]\n",
      "240 0.088 0.88 2.6000000000747647e-06\n",
      "[0.1  0.28 0.02 0.08 0.   0.04 0.06 0.02 0.18 0.1 ]\n",
      "[0.999995 0.999997 0.999993 0.999959 0.999861 0.999369 0.996805 0.989477\n",
      " 0.978689 0.986745]\n",
      "245 0.056 0.56 2.4000000000690136e-06\n",
      "[0.04 0.02 0.02 0.06 0.02 0.08 0.   0.06 0.14 0.12]\n",
      "[0.999994 0.999996 0.999992 0.999958 0.999862 0.999364 0.996808 0.989476\n",
      " 0.978684 0.98674 ]\n",
      "250 0.058 0.58 2.0000000000575113e-06\n",
      "[0.04 0.04 0.06 0.06 0.06 0.04 0.06 0.02 0.16 0.04]\n",
      "[0.999995 0.999995 0.999991 0.999957 0.999861 0.999365 0.996805 0.989475\n",
      " 0.978679 0.986735]\n",
      "255 0.054 0.54 2.0000000000575113e-06\n",
      "[0.02 0.06 0.06 0.02 0.04 0.04 0.02 0.04 0.2  0.04]\n",
      "[0.999996 0.999996 0.999994 0.999958 0.999858 0.999366 0.996806 0.989474\n",
      " 0.978674 0.986732]\n",
      "260 0.064 0.64 2.2000000000632625e-06\n",
      "[0.14 0.04 0.04 0.   0.06 0.   0.   0.06 0.28 0.02]\n",
      "[0.999995 0.999995 0.999991 0.999959 0.999857 0.999365 0.996809 0.989471\n",
      " 0.978669 0.986729]\n",
      "265 0.05 0.5 2.4000000000690136e-06\n",
      "[0.04 0.06 0.02 0.04 0.08 0.   0.06 0.   0.14 0.06]\n",
      "[0.999994 0.999996 0.99999  0.999954 0.999854 0.999364 0.996804 0.98947\n",
      " 0.978664 0.986728]\n",
      "270 0.056 0.56 2.2000000000632625e-06\n",
      "[0.04 0.02 0.1  0.02 0.04 0.   0.12 0.04 0.1  0.08]\n",
      "[0.999993 0.999997 0.999991 0.999955 0.999851 0.999363 0.996805 0.989467\n",
      " 0.978659 0.986723]\n",
      "275 0.054 0.54 1.8000000000517602e-06\n",
      "[0.   0.06 0.02 0.02 0.   0.   0.02 0.02 0.28 0.12]\n",
      "[0.999994 0.999996 0.999992 0.999958 0.99985  0.999364 0.996804 0.989466\n",
      " 0.978654 0.98672 ]\n",
      "280 0.056 0.56 2.0000000000575113e-06\n",
      "[0.02 0.06 0.02 0.04 0.   0.08 0.06 0.04 0.16 0.08]\n",
      "[0.999995 0.999995 0.999993 0.999959 0.999849 0.999363 0.996805 0.989463\n",
      " 0.978649 0.986715]\n",
      "285 0.054 0.54 1.8000000000517602e-06\n",
      "[0.   0.12 0.08 0.04 0.   0.02 0.06 0.02 0.12 0.08]\n",
      "[0.999996 0.999996 0.999992 0.999958 0.99985  0.999366 0.996804 0.989462\n",
      " 0.978644 0.986712]\n",
      "290 0.054 0.54 2.2000000000632625e-06\n",
      "[0.   0.1  0.   0.04 0.04 0.02 0.02 0.08 0.2  0.04]\n",
      "[0.999995 0.999995 0.999993 0.999957 0.999853 0.999369 0.996803 0.989459\n",
      " 0.978639 0.986709]\n",
      "295 0.06 0.6 1.8000000000517602e-06\n",
      "[0.04 0.08 0.04 0.   0.06 0.02 0.06 0.04 0.18 0.08]\n",
      "[0.999994 0.999996 0.999992 0.999958 0.999854 0.99937  0.996802 0.989458\n",
      " 0.978634 0.986704]\n",
      "300 0.072 0.72 2.4000000000690136e-06\n",
      "[0.12 0.04 0.1  0.04 0.   0.04 0.02 0.1  0.18 0.08]\n",
      "[0.999995 0.999995 0.999991 0.999957 0.999853 0.999373 0.996805 0.989455\n",
      " 0.978629 0.986699]\n",
      "305 0.046 0.46 3.200000000092018e-06\n",
      "[0.02 0.   0.04 0.02 0.04 0.06 0.02 0.08 0.08 0.1 ]\n",
      "[0.999996 0.999996 0.999986 0.999956 0.99985  0.999376 0.99681  0.98945\n",
      " 0.978624 0.986696]\n",
      "310 0.052 0.52 2.6000000000747647e-06\n",
      "[0.   0.   0.   0.   0.   0.02 0.04 0.1  0.24 0.12]\n",
      "[0.999995 0.999997 0.999989 0.999959 0.999851 0.999379 0.996807 0.989447\n",
      " 0.978619 0.986693]\n",
      "315 0.044 0.44 2.800000000080516e-06\n",
      "[0.02 0.02 0.   0.04 0.08 0.04 0.06 0.04 0.12 0.02]\n",
      "[0.999996 0.999996 0.999994 0.999956 0.999848 0.999376 0.996804 0.989444\n",
      " 0.978614 0.986692]\n",
      "320 0.072 0.72 2.4000000000690136e-06\n",
      "[0.04 0.02 0.06 0.06 0.02 0.12 0.02 0.04 0.26 0.08]\n",
      "[0.999993 0.999997 0.999991 0.999957 0.999851 0.999375 0.996805 0.989441\n",
      " 0.978609 0.986689]\n",
      "325 0.036 0.36 3.000000000086267e-06\n",
      "[0.   0.02 0.   0.   0.04 0.04 0.04 0.   0.18 0.04]\n",
      "[0.999996 0.999998 0.999994 0.99996  0.999854 0.999374 0.996804 0.989446\n",
      " 0.978604 0.986684]\n",
      "330 0.05 0.5 2.4000000000690136e-06\n",
      "[0.1  0.02 0.04 0.02 0.02 0.02 0.02 0.04 0.16 0.06]\n",
      "[0.999995 0.999995 0.999991 0.999961 0.999853 0.999375 0.996809 0.989447\n",
      " 0.978599 0.986681]\n",
      "335 0.078 0.78 2.4000000000690136e-06\n",
      "[0.06 0.04 0.06 0.1  0.06 0.04 0.02 0.06 0.2  0.14]\n",
      "[0.999994 0.999996 0.99999  0.999958 0.999852 0.999376 0.99681  0.989442\n",
      " 0.978594 0.986676]\n",
      "340 0.042 0.42 2.2000000000632625e-06\n",
      "[0.02 0.02 0.02 0.02 0.04 0.06 0.02 0.06 0.12 0.04]\n",
      "[0.999995 0.999997 0.999991 0.999957 0.999849 0.999373 0.996811 0.989439\n",
      " 0.978589 0.986673]\n",
      "345 0.062 0.62 2.0000000000575113e-06\n",
      "[0.02 0.06 0.14 0.04 0.1  0.   0.02 0.02 0.16 0.06]\n",
      "[0.999996 0.999996 0.999992 0.999958 0.99985  0.999376 0.99681  0.989438\n",
      " 0.978584 0.986668]\n",
      "350 0.092 0.92 1.8000000000517602e-06\n",
      "[0.1  0.24 0.02 0.04 0.06 0.06 0.08 0.04 0.2  0.08]\n",
      "[0.999995 0.999997 0.999991 0.999957 0.999847 0.999377 0.996807 0.989439\n",
      " 0.978579 0.986667]\n",
      "355 0.072 0.72 2.4000000000690136e-06\n",
      "[0.06 0.12 0.02 0.04 0.   0.08 0.08 0.06 0.2  0.06]\n",
      "[0.999994 0.999996 0.99999  0.999956 0.999848 0.999374 0.99681  0.989434\n",
      " 0.978574 0.986664]\n",
      "360 0.068 0.68 2.4000000000690136e-06\n",
      "[0.06 0.02 0.04 0.02 0.02 0.04 0.02 0.1  0.28 0.08]\n",
      "[0.999993 0.999997 0.999991 0.999957 0.999851 0.999373 0.996807 0.989431\n",
      " 0.978569 0.986659]\n",
      "365 0.062 0.62 1.8000000000517602e-06\n",
      "[0.02 0.08 0.08 0.06 0.02 0.08 0.04 0.   0.18 0.06]\n",
      "[0.999996 0.999996 0.999992 0.999956 0.999852 0.999374 0.996808 0.989432\n",
      " 0.978564 0.986656]\n",
      "370 0.034 0.34 1.8000000000517602e-06\n",
      "[0.02 0.04 0.04 0.06 0.   0.02 0.   0.   0.08 0.08]\n",
      "[0.999995 0.999995 0.999989 0.999955 0.999855 0.999375 0.996807 0.989431\n",
      " 0.978559 0.986655]\n",
      "375 0.054 0.54 2.4000000000690136e-06\n",
      "[0.   0.02 0.04 0.   0.02 0.02 0.04 0.06 0.2  0.14]\n",
      "[0.999994 0.999996 0.999992 0.999954 0.999856 0.999374 0.99681  0.989428\n",
      " 0.978554 0.98665 ]\n",
      "380 0.034 0.34 2.2000000000632625e-06\n",
      "[0.   0.   0.   0.   0.04 0.   0.08 0.06 0.1  0.06]\n",
      "[0.999995 0.999997 0.999991 0.999955 0.999853 0.999373 0.996809 0.989425\n",
      " 0.978549 0.986645]\n",
      "385 0.044 0.44 2.2000000000632625e-06\n",
      "[0.   0.02 0.04 0.02 0.04 0.06 0.08 0.   0.12 0.06]\n",
      "[0.999996 0.999996 0.99999  0.999958 0.999852 0.99937  0.996808 0.989422\n",
      " 0.978544 0.986642]\n",
      "390 0.054 0.54 2.0000000000575113e-06\n",
      "[0.   0.04 0.1  0.06 0.06 0.04 0.04 0.04 0.14 0.02]\n",
      "[0.999995 0.999995 0.999991 0.999955 0.999853 0.999369 0.996807 0.989419\n",
      " 0.978539 0.986639]\n",
      "395 0.048 0.48 2.2000000000632625e-06\n",
      "[0.04 0.02 0.   0.04 0.   0.04 0.06 0.06 0.16 0.06]\n",
      "[0.999994 0.999996 0.999988 0.999954 0.999852 0.999368 0.996804 0.989418\n",
      " 0.978534 0.986634]\n",
      "400 0.054 0.54 2.4000000000690136e-06\n",
      "[0.   0.06 0.04 0.02 0.04 0.06 0.04 0.08 0.12 0.08]\n",
      "[0.999995 0.999995 0.999989 0.999951 0.999849 0.999367 0.996805 0.989415\n",
      " 0.978529 0.986629]\n",
      "405 0.028 0.28 2.800000000080516e-06\n",
      "[0.   0.02 0.02 0.   0.02 0.04 0.   0.04 0.12 0.02]\n",
      "[0.999996 0.999998 0.99999  0.99995  0.999854 0.999364 0.996806 0.98941\n",
      " 0.978524 0.986626]\n",
      "410 0.05 0.5 2.6000000000747647e-06\n",
      "[0.   0.   0.08 0.   0.   0.08 0.02 0.04 0.14 0.14]\n",
      "[0.999995 0.999997 0.999993 0.999953 0.999851 0.999365 0.996807 0.989407\n",
      " 0.978519 0.986621]\n",
      "415 0.064 0.64 1.8000000000517602e-06\n",
      "[0.06 0.06 0.08 0.02 0.04 0.04 0.   0.06 0.26 0.02]\n",
      "[0.999994 0.999996 0.999992 0.999954 0.999854 0.999364 0.996806 0.989406\n",
      " 0.978514 0.986618]\n",
      "420 0.108 1.08 2.4000000000690136e-06\n",
      "[0.14 0.26 0.14 0.04 0.02 0.1  0.12 0.04 0.16 0.06]\n",
      "[0.999995 0.999997 0.999991 0.999955 0.999855 0.999365 0.996803 0.989401\n",
      " 0.978509 0.986613]\n",
      "425 0.062 0.62 2.0000000000575113e-06\n",
      "[0.   0.1  0.06 0.02 0.   0.02 0.02 0.04 0.32 0.04]\n",
      "[0.999996 0.999996 0.99999  0.999956 0.999858 0.999364 0.996804 0.989404\n",
      " 0.978504 0.98661 ]\n",
      "430 0.076 0.76 2.2000000000632625e-06\n",
      "[0.06 0.16 0.12 0.12 0.   0.   0.02 0.04 0.18 0.06]\n",
      "[0.999995 0.999997 0.999993 0.999957 0.999857 0.999367 0.996805 0.989403\n",
      " 0.978499 0.986605]\n",
      "435 0.038 0.38 2.0000000000575113e-06\n",
      "[0.04 0.02 0.02 0.02 0.02 0.   0.04 0.04 0.06 0.12]\n",
      "[0.999994 0.999998 0.999994 0.999958 0.999856 0.99937  0.996804 0.989402\n",
      " 0.978494 0.9866  ]\n",
      "440 0.062 0.62 2.800000000080516e-06\n",
      "[0.1  0.04 0.04 0.06 0.04 0.04 0.   0.   0.26 0.04]\n",
      "[0.999995 0.999995 0.999993 0.999957 0.999851 0.999369 0.996807 0.989399\n",
      " 0.978489 0.986595]\n",
      "445 0.05 0.5 2.2000000000632625e-06\n",
      "[0.02 0.04 0.   0.04 0.04 0.02 0.08 0.04 0.14 0.08]\n",
      "[0.999996 0.999996 0.999994 0.999954 0.99985  0.999368 0.996806 0.989396\n",
      " 0.978484 0.98659 ]\n",
      "450 0.052 0.52 1.600000000046009e-06\n",
      "[0.06 0.02 0.06 0.   0.   0.06 0.04 0.06 0.14 0.08]\n",
      "[0.999995 0.999997 0.999993 0.999955 0.999851 0.999367 0.996805 0.989397\n",
      " 0.978479 0.986587]\n",
      "455 0.074 0.74 1.600000000046009e-06\n",
      "[0.24 0.08 0.   0.06 0.04 0.06 0.04 0.04 0.12 0.06]\n",
      "[0.999996 0.999996 0.999994 0.999954 0.99985  0.999366 0.996804 0.989398\n",
      " 0.978474 0.986584]\n",
      "460 0.038 0.38 2.4000000000690136e-06\n",
      "[0.   0.02 0.04 0.06 0.   0.   0.02 0.06 0.12 0.06]\n",
      "[0.999995 0.999997 0.999995 0.999953 0.999853 0.999367 0.996807 0.989393\n",
      " 0.978469 0.986581]\n",
      "465 0.06 0.6 2.0000000000575113e-06\n",
      "[0.04 0.06 0.06 0.04 0.08 0.04 0.02 0.02 0.12 0.12]\n",
      "[0.999994 0.999996 0.999992 0.999954 0.999854 0.999366 0.996808 0.989394\n",
      " 0.978464 0.986576]\n",
      "470 0.042 0.42 2.2000000000632625e-06\n",
      "[0.06 0.   0.1  0.   0.02 0.02 0.08 0.   0.08 0.06]\n",
      "[0.999995 0.999997 0.999989 0.999951 0.999857 0.999369 0.996807 0.989393\n",
      " 0.978459 0.986575]\n",
      "475 0.058 0.58 2.4000000000690136e-06\n",
      "[0.02 0.1  0.02 0.06 0.   0.02 0.08 0.08 0.12 0.08]\n",
      "[0.999996 0.999996 0.999988 0.999952 0.99986  0.999368 0.99681  0.98939\n",
      " 0.978454 0.98657 ]\n",
      "480 0.056 0.56 3.000000000086267e-06\n",
      "[0.04 0.02 0.02 0.   0.   0.06 0.06 0.06 0.18 0.12]\n",
      "[0.999995 0.999997 0.999991 0.999955 0.999863 0.999365 0.996809 0.989385\n",
      " 0.978449 0.986565]\n",
      "485 0.044 0.44 2.2000000000632625e-06\n",
      "[0.02 0.04 0.04 0.04 0.02 0.   0.02 0.04 0.2  0.02]\n",
      "[0.999996 0.999996 0.999988 0.999956 0.999864 0.999368 0.996812 0.989386\n",
      " 0.978444 0.986562]\n",
      "490 0.076 0.76 2.6000000000747647e-06\n",
      "[0.04 0.2  0.02 0.04 0.02 0.02 0.06 0.08 0.16 0.12]\n",
      "[0.999995 0.999997 0.999991 0.999951 0.999863 0.999365 0.996813 0.989387\n",
      " 0.978439 0.986557]\n",
      "495 0.04 0.4 2.2000000000632625e-06\n",
      "[0.02 0.   0.08 0.   0.02 0.02 0.08 0.   0.16 0.02]\n",
      "[0.999996 0.999996 0.999994 0.99995  0.999864 0.999366 0.99681  0.989384\n",
      " 0.978434 0.986554]\n",
      "500 0.044 0.44 2.2000000000632625e-06\n",
      "[0.02 0.04 0.02 0.   0.   0.   0.04 0.   0.18 0.14]\n",
      "[0.999997 0.999995 0.999993 0.999951 0.999863 0.999365 0.996807 0.989387\n",
      " 0.978429 0.986549]\n",
      "[0.999997 0.999995 0.999993 0.999951 0.999863 0.999365 0.996807 0.989387\n",
      " 0.978429 0.986549]\n"
     ]
    }
   ],
   "source": [
    "K = 10\n",
    "size = 30\n",
    "deltas = (1 - 1e-3) * np.ones(K)\n",
    "deltas = 0.99 * np.ones(K)\n",
    "eps = 1\n",
    "conf_level = 0.01\n",
    "update_ = 1e-3\n",
    "Q = 50\n",
    "\n",
    "prev_deltas = deltas.copy()\n",
    "\n",
    "for i in range(501):\n",
    "    if i == 10:\n",
    "        update_ = 1e-4\n",
    "    if i == 20:\n",
    "        update_ = 1e-5\n",
    "    if i == 30:\n",
    "        update_ = 1e-6\n",
    "    deltas, res_q = update_deltas(deltas, eps, K, size, x_min, y_min, x_max, y_max, update_, Q=Q)\n",
    "    if i % 5 == 0:\n",
    "        diff_delta = np.mean(np.abs(prev_deltas - deltas))\n",
    "        prev_deltas = deltas.copy()\n",
    "        print(i, np.mean(res_q), np.mean(np.sum(res_q, axis=0)), diff_delta)\n",
    "        print(np.mean(res_q, axis=1))\n",
    "        print(deltas)\n",
    "print(deltas)"
   ]
  },
  {
   "cell_type": "code",
   "execution_count": null,
   "id": "6b8e0daa-0a98-435d-91e9-1a1394ffb14d",
   "metadata": {},
   "outputs": [],
   "source": []
  },
  {
   "cell_type": "code",
   "execution_count": null,
   "id": "92b60c7a-14d0-49a9-b9f3-149d11789f84",
   "metadata": {},
   "outputs": [],
   "source": []
  },
  {
   "cell_type": "code",
   "execution_count": 56,
   "id": "da4b1c14-31e8-469a-8433-b05538d01d4f",
   "metadata": {
    "tags": []
   },
   "outputs": [
    {
     "name": "stdout",
     "output_type": "stream",
     "text": [
      "1.0\n",
      "1.0\n",
      "1.0\n",
      "1.0\n",
      "1.0\n",
      "1.0\n",
      "1.0\n",
      "1.0\n",
      "1.0\n",
      "1.0\n",
      "1.0\n",
      "1.0\n",
      "1.0\n",
      "1.0\n",
      "1.0\n",
      "1.0\n",
      "1.0\n",
      "1.0\n",
      "1.0\n",
      "1.0\n",
      "1.0\n",
      "1.0\n",
      "1.0\n",
      "1.0\n",
      "1.0\n",
      "1.0\n",
      "1.0\n",
      "1.0\n",
      "1.0\n",
      "0.9999999911384875\n",
      "0.9999999798208312\n",
      "0.9999999700691523\n",
      "0.9999999875998891\n",
      "0.9999999047643218\n",
      "0.9999998613794215\n",
      "0.9999998451084481\n",
      "0.9999999604144829\n",
      "0.999999981745761\n",
      "0.9999999021206116\n",
      "0.9999998940045819\n",
      "0.9999999082609087\n",
      "0.9999999616894677\n",
      "0.9999999688822109\n",
      "0.9999991706630476\n",
      "0.999999962033505\n",
      "0.9999987211584747\n",
      "0.9999999106375322\n",
      "0.9999986363246771\n",
      "0.9999997891130711\n",
      "0.9999993742809271\n",
      "0.9999998971524051\n",
      "0.9999989742958838\n",
      "0.9999992421055128\n",
      "0.9999842277884835\n",
      "0.9999939208290389\n",
      "0.9998045073352191\n",
      "nan\n"
     ]
    }
   ],
   "source": [
    "res = np.zeros(K, dtype=int)\n",
    "mat, g = build_rand_mat(size - 1, x_min, y_min, x_max, y_max)\n",
    "omega = g.omega\n",
    "V = g.V\n",
    "for i in range(len(mat)):\n",
    "    k = hash_function(int(mat[i, 5]), K, size) \n",
    "    pfa = compute_pfa(mat[i, 4] / omega, V , mat[i,5])\n",
    "    print(pfa)"
   ]
  },
  {
   "cell_type": "code",
   "execution_count": null,
   "id": "b50e021e-cbda-4a3a-a31c-cac4fe8ddd62",
   "metadata": {
    "tags": []
   },
   "outputs": [],
   "source": [
    "K = 10\n",
    "deltas = (1 - 1e-3) * np.ones(K)\n",
    "deltas = 0.98 * np.ones(K)\n",
    "eps = 1\n",
    "conf_level = 0.01\n",
    "update_ = 1e-4\n",
    "Q = 50\n",
    "\n",
    "prev_deltas = deltas.copy()\n",
    "\n",
    "for i in range(5001):\n",
    "    if i == 500:\n",
    "        update_ = 1e-5\n",
    "    deltas, res_q = update_deltas(deltas, eps, mat, K, x_min, y_min, x_max, y_max, update_, Q=Q)\n",
    "    if i % 50 == 0:\n",
    "        diff_delta = np.mean(np.abs(prev_deltas - deltas))\n",
    "        prev_deltas = deltas.copy()\n",
    "        print(i, np.mean(res_q), np.mean(np.sum(res_q, axis=0)), diff_delta)\n",
    "    if i % 200 == 0:\n",
    "        print(deltas)\n",
    "print(deltas)"
   ]
  },
  {
   "cell_type": "code",
   "execution_count": 21,
   "id": "0e7409c3-9f16-425e-92fb-d731ef64a37b",
   "metadata": {
    "tags": []
   },
   "outputs": [
    {
     "name": "stdout",
     "output_type": "stream",
     "text": [
      "0 0.037 0.74\n",
      "50 0.031 0.62\n",
      "100 0.036 0.72\n",
      "150 0.032 0.64\n",
      "200 0.03 0.6\n",
      "250 0.025 0.5\n",
      "300 0.023 0.46\n",
      "350 0.025 0.5\n",
      "400 0.033 0.66\n",
      "450 0.018 0.36\n",
      "500 0.025 0.5\n",
      "550 0.027 0.54\n"
     ]
    },
    {
     "ename": "KeyboardInterrupt",
     "evalue": "",
     "output_type": "error",
     "traceback": [
      "\u001b[0;31m---------------------------------------------------------------------------\u001b[0m",
      "\u001b[0;31mKeyboardInterrupt\u001b[0m                         Traceback (most recent call last)",
      "Cell \u001b[0;32mIn[21], line 9\u001b[0m\n\u001b[1;32m      6\u001b[0m Q \u001b[38;5;241m=\u001b[39m \u001b[38;5;241m50\u001b[39m\n\u001b[1;32m      8\u001b[0m \u001b[38;5;28;01mfor\u001b[39;00m i \u001b[38;5;129;01min\u001b[39;00m \u001b[38;5;28mrange\u001b[39m(\u001b[38;5;241m1001\u001b[39m):\n\u001b[0;32m----> 9\u001b[0m     deltas, res_q \u001b[38;5;241m=\u001b[39m \u001b[43mupdate_deltas\u001b[49m\u001b[43m(\u001b[49m\u001b[43mdeltas\u001b[49m\u001b[43m,\u001b[49m\u001b[43m \u001b[49m\u001b[43meps\u001b[49m\u001b[43m,\u001b[49m\u001b[43m \u001b[49m\u001b[43mmat\u001b[49m\u001b[43m,\u001b[49m\u001b[43m \u001b[49m\u001b[43mK\u001b[49m\u001b[43m,\u001b[49m\u001b[43m \u001b[49m\u001b[43mx_min\u001b[49m\u001b[43m,\u001b[49m\u001b[43m \u001b[49m\u001b[43my_min\u001b[49m\u001b[43m,\u001b[49m\u001b[43m \u001b[49m\u001b[43mx_max\u001b[49m\u001b[43m,\u001b[49m\u001b[43m \u001b[49m\u001b[43my_max\u001b[49m\u001b[43m,\u001b[49m\u001b[43m \u001b[49m\u001b[43mupdate_\u001b[49m\u001b[43m,\u001b[49m\u001b[43m \u001b[49m\u001b[43mQ\u001b[49m\u001b[38;5;241;43m=\u001b[39;49m\u001b[43mQ\u001b[49m\u001b[43m)\u001b[49m\n\u001b[1;32m     10\u001b[0m     \u001b[38;5;28;01mif\u001b[39;00m i \u001b[38;5;241m%\u001b[39m \u001b[38;5;241m50\u001b[39m \u001b[38;5;241m==\u001b[39m \u001b[38;5;241m0\u001b[39m:\n\u001b[1;32m     11\u001b[0m         \u001b[38;5;28mprint\u001b[39m(i, np\u001b[38;5;241m.\u001b[39mmean(res_q), np\u001b[38;5;241m.\u001b[39mmean(np\u001b[38;5;241m.\u001b[39msum(res_q, axis\u001b[38;5;241m=\u001b[39m\u001b[38;5;241m0\u001b[39m)))\n",
      "Cell \u001b[0;32mIn[6], line 10\u001b[0m, in \u001b[0;36mupdate_deltas\u001b[0;34m(deltas, eps, mat, K, x_min, y_min, x_max, y_max, update_, Q)\u001b[0m\n\u001b[1;32m      8\u001b[0m \u001b[38;5;28;01mfor\u001b[39;00m i \u001b[38;5;129;01min\u001b[39;00m \u001b[38;5;28mrange\u001b[39m(\u001b[38;5;28mlen\u001b[39m(mat)):\n\u001b[1;32m      9\u001b[0m     k \u001b[38;5;241m=\u001b[39m \u001b[38;5;28mint\u001b[39m(mat[i, \u001b[38;5;241m5\u001b[39m]) \u001b[38;5;66;03m# hash function pour l'instant c'est juste le nb de sommets \u001b[39;00m\n\u001b[0;32m---> 10\u001b[0m     pfa \u001b[38;5;241m=\u001b[39m \u001b[43mcompute_pfa\u001b[49m\u001b[43m(\u001b[49m\u001b[43mmat\u001b[49m\u001b[43m[\u001b[49m\u001b[43mi\u001b[49m\u001b[43m,\u001b[49m\u001b[43m \u001b[49m\u001b[38;5;241;43m4\u001b[39;49m\u001b[43m]\u001b[49m\u001b[43m \u001b[49m\u001b[38;5;241;43m/\u001b[39;49m\u001b[43m \u001b[49m\u001b[43momega\u001b[49m\u001b[43m,\u001b[49m\u001b[43m \u001b[49m\u001b[43mV\u001b[49m\u001b[43m \u001b[49m\u001b[43m,\u001b[49m\u001b[43m \u001b[49m\u001b[43mk\u001b[49m\u001b[43m)\u001b[49m\n\u001b[1;32m     11\u001b[0m     \u001b[38;5;28;01mif\u001b[39;00m pfa \u001b[38;5;241m<\u001b[39m deltas[k]:\n\u001b[1;32m     12\u001b[0m         res[k] \u001b[38;5;241m+\u001b[39m\u001b[38;5;241m=\u001b[39m \u001b[38;5;241m1\u001b[39m\n",
      "File \u001b[0;32m~/work/Contrario_clustering/utils.py:135\u001b[0m, in \u001b[0;36mcompute_pfa\u001b[0;34m(p, V, V_)\u001b[0m\n\u001b[1;32m    134\u001b[0m \u001b[38;5;28;01mdef\u001b[39;00m \u001b[38;5;21mcompute_pfa\u001b[39m(p, V, V_):\n\u001b[0;32m--> 135\u001b[0m     \u001b[38;5;28;01mreturn\u001b[39;00m \u001b[43mbinom\u001b[49m\u001b[38;5;241;43m.\u001b[39;49m\u001b[43mcdf\u001b[49m\u001b[43m(\u001b[49m\u001b[43mV_\u001b[49m\u001b[43m,\u001b[49m\u001b[43m \u001b[49m\u001b[43mV\u001b[49m\u001b[43m,\u001b[49m\u001b[43m \u001b[49m\u001b[43mp\u001b[49m\u001b[43m)\u001b[49m\n",
      "File \u001b[0;32m/opt/mamba/lib/python3.10/site-packages/scipy/stats/_distn_infrastructure.py:3464\u001b[0m, in \u001b[0;36mrv_discrete.cdf\u001b[0;34m(self, k, *args, **kwds)\u001b[0m\n\u001b[1;32m   3462\u001b[0m cond2 \u001b[38;5;241m=\u001b[39m (k \u001b[38;5;241m>\u001b[39m\u001b[38;5;241m=\u001b[39m _b)\n\u001b[1;32m   3463\u001b[0m cond3 \u001b[38;5;241m=\u001b[39m np\u001b[38;5;241m.\u001b[39misneginf(k)\n\u001b[0;32m-> 3464\u001b[0m cond \u001b[38;5;241m=\u001b[39m cond0 \u001b[38;5;241m&\u001b[39m cond1 \u001b[38;5;241m&\u001b[39m \u001b[43mnp\u001b[49m\u001b[38;5;241;43m.\u001b[39;49m\u001b[43misfinite\u001b[49m\u001b[43m(\u001b[49m\u001b[43mk\u001b[49m\u001b[43m)\u001b[49m\n\u001b[1;32m   3466\u001b[0m output \u001b[38;5;241m=\u001b[39m zeros(shape(cond), \u001b[38;5;124m'\u001b[39m\u001b[38;5;124md\u001b[39m\u001b[38;5;124m'\u001b[39m)\n\u001b[1;32m   3467\u001b[0m place(output, cond2\u001b[38;5;241m*\u001b[39m(cond0 \u001b[38;5;241m==\u001b[39m cond0), \u001b[38;5;241m1.0\u001b[39m)\n",
      "\u001b[0;31mKeyboardInterrupt\u001b[0m: "
     ]
    }
   ],
   "source": [
    "K = 20\n",
    "deltas = (1 - 1e-2) * np.ones(K)\n",
    "eps = 0.1\n",
    "conf_level = 0.05\n",
    "update_ = 1e-5\n",
    "Q = 50\n",
    "\n",
    "for i in range(1001):\n",
    "    deltas, res_q = update_deltas(deltas, eps, mat, K, x_min, y_min, x_max, y_max, update_, Q=Q)\n",
    "    if i % 50 == 0:\n",
    "        print(i, np.mean(res_q), np.mean(np.sum(res_q, axis=0)))\n",
    "print(deltas)"
   ]
  },
  {
   "cell_type": "code",
   "execution_count": 33,
   "id": "5c932914-8a38-45fd-81a8-f8dc8a629c97",
   "metadata": {
    "tags": []
   },
   "outputs": [
    {
     "data": {
      "text/plain": [
       "-1000.0000000000008"
      ]
     },
     "execution_count": 33,
     "metadata": {},
     "output_type": "execute_result"
    }
   ],
   "source": [
    "((1 - 1e-2) - deltas[9]) / update_"
   ]
  },
  {
   "cell_type": "code",
   "execution_count": 48,
   "id": "a66bfc27-7def-4527-a073-88bb5fdade9a",
   "metadata": {
    "tags": []
   },
   "outputs": [
    {
     "data": {
      "text/plain": [
       "0.9999699999999979"
      ]
     },
     "execution_count": 48,
     "metadata": {},
     "output_type": "execute_result"
    }
   ],
   "source": [
    "deltas[2]"
   ]
  },
  {
   "cell_type": "code",
   "execution_count": 16,
   "id": "39b4a8d8-8c91-4942-9318-c7552d078385",
   "metadata": {
    "tags": []
   },
   "outputs": [
    {
     "data": {
      "text/plain": [
       "array([1, 1, 1, 1, 1, 1, 1, 1, 1, 1, 1, 1, 1, 2, 0, 1, 1, 2, 0, 1, 1, 1,\n",
       "       2, 1, 1, 1, 1, 1, 1, 1, 1, 1, 1, 1, 1, 1, 1, 0, 1, 1, 1, 1, 1, 0,\n",
       "       0, 1, 1, 1, 0, 4])"
      ]
     },
     "execution_count": 16,
     "metadata": {},
     "output_type": "execute_result"
    }
   ],
   "source": [
    "np.sum(res_q, axis=0)"
   ]
  },
  {
   "cell_type": "code",
   "execution_count": 11,
   "id": "8aab9df0-848b-4f59-99b0-4e13bdff4632",
   "metadata": {
    "tags": []
   },
   "outputs": [
    {
     "data": {
      "text/plain": [
       "array([False, False,  True,  True, False,  True,  True,  True,  True,\n",
       "       False])"
      ]
     },
     "execution_count": 11,
     "metadata": {},
     "output_type": "execute_result"
    }
   ],
   "source": [
    "s = np.maximum(np.std(res_q, axis=1), 1e-5)\n",
    "m = np.mean(res_q, axis=1)\n",
    "t.cdf((m - eps / K) / s * np.sqrt(Q - 1), Q-1) > conf_level"
   ]
  },
  {
   "cell_type": "code",
   "execution_count": 25,
   "id": "5b28c2ea-0d9b-4c32-8041-3e9540a350b6",
   "metadata": {
    "tags": []
   },
   "outputs": [
    {
     "data": {
      "text/plain": [
       "array([0.98534, 0.98534, 0.98534, 0.98534, 0.9854 , 0.99328, 0.99466,\n",
       "       0.99466, 0.99466, 0.98534])"
      ]
     },
     "execution_count": 25,
     "metadata": {},
     "output_type": "execute_result"
    }
   ],
   "source": [
    "deltas"
   ]
  },
  {
   "cell_type": "code",
   "execution_count": null,
   "id": "7bb18a44-441b-4cd9-8d47-971be11ec618",
   "metadata": {},
   "outputs": [],
   "source": []
  }
 ],
 "metadata": {
  "kernelspec": {
   "display_name": "Python 3 (ipykernel)",
   "language": "python",
   "name": "python3"
  },
  "language_info": {
   "codemirror_mode": {
    "name": "ipython",
    "version": 3
   },
   "file_extension": ".py",
   "mimetype": "text/x-python",
   "name": "python",
   "nbconvert_exporter": "python",
   "pygments_lexer": "ipython3",
   "version": "3.10.9"
  }
 },
 "nbformat": 4,
 "nbformat_minor": 5
}
